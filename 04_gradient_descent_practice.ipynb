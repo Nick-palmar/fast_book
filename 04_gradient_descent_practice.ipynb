{
 "cells": [
  {
   "cell_type": "markdown",
   "metadata": {},
   "source": [
    "## Part 1: First, make a baseline model to determine between 3's and 7's"
   ]
  },
  {
   "cell_type": "code",
   "execution_count": 1,
   "metadata": {},
   "outputs": [],
   "source": [
    "!pip install -Uqq fastbook\n",
    "import fastbook\n",
    "fastbook.setup_book()\n",
    "from fastai.vision.all import *\n",
    "from fastbook import *"
   ]
  },
  {
   "cell_type": "code",
   "execution_count": 2,
   "metadata": {},
   "outputs": [
    {
     "data": {
      "text/plain": [
       "Path('/storage/data/mnist_sample')"
      ]
     },
     "execution_count": 2,
     "metadata": {},
     "output_type": "execute_result"
    }
   ],
   "source": [
    "path = untar_data(URLs.MNIST_SAMPLE)\n",
    "path"
   ]
  },
  {
   "cell_type": "code",
   "execution_count": 3,
   "metadata": {},
   "outputs": [],
   "source": [
    "# Path.BASE_PATH = path"
   ]
  },
  {
   "cell_type": "code",
   "execution_count": 4,
   "metadata": {},
   "outputs": [
    {
     "data": {
      "text/plain": [
       "(#2) [Path('/storage/data/mnist_sample/train/3'),Path('/storage/data/mnist_sample/train/7')]"
      ]
     },
     "execution_count": 4,
     "metadata": {},
     "output_type": "execute_result"
    }
   ],
   "source": [
    "# look inside of the train folder from the path to see what is located inside\n",
    "(path/'train').ls()"
   ]
  },
  {
   "cell_type": "code",
   "execution_count": 5,
   "metadata": {},
   "outputs": [
    {
     "data": {
      "text/plain": [
       "(#6131) [Path('/storage/data/mnist_sample/train/3/55705.png'),Path('/storage/data/mnist_sample/train/3/32379.png'),Path('/storage/data/mnist_sample/train/3/36132.png'),Path('/storage/data/mnist_sample/train/3/50201.png'),Path('/storage/data/mnist_sample/train/3/39704.png'),Path('/storage/data/mnist_sample/train/3/8475.png'),Path('/storage/data/mnist_sample/train/3/5139.png'),Path('/storage/data/mnist_sample/train/3/32610.png'),Path('/storage/data/mnist_sample/train/3/7784.png'),Path('/storage/data/mnist_sample/train/3/45704.png')...]"
      ]
     },
     "execution_count": 5,
     "metadata": {},
     "output_type": "execute_result"
    }
   ],
   "source": [
    "# get the 3s and 7s\n",
    "threes = (path/'train'/'3').ls()\n",
    "threes"
   ]
  },
  {
   "cell_type": "code",
   "execution_count": 6,
   "metadata": {},
   "outputs": [
    {
     "data": {
      "text/plain": [
       "(#6265) [Path('/storage/data/mnist_sample/train/7/23645.png'),Path('/storage/data/mnist_sample/train/7/13644.png'),Path('/storage/data/mnist_sample/train/7/22228.png'),Path('/storage/data/mnist_sample/train/7/2229.png'),Path('/storage/data/mnist_sample/train/7/6064.png'),Path('/storage/data/mnist_sample/train/7/24505.png'),Path('/storage/data/mnist_sample/train/7/26356.png'),Path('/storage/data/mnist_sample/train/7/19987.png'),Path('/storage/data/mnist_sample/train/7/19592.png'),Path('/storage/data/mnist_sample/train/7/49413.png')...]"
      ]
     },
     "execution_count": 6,
     "metadata": {},
     "output_type": "execute_result"
    }
   ],
   "source": [
    "sevens = (path/'train'/'7').ls()\n",
    "sevens"
   ]
  },
  {
   "cell_type": "code",
   "execution_count": 7,
   "metadata": {},
   "outputs": [
    {
     "data": {
      "image/png": "[encoded data removed]",
      "text/plain": [
       "<PIL.PngImagePlugin.PngImageFile image mode=L size=28x28 at 0x7F2980410CD0>"
      ]
     },
     "execution_count": 7,
     "metadata": {},
     "output_type": "execute_result"
    }
   ],
   "source": [
    "# exmaine one of the images\n",
    "example_seven = Image.open(sevens[0])\n",
    "example_seven"
   ]
  },
  {
   "cell_type": "markdown",
   "metadata": {},
   "source": [
    "## Build the baseline model that makes the average 3/7"
   ]
  },
  {
   "cell_type": "code",
   "execution_count": 8,
   "metadata": {},
   "outputs": [],
   "source": [
    "# convert the urls into a list of tensors\n",
    "threes_tensor_list = [tensor(Image.open(three_path)) for three_path in threes]\n"
   ]
  },
  {
   "cell_type": "code",
   "execution_count": 9,
   "metadata": {},
   "outputs": [],
   "source": [
    "sevens_tensor_list = [tensor(Image.open(seven_path)) for seven_path in sevens]"
   ]
  },
  {
   "cell_type": "code",
   "execution_count": 10,
   "metadata": {},
   "outputs": [
    {
     "name": "stdout",
     "output_type": "stream",
     "text": [
      "tensor(True)\n"
     ]
    }
   ],
   "source": [
    "# stack the tensors to create a single 3D tensor\n",
    "threes_tensor = torch.stack(threes_tensor_list)/255\n",
    "threes_tensor_2 = torch.stack(threes_tensor_list).float()/255\n",
    "\n",
    "print((threes_tensor == threes_tensor_2).all())"
   ]
  },
  {
   "cell_type": "code",
   "execution_count": 11,
   "metadata": {},
   "outputs": [],
   "source": [
    "# create single 3 and 7 tensors by stacking the list and convert the values into 0-1 range\n",
    "threes_tensor = torch.stack(threes_tensor_list)/255\n",
    "sevens_tensor = torch.stack(sevens_tensor_list)/255"
   ]
  },
  {
   "cell_type": "code",
   "execution_count": 12,
   "metadata": {},
   "outputs": [
    {
     "data": {
      "text/plain": [
       "(torch.Size([6131, 28, 28]), 3)"
      ]
     },
     "execution_count": 12,
     "metadata": {},
     "output_type": "execute_result"
    }
   ],
   "source": [
    "# experiment with shape and dimensions in pytorch\n",
    "threes_tensor.shape, threes_tensor.ndim"
   ]
  },
  {
   "cell_type": "code",
   "execution_count": 13,
   "metadata": {},
   "outputs": [
    {
     "data": {
      "text/plain": [
       "<AxesSubplot:>"
      ]
     },
     "execution_count": 13,
     "metadata": {},
     "output_type": "execute_result"
    },
    {
     "data": {
      "image/png": "[encoded data removed]",
      "text/plain": [
       "<Figure size 72x72 with 1 Axes>"
      ]
     },
     "metadata": {
      "needs_background": "light"
     },
     "output_type": "display_data"
    }
   ],
   "source": [
    "# to calculte the 'averaged' 3, we must take a running average through the 1st dimension (over all of the 3s)\n",
    "av_3 = threes_tensor.mean(0)\n",
    "show_image(av_3)"
   ]
  },
  {
   "cell_type": "code",
   "execution_count": 14,
   "metadata": {},
   "outputs": [
    {
     "data": {
      "text/plain": [
       "<AxesSubplot:>"
      ]
     },
     "execution_count": 14,
     "metadata": {},
     "output_type": "execute_result"
    },
    {
     "data": {
      "image/png": "[encoded data removed]",
      "text/plain": [
       "<Figure size 72x72 with 1 Axes>"
      ]
     },
     "metadata": {
      "needs_background": "light"
     },
     "output_type": "display_data"
    }
   ],
   "source": [
    "# do the same for the 'averaged' 7\n",
    "av_7 = sevens_tensor.mean(0)\n",
    "show_image(av_7)"
   ]
  },
  {
   "cell_type": "markdown",
   "metadata": {},
   "source": [
    "### To predict between 3s and 7s, we must be able to compare between the current number and the ideal numbers\n",
    "- Attempt to implement MAE  and RMSE manually and also using the pytorch built in error metrics"
   ]
  },
  {
   "cell_type": "code",
   "execution_count": 15,
   "metadata": {},
   "outputs": [],
   "source": [
    "# manually create a mae function\n",
    "def manual_mae(num_tensor, ideal_num):\n",
    "    # note that due to broadcasting, num_tensor can be a 2D tensor or a 3D tensor (a tensor containing multiple image tensors) and pytorch will be able to cotinue with the computations\n",
    "    # take the mean over the final 2 dimensions - the image dimensions\n",
    "    return torch.mean(abs(num_tensor-ideal_num), (-2, -1))"
   ]
  },
  {
   "cell_type": "code",
   "execution_count": 16,
   "metadata": {},
   "outputs": [
    {
     "data": {
      "text/plain": [
       "(tensor(0.1397),\n",
       " tensor([0.1397, 0.1281, 0.1542,  ..., 0.1159, 0.1253, 0.1337]))"
      ]
     },
     "execution_count": 16,
     "metadata": {},
     "output_type": "execute_result"
    }
   ],
   "source": [
    "# use one a single image, then use broadcasting to use on all images\n",
    "manual_mae(threes_tensor[0], av_3), manual_mae(threes_tensor, av_3)"
   ]
  },
  {
   "cell_type": "code",
   "execution_count": 17,
   "metadata": {},
   "outputs": [],
   "source": [
    "# manually create rmse function\n",
    "def manual_rmse(num_tensor, ideal_num):\n",
    "    return torch.sqrt(torch.mean((num_tensor - ideal_num)**2, (-2, -1)))"
   ]
  },
  {
   "cell_type": "code",
   "execution_count": 18,
   "metadata": {},
   "outputs": [
    {
     "data": {
      "text/plain": [
       "(tensor(0.2532), tensor(0.2373))"
      ]
     },
     "execution_count": 18,
     "metadata": {},
     "output_type": "execute_result"
    }
   ],
   "source": [
    "manual_rmse(threes_tensor[0], av_3), manual_rmse(threes_tensor, av_3).mean()"
   ]
  },
  {
   "cell_type": "code",
   "execution_count": 19,
   "metadata": {},
   "outputs": [],
   "source": [
    "pytorch_rmse = lambda num_tensor, ideal: F.mse_loss(num_tensor, ideal).sqrt()"
   ]
  },
  {
   "cell_type": "code",
   "execution_count": 20,
   "metadata": {},
   "outputs": [
    {
     "name": "stderr",
     "output_type": "stream",
     "text": [
      "<ipython-input-19-fa4fa006808b>:1: UserWarning: Using a target size (torch.Size([28, 28])) that is different to the input size (torch.Size([6131, 28, 28])). This will likely lead to incorrect results due to broadcasting. Please ensure they have the same size.\n",
      "  pytorch_rmse = lambda num_tensor, ideal: F.mse_loss(num_tensor, ideal).sqrt()\n"
     ]
    },
    {
     "data": {
      "text/plain": [
       "(tensor(0.2532), tensor(0.2394))"
      ]
     },
     "execution_count": 20,
     "metadata": {},
     "output_type": "execute_result"
    }
   ],
   "source": [
    "pytorch_rmse(threes_tensor[0], av_3), pytorch_rmse(threes_tensor, av_3)"
   ]
  },
  {
   "cell_type": "code",
   "execution_count": 21,
   "metadata": {},
   "outputs": [],
   "source": [
    "def is_3(input_tensor):\n",
    "    return manual_rmse(input_tensor, av_3) < manual_rmse(input_tensor, av_7) "
   ]
  },
  {
   "cell_type": "code",
   "execution_count": 22,
   "metadata": {},
   "outputs": [
    {
     "data": {
      "text/plain": [
       "tensor(0.9584)"
      ]
     },
     "execution_count": 22,
     "metadata": {},
     "output_type": "execute_result"
    }
   ],
   "source": [
    "# calculate the accuracy of all 3s and all 7s\n",
    "\n",
    "acc_3 = is_3(torch.stack([tensor(Image.open(valid_3_path)) for valid_3_path in (path/'valid'/'3').ls()])/255).float().mean()\n",
    "acc_3\n",
    "\n"
   ]
  },
  {
   "cell_type": "code",
   "execution_count": 23,
   "metadata": {},
   "outputs": [
    {
     "data": {
      "text/plain": [
       "tensor(0.9997)"
      ]
     },
     "execution_count": 23,
     "metadata": {},
     "output_type": "execute_result"
    }
   ],
   "source": [
    "acc_7 = (1 - is_3(torch.stack([tensor(Image.open(valid_7_path)) for valid_7_path in (path/'valid'/'7').ls()]))/255).float().mean()\n",
    "acc_7"
   ]
  },
  {
   "cell_type": "markdown",
   "metadata": {},
   "source": [
    "## Part 2: Use Gradient Descent using Pytorch on a few mathematical functions\n",
    "- Write step by step what each example is doing in sgd\n",
    "- Start working with a linear function\n",
    "- Visualize the results"
   ]
  },
  {
   "cell_type": "code",
   "execution_count": 24,
   "metadata": {},
   "outputs": [
    {
     "data": {
      "text/plain": [
       "tensor([ 0.,  1.,  2.,  3.,  4.,  5.,  6.,  7.,  8.,  9., 10., 11., 12., 13., 14., 15., 16., 17., 18., 19.])"
      ]
     },
     "execution_count": 24,
     "metadata": {},
     "output_type": "execute_result"
    }
   ],
   "source": [
    "x_points = torch.arange(0, 20).float()\n",
    "x_points"
   ]
  },
  {
   "cell_type": "code",
   "execution_count": 25,
   "metadata": {},
   "outputs": [
    {
     "data": {
      "text/plain": [
       "tensor([ 11.9269,  16.4873,  20.9007,  22.8945,  29.2419,  36.0783,  40.8008,  46.6806,  50.3559,  54.3134,  59.5066,  65.2415,  69.7684,  75.0418,  79.7484,  85.8599,  89.6903,  94.6043, 100.8034,\n",
       "        104.3784])"
      ]
     },
     "execution_count": 25,
     "metadata": {},
     "output_type": "execute_result"
    }
   ],
   "source": [
    "# create a function similar to a line\n",
    "line_y = (5 * x_points) + 10 + torch.randn(20)\n",
    "line_y"
   ]
  },
  {
   "cell_type": "code",
   "execution_count": 26,
   "metadata": {},
   "outputs": [
    {
     "name": "stdout",
     "output_type": "stream",
     "text": [
      "Requirement already satisfied: seaborn in /opt/conda/envs/fastai/lib/python3.8/site-packages (0.11.1)\n",
      "Requirement already satisfied: pandas>=0.23 in /opt/conda/envs/fastai/lib/python3.8/site-packages (from seaborn) (1.1.4)\n",
      "Requirement already satisfied: numpy>=1.15 in /opt/conda/envs/fastai/lib/python3.8/site-packages (from seaborn) (1.19.4)\n",
      "Requirement already satisfied: scipy>=1.0 in /opt/conda/envs/fastai/lib/python3.8/site-packages (from seaborn) (1.5.3)\n",
      "Requirement already satisfied: matplotlib>=2.2 in /opt/conda/envs/fastai/lib/python3.8/site-packages (from seaborn) (3.3.3)\n",
      "Requirement already satisfied: python-dateutil>=2.7.3 in /opt/conda/envs/fastai/lib/python3.8/site-packages (from pandas>=0.23->seaborn) (2.8.1)\n",
      "Requirement already satisfied: pytz>=2017.2 in /opt/conda/envs/fastai/lib/python3.8/site-packages (from pandas>=0.23->seaborn) (2020.4)\n",
      "Requirement already satisfied: pillow>=6.2.0 in /opt/conda/envs/fastai/lib/python3.8/site-packages (from matplotlib>=2.2->seaborn) (8.0.1)\n",
      "Requirement already satisfied: kiwisolver>=1.0.1 in /opt/conda/envs/fastai/lib/python3.8/site-packages (from matplotlib>=2.2->seaborn) (1.3.1)\n",
      "Requirement already satisfied: cycler>=0.10 in /opt/conda/envs/fastai/lib/python3.8/site-packages (from matplotlib>=2.2->seaborn) (0.10.0)\n",
      "Requirement already satisfied: pyparsing!=2.0.4,!=2.1.2,!=2.1.6,>=2.0.3 in /opt/conda/envs/fastai/lib/python3.8/site-packages (from matplotlib>=2.2->seaborn) (2.4.7)\n",
      "Requirement already satisfied: six>=1.5 in /opt/conda/envs/fastai/lib/python3.8/site-packages (from python-dateutil>=2.7.3->pandas>=0.23->seaborn) (1.15.0)\n"
     ]
    }
   ],
   "source": [
    "# make a function to visualize the models we create\n",
    "!pip install seaborn\n",
    "import seaborn as sns"
   ]
  },
  {
   "cell_type": "code",
   "execution_count": 27,
   "metadata": {},
   "outputs": [],
   "source": [
    "def graph_function(function_vals, x_vals=x_points, ax=None):\n",
    "    if ax == None:\n",
    "        ax = sns.scatterplot(x=x_vals, y=function_vals)\n",
    "        ax.set_xlabel(\"X vals\")\n",
    "        ax.set_ylabel(\"Y vals\")\n",
    "    else:\n",
    "        sns.scatterplot(x=x_vals, y=function_vals, ax=ax)\n",
    "    return ax"
   ]
  },
  {
   "cell_type": "code",
   "execution_count": 28,
   "metadata": {},
   "outputs": [
    {
     "data": {
      "text/plain": [
       "<AxesSubplot:xlabel='X vals', ylabel='Y vals'>"
      ]
     },
     "execution_count": 28,
     "metadata": {},
     "output_type": "execute_result"
    },
    {
     "data": {
      "image/png": "[encoded data removed]",
      "text/plain": [
       "<Figure size 432x288 with 1 Axes>"
      ]
     },
     "metadata": {
      "needs_background": "light"
     },
     "output_type": "display_data"
    }
   ],
   "source": [
    "graph_function(line_y)"
   ]
  },
  {
   "cell_type": "markdown",
   "metadata": {},
   "source": [
    "**Step 1: Initialize the parameters for the model**"
   ]
  },
  {
   "cell_type": "code",
   "execution_count": 29,
   "metadata": {},
   "outputs": [],
   "source": [
    "# randomly initialize the 2 parameters for the line model (slope and y intercept)\n",
    "line_model_params = torch.randn(2).requires_grad_()"
   ]
  },
  {
   "cell_type": "markdown",
   "metadata": {},
   "source": [
    "**Step 2: Calculate the current predictions given by the model**"
   ]
  },
  {
   "cell_type": "code",
   "execution_count": 30,
   "metadata": {},
   "outputs": [],
   "source": [
    "def get_curr_line_model(x_vals, params):\n",
    "    slope, y_int = params\n",
    "    curr_model_y = slope*x_vals + y_int\n",
    "    return curr_model_y"
   ]
  },
  {
   "cell_type": "code",
   "execution_count": 77,
   "metadata": {},
   "outputs": [],
   "source": [
    "def compare_models(curr_model, correct_model, x_vals, ax=None):\n",
    "    if ax == None:\n",
    "        fig, ax = plt.subplots()\n",
    "    graph_function(correct_model, x_vals=x_vals, ax=ax)\n",
    "    graph_function(curr_model, x_vals=x_vals, ax=ax)\n",
    "    return ax\n"
   ]
  },
  {
   "cell_type": "code",
   "execution_count": 78,
   "metadata": {},
   "outputs": [
    {
     "data": {
      "text/plain": [
       "<AxesSubplot:>"
      ]
     },
     "execution_count": 78,
     "metadata": {},
     "output_type": "execute_result"
    },
    {
     "data": {
      "image/png": "[encoded data removed]",
      "text/plain": [
       "<Figure size 432x288 with 1 Axes>"
      ]
     },
     "metadata": {
      "needs_background": "light"
     },
     "output_type": "display_data"
    }
   ],
   "source": [
    "init_model = get_curr_line_model(x_points, line_model_params)\n",
    "compare_models(init_model.detach().numpy(), line_y, x_points)"
   ]
  },
  {
   "cell_type": "markdown",
   "metadata": {},
   "source": [
    "**Step 3: Calculate the loss**"
   ]
  },
  {
   "cell_type": "code",
   "execution_count": 33,
   "metadata": {},
   "outputs": [],
   "source": [
    "# create a simple loss function using mae\n",
    "def get_mae(temp, model):\n",
    "    return (temp - model).abs().mean()"
   ]
  },
  {
   "cell_type": "code",
   "execution_count": 34,
   "metadata": {},
   "outputs": [
    {
     "data": {
      "text/plain": [
       "tensor(65.7422, grad_fn=<MeanBackward0>)"
      ]
     },
     "execution_count": 34,
     "metadata": {},
     "output_type": "execute_result"
    }
   ],
   "source": [
    "loss = get_mae(init_model, line_y)\n",
    "loss"
   ]
  },
  {
   "cell_type": "markdown",
   "metadata": {},
   "source": [
    "**Step 4: Calculate the gradients**"
   ]
  },
  {
   "cell_type": "code",
   "execution_count": 35,
   "metadata": {},
   "outputs": [],
   "source": [
    "# use pytorch to calculate the derivatives for the loss\n",
    "loss.backward()"
   ]
  },
  {
   "cell_type": "code",
   "execution_count": 36,
   "metadata": {},
   "outputs": [
    {
     "data": {
      "text/plain": [
       "tensor([-9.5000, -1.0000])"
      ]
     },
     "execution_count": 36,
     "metadata": {},
     "output_type": "execute_result"
    }
   ],
   "source": [
    "line_model_params.grad"
   ]
  },
  {
   "cell_type": "code",
   "execution_count": 37,
   "metadata": {},
   "outputs": [
    {
     "data": {
      "text/plain": [
       "tensor([-0.7658, -0.7506], requires_grad=True)"
      ]
     },
     "execution_count": 37,
     "metadata": {},
     "output_type": "execute_result"
    }
   ],
   "source": [
    "line_model_params"
   ]
  },
  {
   "cell_type": "markdown",
   "metadata": {},
   "source": [
    "**Step 5: Step the weights**"
   ]
  },
  {
   "cell_type": "code",
   "execution_count": 38,
   "metadata": {},
   "outputs": [
    {
     "data": {
      "text/plain": [
       "tensor([-0.6708, -0.7406], requires_grad=True)"
      ]
     },
     "execution_count": 38,
     "metadata": {},
     "output_type": "execute_result"
    }
   ],
   "source": [
    "lr = 0.01\n",
    "line_model_params.data -= line_model_params.grad.data * lr\n",
    "# reset the gradients after changing the model since the new gradients have changed\n",
    "line_model_params.grad = None\n",
    "line_model_params"
   ]
  },
  {
   "cell_type": "code",
   "execution_count": 39,
   "metadata": {},
   "outputs": [
    {
     "data": {
      "text/plain": [
       "<AxesSubplot:>"
      ]
     },
     "execution_count": 39,
     "metadata": {},
     "output_type": "execute_result"
    },
    {
     "data": {
      "image/png": "[encoded data removed]",
      "text/plain": [
       "<Figure size 432x288 with 1 Axes>"
      ]
     },
     "metadata": {
      "needs_background": "light"
     },
     "output_type": "display_data"
    }
   ],
   "source": [
    "model_2 = get_curr_line_model(x_points, line_model_params)\n",
    "compare_models(model_2.detach().numpy(), line_y, x_points)"
   ]
  },
  {
   "cell_type": "markdown",
   "metadata": {},
   "source": [
    "**Convert the process into a single apply step function**"
   ]
  },
  {
   "cell_type": "code",
   "execution_count": 40,
   "metadata": {},
   "outputs": [],
   "source": [
    "def apply_step(params, input_data, lr=0.01):\n",
    "    # get the current model for the params\n",
    "    curr_model = get_curr_line_model(x_points, params)\n",
    "    # first calculate the loss\n",
    "    loss = get_mae(curr_model, input_data)\n",
    "    # find the gradients of the loss\n",
    "    loss.backward()\n",
    "    # step the loss\n",
    "    params.data -= lr * params.grad.data\n",
    "    \n",
    "    # set the new gradients to none\n",
    "    params.grad = None\n",
    "    \n",
    "    # return the model at the beginning of the function\n",
    "    return curr_model"
   ]
  },
  {
   "cell_type": "code",
   "execution_count": 41,
   "metadata": {},
   "outputs": [
    {
     "data": {
      "text/plain": [
       "<AxesSubplot:>"
      ]
     },
     "execution_count": 41,
     "metadata": {},
     "output_type": "execute_result"
    },
    {
     "data": {
      "image/png": "[encoded data removed]",
      "text/plain": [
       "<Figure size 432x288 with 1 Axes>"
      ]
     },
     "metadata": {
      "needs_background": "light"
     },
     "output_type": "display_data"
    }
   ],
   "source": [
    "compare_models(apply_step(line_model_params, line_y).detach().numpy(), line_y, x_points)"
   ]
  },
  {
   "cell_type": "markdown",
   "metadata": {},
   "source": [
    "**Step 6: Repeat this process multiple times**"
   ]
  },
  {
   "cell_type": "code",
   "execution_count": 42,
   "metadata": {},
   "outputs": [
    {
     "data": {
      "image/png": "[encoded data removed]",
      "text/plain": [
       "<Figure size 864x216 with 6 Axes>"
      ]
     },
     "metadata": {
      "needs_background": "light"
     },
     "output_type": "display_data"
    }
   ],
   "source": [
    "fig, axs = plt.subplots(1, 6, figsize=(12, 3))\n",
    "\n",
    "for ax in axs:\n",
    "    compare_models(apply_step(line_model_params, line_y, lr=0.1).detach().numpy(), line_y, x_points, ax=ax)"
   ]
  },
  {
   "cell_type": "markdown",
   "metadata": {},
   "source": [
    "## Part 3: Gradient Descent with a more complicated function"
   ]
  },
  {
   "cell_type": "code",
   "execution_count": 165,
   "metadata": {},
   "outputs": [
    {
     "data": {
      "text/plain": [
       "tensor([-20, -19, -18, -17, -16, -15, -14, -13, -12, -11, -10,  -9,  -8,  -7,  -6,  -5,  -4,  -3,  -2,  -1,   0,   1,   2,   3,   4,   5,   6,   7,   8,   9,  10,  11,  12,  13,  14,  15,  16,  17,\n",
       "         18,  19,  20])"
      ]
     },
     "execution_count": 165,
     "metadata": {},
     "output_type": "execute_result"
    }
   ],
   "source": [
    "location = torch.arange(-20, 21)\n",
    "location"
   ]
  },
  {
   "cell_type": "code",
   "execution_count": 166,
   "metadata": {},
   "outputs": [
    {
     "data": {
      "text/plain": [
       "<AxesSubplot:xlabel='X vals', ylabel='Y vals'>"
      ]
     },
     "execution_count": 166,
     "metadata": {},
     "output_type": "execute_result"
    },
    {
     "data": {
      "image/png": "[encoded data removed]",
      "text/plain": [
       "<Figure size 432x288 with 1 Axes>"
      ]
     },
     "metadata": {
      "needs_background": "light"
     },
     "output_type": "display_data"
    }
   ],
   "source": [
    "complex_model = 5*location**3 + 7*location**2 -1*location + torch.randn(41)*5000\n",
    "\n",
    "graph_function(complex_model, x_vals=location)"
   ]
  },
  {
   "cell_type": "code",
   "execution_count": 167,
   "metadata": {},
   "outputs": [
    {
     "data": {
      "text/plain": [
       "tensor([-0.4700, -1.3253,  1.2051,  1.1527], requires_grad=True)"
      ]
     },
     "execution_count": 167,
     "metadata": {},
     "output_type": "execute_result"
    }
   ],
   "source": [
    "# initialize the models parameters\n",
    "cubic_params = torch.randn(4).requires_grad_()\n",
    "cubic_params"
   ]
  },
  {
   "cell_type": "code",
   "execution_count": 168,
   "metadata": {},
   "outputs": [],
   "source": [
    "# create a function to get the results of the new model\n",
    "def get_new_cubic(loc, params):\n",
    "    co3, co2, co1, const = params\n",
    "    return co3*(loc**3) + co2*(loc**2) + (co1*loc) + const"
   ]
  },
  {
   "cell_type": "code",
   "execution_count": 169,
   "metadata": {},
   "outputs": [
    {
     "data": {
      "text/plain": [
       "tensor([ 3.2068e+03,  2.7235e+03,  2.2910e+03,  1.9067e+03,  1.5677e+03,  1.2711e+03,  1.0142e+03,  7.9407e+02,  6.0798e+02,  4.5309e+02,  3.2656e+02,  2.2558e+02,  1.4732e+02,  8.8982e+01,\n",
       "         4.7728e+01,  2.0743e+01,  5.2063e+00, -1.7008e+00, -2.7989e+00, -9.0774e-01,  1.1527e+00,  5.6250e-01, -5.4983e+00, -1.9850e+01, -4.5311e+01, -8.4703e+01, -1.4085e+02, -2.1656e+02,\n",
       "        -3.1466e+02, -4.3797e+02, -5.8932e+02, -7.7151e+02, -9.8737e+02, -1.2397e+03, -1.5314e+03, -1.8652e+03, -2.2439e+03, -2.6704e+03, -3.1475e+03, -3.6780e+03, -4.2648e+03],\n",
       "       grad_fn=<AddBackward0>)"
      ]
     },
     "execution_count": 169,
     "metadata": {},
     "output_type": "execute_result"
    }
   ],
   "source": [
    "get_new_cubic(location, cubic_params)"
   ]
  },
  {
   "cell_type": "code",
   "execution_count": 170,
   "metadata": {},
   "outputs": [],
   "source": [
    "# create a new loss function\n",
    "def rmse(preds, actual):\n",
    "    return ((preds - actual)**2).mean().sqrt()"
   ]
  },
  {
   "cell_type": "code",
   "execution_count": 171,
   "metadata": {},
   "outputs": [
    {
     "data": {
      "text/plain": [
       "tensor(18840.9609, grad_fn=<SqrtBackward>)"
      ]
     },
     "execution_count": 171,
     "metadata": {},
     "output_type": "execute_result"
    }
   ],
   "source": [
    "rmse(get_new_cubic(location, cubic_params), complex_model)"
   ]
  },
  {
   "cell_type": "code",
   "execution_count": 172,
   "metadata": {},
   "outputs": [],
   "source": [
    "# create a new function to apply a step\n",
    "def apply_cubic_step(params, loc, lr=0.00001):\n",
    "    # get the current model\n",
    "    curr_cubic = get_new_cubic(loc, params)\n",
    "    \n",
    "    # compute the loss\n",
    "    loss = rmse(curr_cubic, complex_model)\n",
    "    \n",
    "    # apply back propagation (calculate the gradients)\n",
    "    loss.backward()\n",
    "    \n",
    "    # step the parameters\n",
    "    params.data -= lr * params.grad.data\n",
    "    \n",
    "    # remove the old gradients\n",
    "    params.grad = None\n",
    "    \n",
    "    print(loss)\n",
    "    \n",
    "    return curr_cubic"
   ]
  },
  {
   "cell_type": "code",
   "execution_count": 173,
   "metadata": {},
   "outputs": [
    {
     "name": "stdout",
     "output_type": "stream",
     "text": [
      "tensor(18840.9609, grad_fn=<SqrtBackward>)\n"
     ]
    },
    {
     "data": {
      "text/plain": [
       "tensor([ 3.2068e+03,  2.7235e+03,  2.2910e+03,  1.9067e+03,  1.5677e+03,  1.2711e+03,  1.0142e+03,  7.9407e+02,  6.0798e+02,  4.5309e+02,  3.2656e+02,  2.2558e+02,  1.4732e+02,  8.8982e+01,\n",
       "         4.7728e+01,  2.0743e+01,  5.2063e+00, -1.7008e+00, -2.7989e+00, -9.0774e-01,  1.1527e+00,  5.6250e-01, -5.4983e+00, -1.9850e+01, -4.5311e+01, -8.4703e+01, -1.4085e+02, -2.1656e+02,\n",
       "        -3.1466e+02, -4.3797e+02, -5.8932e+02, -7.7151e+02, -9.8737e+02, -1.2397e+03, -1.5314e+03, -1.8652e+03, -2.2439e+03, -2.6704e+03, -3.1475e+03, -3.6780e+03, -4.2648e+03],\n",
       "       grad_fn=<AddBackward0>)"
      ]
     },
     "execution_count": 173,
     "metadata": {},
     "output_type": "execute_result"
    }
   ],
   "source": [
    "apply_cubic_step(cubic_params, location)"
   ]
  },
  {
   "cell_type": "code",
   "execution_count": 174,
   "metadata": {},
   "outputs": [
    {
     "name": "stdout",
     "output_type": "stream",
     "text": [
      "tensor(18745.0918, grad_fn=<SqrtBackward>)\n"
     ]
    },
    {
     "data": {
      "text/plain": [
       "<AxesSubplot:xlabel='X vals', ylabel='Y vals'>"
      ]
     },
     "execution_count": 174,
     "metadata": {},
     "output_type": "execute_result"
    },
    {
     "data": {
      "image/png": "[encoded data removed]",
      "text/plain": [
       "<Figure size 432x288 with 1 Axes>"
      ]
     },
     "metadata": {
      "needs_background": "light"
     },
     "output_type": "display_data"
    }
   ],
   "source": [
    "graph_function(apply_cubic_step(cubic_params, location).detach().numpy(), x_vals=location)"
   ]
  },
  {
   "cell_type": "code",
   "execution_count": 176,
   "metadata": {},
   "outputs": [
    {
     "name": "stdout",
     "output_type": "stream",
     "text": [
      "tensor(16757.3066, grad_fn=<SqrtBackward>)\n",
      "tensor(16664.0059, grad_fn=<SqrtBackward>)\n",
      "tensor(16570.8457, grad_fn=<SqrtBackward>)\n",
      "tensor(16477.8242, grad_fn=<SqrtBackward>)\n",
      "tensor(16384.9453, grad_fn=<SqrtBackward>)\n",
      "tensor(16292.2109, grad_fn=<SqrtBackward>)\n",
      "tensor(16199.6250, grad_fn=<SqrtBackward>)\n",
      "tensor(16107.1865, grad_fn=<SqrtBackward>)\n",
      "tensor(16014.9004, grad_fn=<SqrtBackward>)\n",
      "tensor(15922.7656, grad_fn=<SqrtBackward>)\n",
      "tensor(15830.7910, grad_fn=<SqrtBackward>)\n",
      "tensor(15738.9727, grad_fn=<SqrtBackward>)\n",
      "tensor(15647.3164, grad_fn=<SqrtBackward>)\n",
      "tensor(15555.8232, grad_fn=<SqrtBackward>)\n",
      "tensor(15464.4971, grad_fn=<SqrtBackward>)\n",
      "tensor(15373.3398, grad_fn=<SqrtBackward>)\n",
      "tensor(15282.3545, grad_fn=<SqrtBackward>)\n",
      "tensor(15191.5430, grad_fn=<SqrtBackward>)\n",
      "tensor(15100.9092, grad_fn=<SqrtBackward>)\n",
      "tensor(15010.4570, grad_fn=<SqrtBackward>)\n",
      "tensor(14920.1855, grad_fn=<SqrtBackward>)\n",
      "tensor(14830.1016, grad_fn=<SqrtBackward>)\n",
      "tensor(14740.2051, grad_fn=<SqrtBackward>)\n",
      "tensor(14650.5020, grad_fn=<SqrtBackward>)\n",
      "tensor(14560.9941, grad_fn=<SqrtBackward>)\n",
      "tensor(14471.6836, grad_fn=<SqrtBackward>)\n",
      "tensor(14382.5762, grad_fn=<SqrtBackward>)\n",
      "tensor(14293.6729, grad_fn=<SqrtBackward>)\n",
      "tensor(14204.9775, grad_fn=<SqrtBackward>)\n",
      "tensor(14116.4941, grad_fn=<SqrtBackward>)\n",
      "tensor(14028.2266, grad_fn=<SqrtBackward>)\n",
      "tensor(13940.1777, grad_fn=<SqrtBackward>)\n",
      "tensor(13852.3506, grad_fn=<SqrtBackward>)\n",
      "tensor(13764.7490, grad_fn=<SqrtBackward>)\n",
      "tensor(13677.3779, grad_fn=<SqrtBackward>)\n",
      "tensor(13590.2422, grad_fn=<SqrtBackward>)\n",
      "tensor(13503.3418, grad_fn=<SqrtBackward>)\n",
      "tensor(13416.6826, grad_fn=<SqrtBackward>)\n",
      "tensor(13330.2695, grad_fn=<SqrtBackward>)\n",
      "tensor(13244.1055, grad_fn=<SqrtBackward>)\n",
      "tensor(13158.1953, grad_fn=<SqrtBackward>)\n",
      "tensor(13072.5439, grad_fn=<SqrtBackward>)\n",
      "tensor(12987.1553, grad_fn=<SqrtBackward>)\n",
      "tensor(12902.0312, grad_fn=<SqrtBackward>)\n",
      "tensor(12817.1787, grad_fn=<SqrtBackward>)\n",
      "tensor(12732.6025, grad_fn=<SqrtBackward>)\n",
      "tensor(12648.3057, grad_fn=<SqrtBackward>)\n",
      "tensor(12564.2939, grad_fn=<SqrtBackward>)\n",
      "tensor(12480.5723, grad_fn=<SqrtBackward>)\n",
      "tensor(12397.1455, grad_fn=<SqrtBackward>)\n",
      "tensor(12314.0166, grad_fn=<SqrtBackward>)\n",
      "tensor(12231.1924, grad_fn=<SqrtBackward>)\n",
      "tensor(12148.6777, grad_fn=<SqrtBackward>)\n",
      "tensor(12066.4775, grad_fn=<SqrtBackward>)\n",
      "tensor(11984.5977, grad_fn=<SqrtBackward>)\n",
      "tensor(11903.0430, grad_fn=<SqrtBackward>)\n",
      "tensor(11821.8184, grad_fn=<SqrtBackward>)\n",
      "tensor(11740.9297, grad_fn=<SqrtBackward>)\n",
      "tensor(11660.3828, grad_fn=<SqrtBackward>)\n",
      "tensor(11580.1826, grad_fn=<SqrtBackward>)\n",
      "tensor(11500.3359, grad_fn=<SqrtBackward>)\n",
      "tensor(11420.8477, grad_fn=<SqrtBackward>)\n",
      "tensor(11341.7246, grad_fn=<SqrtBackward>)\n",
      "tensor(11262.9717, grad_fn=<SqrtBackward>)\n",
      "tensor(11184.5957, grad_fn=<SqrtBackward>)\n",
      "tensor(11106.6016, grad_fn=<SqrtBackward>)\n",
      "tensor(11028.9971, grad_fn=<SqrtBackward>)\n",
      "tensor(10951.7881, grad_fn=<SqrtBackward>)\n",
      "tensor(10874.9805, grad_fn=<SqrtBackward>)\n",
      "tensor(10798.5801, grad_fn=<SqrtBackward>)\n",
      "tensor(10722.5947, grad_fn=<SqrtBackward>)\n",
      "tensor(10647.0293, grad_fn=<SqrtBackward>)\n",
      "tensor(10571.8916, grad_fn=<SqrtBackward>)\n",
      "tensor(10497.1885, grad_fn=<SqrtBackward>)\n",
      "tensor(10422.9268, grad_fn=<SqrtBackward>)\n",
      "tensor(10349.1123, grad_fn=<SqrtBackward>)\n",
      "tensor(10275.7539, grad_fn=<SqrtBackward>)\n",
      "tensor(10202.8555, grad_fn=<SqrtBackward>)\n",
      "tensor(10130.4258, grad_fn=<SqrtBackward>)\n",
      "tensor(10058.4727, grad_fn=<SqrtBackward>)\n",
      "tensor(9987.0020, grad_fn=<SqrtBackward>)\n",
      "tensor(9916.0205, grad_fn=<SqrtBackward>)\n",
      "tensor(9845.5361, grad_fn=<SqrtBackward>)\n",
      "tensor(9775.5566, grad_fn=<SqrtBackward>)\n",
      "tensor(9706.0879, grad_fn=<SqrtBackward>)\n",
      "tensor(9637.1377, grad_fn=<SqrtBackward>)\n",
      "tensor(9568.7129, grad_fn=<SqrtBackward>)\n",
      "tensor(9500.8223, grad_fn=<SqrtBackward>)\n",
      "tensor(9433.4697, grad_fn=<SqrtBackward>)\n",
      "tensor(9366.6660, grad_fn=<SqrtBackward>)\n",
      "tensor(9300.4160, grad_fn=<SqrtBackward>)\n",
      "tensor(9234.7285, grad_fn=<SqrtBackward>)\n",
      "tensor(9169.6104, grad_fn=<SqrtBackward>)\n",
      "tensor(9105.0684, grad_fn=<SqrtBackward>)\n",
      "tensor(9041.1094, grad_fn=<SqrtBackward>)\n",
      "tensor(8977.7402, grad_fn=<SqrtBackward>)\n",
      "tensor(8914.9688, grad_fn=<SqrtBackward>)\n",
      "tensor(8852.8018, grad_fn=<SqrtBackward>)\n",
      "tensor(8791.2461, grad_fn=<SqrtBackward>)\n",
      "tensor(8730.3076, grad_fn=<SqrtBackward>)\n"
     ]
    },
    {
     "data": {
      "image/png": "[encoded data removed]",
      "text/plain": [
       "<Figure size 864x216 with 7 Axes>"
      ]
     },
     "metadata": {
      "needs_background": "light"
     },
     "output_type": "display_data"
    }
   ],
   "source": [
    "import math\n",
    "fig, axs = plt.subplots(1, 7, figsize=(12, 3))\n",
    "ITERATIONS = 100\n",
    "ITER_DIV = math.floor(ITERATIONS/6)\n",
    "ax_index = 0\n",
    "\n",
    "for i in range(ITERATIONS):\n",
    "    # step the model using gradient descent\n",
    "    training_cubic = apply_cubic_step(cubic_params, location)\n",
    "    \n",
    "    # visualize some of the steps in between\n",
    "    if i % ITER_DIV == 0:\n",
    "#         print(i, ITER_DIV)\n",
    "#         print(training_quartic)\n",
    "#         print()\n",
    "        compare_models(training_cubic.detach().numpy(), complex_model, location, ax=axs[ax_index])\n",
    "        ax_index += 1\n",
    "\n"
   ]
  },
  {
   "cell_type": "code",
   "execution_count": null,
   "metadata": {},
   "outputs": [],
   "source": []
  }
 ],
 "metadata": {
  "kernelspec": {
   "display_name": "Python 3",
   "language": "python",
   "name": "python3"
  },
  "language_info": {
   "codemirror_mode": {
    "name": "ipython",
    "version": 3
   },
   "file_extension": ".py",
   "mimetype": "text/x-python",
   "name": "python",
   "nbconvert_exporter": "python",
   "pygments_lexer": "ipython3",
   "version": "3.8.6"
  }
 },
 "nbformat": 4,
 "nbformat_minor": 4
}
