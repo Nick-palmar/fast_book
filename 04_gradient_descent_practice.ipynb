{
 "cells": [
  {
   "cell_type": "markdown",
   "metadata": {},
   "source": [
    "## Part 1: First, make a baseline model to determine between 3's and 7's"
   ]
  },
  {
   "cell_type": "code",
   "execution_count": 1,
   "metadata": {},
   "outputs": [],
   "source": [
    "!pip install -Uqq fastbook\n",
    "import fastbook\n",
    "fastbook.setup_book()\n",
    "from fastai.vision.all import *\n",
    "from fastbook import *"
   ]
  },
  {
   "cell_type": "code",
   "execution_count": 2,
   "metadata": {},
   "outputs": [
    {
     "data": {
      "text/plain": [
       "Path('/storage/data/mnist_sample')"
      ]
     },
     "execution_count": 2,
     "metadata": {},
     "output_type": "execute_result"
    }
   ],
   "source": [
    "path = untar_data(URLs.MNIST_SAMPLE)\n",
    "path"
   ]
  },
  {
   "cell_type": "code",
   "execution_count": 3,
   "metadata": {},
   "outputs": [],
   "source": [
    "# Path.BASE_PATH = path"
   ]
  },
  {
   "cell_type": "code",
   "execution_count": 4,
   "metadata": {},
   "outputs": [
    {
     "data": {
      "text/plain": [
       "(#2) [Path('/storage/data/mnist_sample/train/3'),Path('/storage/data/mnist_sample/train/7')]"
      ]
     },
     "execution_count": 4,
     "metadata": {},
     "output_type": "execute_result"
    }
   ],
   "source": [
    "# look inside of the train folder from the path to see what is located inside\n",
    "(path/'train').ls()"
   ]
  },
  {
   "cell_type": "code",
   "execution_count": 5,
   "metadata": {},
   "outputs": [
    {
     "data": {
      "text/plain": [
       "(#6131) [Path('/storage/data/mnist_sample/train/3/55705.png'),Path('/storage/data/mnist_sample/train/3/32379.png'),Path('/storage/data/mnist_sample/train/3/36132.png'),Path('/storage/data/mnist_sample/train/3/50201.png'),Path('/storage/data/mnist_sample/train/3/39704.png'),Path('/storage/data/mnist_sample/train/3/8475.png'),Path('/storage/data/mnist_sample/train/3/5139.png'),Path('/storage/data/mnist_sample/train/3/32610.png'),Path('/storage/data/mnist_sample/train/3/7784.png'),Path('/storage/data/mnist_sample/train/3/45704.png')...]"
      ]
     },
     "execution_count": 5,
     "metadata": {},
     "output_type": "execute_result"
    }
   ],
   "source": [
    "# get the 3s and 7s\n",
    "threes = (path/'train'/'3').ls()\n",
    "threes"
   ]
  },
  {
   "cell_type": "code",
   "execution_count": 6,
   "metadata": {},
   "outputs": [
    {
     "data": {
      "text/plain": [
       "(#6265) [Path('/storage/data/mnist_sample/train/7/23645.png'),Path('/storage/data/mnist_sample/train/7/13644.png'),Path('/storage/data/mnist_sample/train/7/22228.png'),Path('/storage/data/mnist_sample/train/7/2229.png'),Path('/storage/data/mnist_sample/train/7/6064.png'),Path('/storage/data/mnist_sample/train/7/24505.png'),Path('/storage/data/mnist_sample/train/7/26356.png'),Path('/storage/data/mnist_sample/train/7/19987.png'),Path('/storage/data/mnist_sample/train/7/19592.png'),Path('/storage/data/mnist_sample/train/7/49413.png')...]"
      ]
     },
     "execution_count": 6,
     "metadata": {},
     "output_type": "execute_result"
    }
   ],
   "source": [
    "sevens = (path/'train'/'7').ls()\n",
    "sevens"
   ]
  },
  {
   "cell_type": "code",
   "execution_count": 7,
   "metadata": {},
   "outputs": [
    {
     "data": {
      "image/png": "[encoded data removed]",
      "text/plain": [
       "<PIL.PngImagePlugin.PngImageFile image mode=L size=28x28 at 0x7FDD480DD550>"
      ]
     },
     "execution_count": 7,
     "metadata": {},
     "output_type": "execute_result"
    }
   ],
   "source": [
    "# exmaine one of the images\n",
    "example_seven = Image.open(sevens[0])\n",
    "example_seven"
   ]
  },
  {
   "cell_type": "markdown",
   "metadata": {},
   "source": [
    "## Build the baseline model that makes the average 3/7"
   ]
  },
  {
   "cell_type": "code",
   "execution_count": 8,
   "metadata": {},
   "outputs": [],
   "source": [
    "# convert the urls into a list of tensors\n",
    "threes_tensor_list = [tensor(Image.open(three_path)) for three_path in threes]\n"
   ]
  },
  {
   "cell_type": "code",
   "execution_count": 9,
   "metadata": {},
   "outputs": [],
   "source": [
    "sevens_tensor_list = [tensor(Image.open(seven_path)) for seven_path in sevens]"
   ]
  },
  {
   "cell_type": "code",
   "execution_count": 10,
   "metadata": {},
   "outputs": [
    {
     "name": "stdout",
     "output_type": "stream",
     "text": [
      "tensor(True)\n"
     ]
    }
   ],
   "source": [
    "# stack the tensors to create a single 3D tensor\n",
    "threes_tensor = torch.stack(threes_tensor_list)/255\n",
    "threes_tensor_2 = torch.stack(threes_tensor_list).float()/255\n",
    "\n",
    "print((threes_tensor == threes_tensor_2).all())"
   ]
  },
  {
   "cell_type": "code",
   "execution_count": 11,
   "metadata": {},
   "outputs": [],
   "source": [
    "# create single 3 and 7 tensors by stacking the list and convert the values into 0-1 range\n",
    "threes_tensor = torch.stack(threes_tensor_list)/255\n",
    "sevens_tensor = torch.stack(sevens_tensor_list)/255"
   ]
  },
  {
   "cell_type": "code",
   "execution_count": 12,
   "metadata": {},
   "outputs": [
    {
     "data": {
      "text/plain": [
       "(torch.Size([6131, 28, 28]), 3)"
      ]
     },
     "execution_count": 12,
     "metadata": {},
     "output_type": "execute_result"
    }
   ],
   "source": [
    "# experiment with shape and dimensions in pytorch\n",
    "threes_tensor.shape, threes_tensor.ndim"
   ]
  },
  {
   "cell_type": "code",
   "execution_count": 13,
   "metadata": {},
   "outputs": [
    {
     "data": {
      "text/plain": [
       "<AxesSubplot:>"
      ]
     },
     "execution_count": 13,
     "metadata": {},
     "output_type": "execute_result"
    },
    {
     "data": {
      "image/png": "[encoded data removed]",
      "text/plain": [
       "<Figure size 72x72 with 1 Axes>"
      ]
     },
     "metadata": {
      "needs_background": "light"
     },
     "output_type": "display_data"
    }
   ],
   "source": [
    "# to calculte the 'averaged' 3, we must take a running average through the 1st dimension (over all of the 3s)\n",
    "av_3 = threes_tensor.mean(0)\n",
    "show_image(av_3)"
   ]
  },
  {
   "cell_type": "code",
   "execution_count": 14,
   "metadata": {},
   "outputs": [
    {
     "data": {
      "text/plain": [
       "<AxesSubplot:>"
      ]
     },
     "execution_count": 14,
     "metadata": {},
     "output_type": "execute_result"
    },
    {
     "data": {
      "image/png": "[encoded data removed]",
      "text/plain": [
       "<Figure size 72x72 with 1 Axes>"
      ]
     },
     "metadata": {
      "needs_background": "light"
     },
     "output_type": "display_data"
    }
   ],
   "source": [
    "# do the same for the 'averaged' 7\n",
    "av_7 = sevens_tensor.mean(0)\n",
    "show_image(av_7)"
   ]
  },
  {
   "cell_type": "markdown",
   "metadata": {},
   "source": [
    "### To predict between 3s and 7s, we must be able to compare between the current number and the ideal numbers\n",
    "- Attempt to implement MAE  and RMSE manually and also using the pytorch built in error metrics"
   ]
  },
  {
   "cell_type": "code",
   "execution_count": 15,
   "metadata": {},
   "outputs": [],
   "source": [
    "# manually create a mae function\n",
    "def manual_mae(num_tensor, ideal_num):\n",
    "    # note that due to broadcasting, num_tensor can be a 2D tensor or a 3D tensor (a tensor containing multiple image tensors) and pytorch will be able to cotinue with the computations\n",
    "    # take the mean over the final 2 dimensions - the image dimensions\n",
    "    return torch.mean(abs(num_tensor-ideal_num), (-2, -1))"
   ]
  },
  {
   "cell_type": "code",
   "execution_count": 16,
   "metadata": {},
   "outputs": [
    {
     "data": {
      "text/plain": [
       "(tensor(0.1397),\n",
       " tensor([0.1397, 0.1281, 0.1542,  ..., 0.1159, 0.1253, 0.1337]))"
      ]
     },
     "execution_count": 16,
     "metadata": {},
     "output_type": "execute_result"
    }
   ],
   "source": [
    "# use one a single image, then use broadcasting to use on all images\n",
    "manual_mae(threes_tensor[0], av_3), manual_mae(threes_tensor, av_3)"
   ]
  },
  {
   "cell_type": "code",
   "execution_count": 17,
   "metadata": {},
   "outputs": [],
   "source": [
    "# manually create rmse function\n",
    "def manual_rmse(num_tensor, ideal_num):\n",
    "    return torch.sqrt(torch.mean((num_tensor - ideal_num)**2, (-2, -1)))"
   ]
  },
  {
   "cell_type": "code",
   "execution_count": 18,
   "metadata": {},
   "outputs": [
    {
     "data": {
      "text/plain": [
       "(tensor(0.2532), tensor(0.2373))"
      ]
     },
     "execution_count": 18,
     "metadata": {},
     "output_type": "execute_result"
    }
   ],
   "source": [
    "manual_rmse(threes_tensor[0], av_3), manual_rmse(threes_tensor, av_3).mean()"
   ]
  },
  {
   "cell_type": "code",
   "execution_count": 19,
   "metadata": {},
   "outputs": [],
   "source": [
    "pytorch_rmse = lambda num_tensor, ideal: F.mse_loss(num_tensor, ideal).sqrt()"
   ]
  },
  {
   "cell_type": "code",
   "execution_count": 20,
   "metadata": {},
   "outputs": [
    {
     "name": "stderr",
     "output_type": "stream",
     "text": [
      "<ipython-input-19-fa4fa006808b>:1: UserWarning: Using a target size (torch.Size([28, 28])) that is different to the input size (torch.Size([6131, 28, 28])). This will likely lead to incorrect results due to broadcasting. Please ensure they have the same size.\n",
      "  pytorch_rmse = lambda num_tensor, ideal: F.mse_loss(num_tensor, ideal).sqrt()\n"
     ]
    },
    {
     "data": {
      "text/plain": [
       "(tensor(0.2532), tensor(0.2394))"
      ]
     },
     "execution_count": 20,
     "metadata": {},
     "output_type": "execute_result"
    }
   ],
   "source": [
    "pytorch_rmse(threes_tensor[0], av_3), pytorch_rmse(threes_tensor, av_3)"
   ]
  },
  {
   "cell_type": "code",
   "execution_count": 21,
   "metadata": {},
   "outputs": [],
   "source": [
    "def is_3(input_tensor):\n",
    "    return manual_rmse(input_tensor, av_3) < manual_rmse(input_tensor, av_7) "
   ]
  },
  {
   "cell_type": "code",
   "execution_count": 22,
   "metadata": {},
   "outputs": [
    {
     "data": {
      "text/plain": [
       "tensor(0.9584)"
      ]
     },
     "execution_count": 22,
     "metadata": {},
     "output_type": "execute_result"
    }
   ],
   "source": [
    "# calculate the accuracy of all 3s and all 7s\n",
    "\n",
    "acc_3 = is_3(torch.stack([tensor(Image.open(valid_3_path)) for valid_3_path in (path/'valid'/'3').ls()])/255).float().mean()\n",
    "acc_3\n",
    "\n"
   ]
  },
  {
   "cell_type": "code",
   "execution_count": 23,
   "metadata": {},
   "outputs": [
    {
     "data": {
      "text/plain": [
       "tensor(0.9997)"
      ]
     },
     "execution_count": 23,
     "metadata": {},
     "output_type": "execute_result"
    }
   ],
   "source": [
    "acc_7 = (1 - is_3(torch.stack([tensor(Image.open(valid_7_path)) for valid_7_path in (path/'valid'/'7').ls()]))/255).float().mean()\n",
    "acc_7"
   ]
  },
  {
   "cell_type": "markdown",
   "metadata": {},
   "source": [
    "## Part 2: Use Gradient Descent using Pytorch on a few mathematical functions\n",
    "- Write step by step what each example is doing in sgd\n",
    "- Start working with a linear function\n",
    "- Visualize the results"
   ]
  },
  {
   "cell_type": "code",
   "execution_count": 26,
   "metadata": {},
   "outputs": [
    {
     "data": {
      "text/plain": [
       "tensor([ 0.,  1.,  2.,  3.,  4.,  5.,  6.,  7.,  8.,  9., 10., 11., 12., 13., 14., 15., 16., 17., 18., 19.])"
      ]
     },
     "execution_count": 26,
     "metadata": {},
     "output_type": "execute_result"
    }
   ],
   "source": [
    "x_points = torch.arange(0, 20).float()\n",
    "x_points"
   ]
  },
  {
   "cell_type": "code",
   "execution_count": null,
   "metadata": {},
   "outputs": [],
   "source": []
  }
 ],
 "metadata": {
  "kernelspec": {
   "display_name": "Python 3",
   "language": "python",
   "name": "python3"
  },
  "language_info": {
   "codemirror_mode": {
    "name": "ipython",
    "version": 3
   },
   "file_extension": ".py",
   "mimetype": "text/x-python",
   "name": "python",
   "nbconvert_exporter": "python",
   "pygments_lexer": "ipython3",
   "version": "3.8.6"
  }
 },
 "nbformat": 4,
 "nbformat_minor": 4
}
