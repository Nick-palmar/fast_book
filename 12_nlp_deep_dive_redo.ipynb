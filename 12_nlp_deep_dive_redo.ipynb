{
  "nbformat": 4,
  "nbformat_minor": 0,
  "metadata": {
    "colab": {
      "name": "12_nlp_deep_dive_redo.ipynb",
      "provenance": []
    },
    "kernelspec": {
      "name": "python3",
      "display_name": "Python 3"
    },
    "language_info": {
      "name": "python"
    },
    "accelerator": "GPU"
  },
  "cells": [
    {
      "cell_type": "code",
      "metadata": {
        "colab": {
          "base_uri": "https://localhost:8080/"
        },
        "id": "u8JMhhooxh60",
        "outputId": "d24e76fc-fb2e-444b-bfea-4ae3c2f68d85"
      },
      "source": [
        "!pip install -Uqq fastbook\n",
        "import fastbook\n",
        "fastbook.setup_book()\n",
        "from fastbook import *"
      ],
      "execution_count": 1,
      "outputs": [
        {
          "output_type": "stream",
          "name": "stdout",
          "text": [
            "\u001b[K     |████████████████████████████████| 720 kB 5.4 MB/s \n",
            "\u001b[K     |████████████████████████████████| 46 kB 2.3 MB/s \n",
            "\u001b[K     |████████████████████████████████| 186 kB 34.3 MB/s \n",
            "\u001b[K     |████████████████████████████████| 1.2 MB 30.5 MB/s \n",
            "\u001b[K     |████████████████████████████████| 56 kB 2.4 MB/s \n",
            "\u001b[K     |████████████████████████████████| 51 kB 211 kB/s \n",
            "\u001b[?25hMounted at /content/gdrive\n"
          ]
        }
      ]
    },
    {
      "cell_type": "code",
      "metadata": {
        "colab": {
          "base_uri": "https://localhost:8080/",
          "height": 37
        },
        "id": "Raz-vxl2y6mK",
        "outputId": "88fafe1b-21ff-467e-89b1-c6d2beff61d9"
      },
      "source": [
        "from fastai.text.all import *\n",
        "path = untar_data(URLs.HUMAN_NUMBERS)"
      ],
      "execution_count": 2,
      "outputs": [
        {
          "output_type": "display_data",
          "data": {
            "text/html": [
              "\n",
              "    <div>\n",
              "        <style>\n",
              "            /* Turns off some styling */\n",
              "            progress {\n",
              "                /* gets rid of default border in Firefox and Opera. */\n",
              "                border: none;\n",
              "                /* Needs to be in here for Safari polyfill so background images work as expected. */\n",
              "                background-size: auto;\n",
              "            }\n",
              "            .progress-bar-interrupted, .progress-bar-interrupted::-webkit-progress-bar {\n",
              "                background: #F44336;\n",
              "            }\n",
              "        </style>\n",
              "      <progress value='32768' class='' max='30252' style='width:300px; height:20px; vertical-align: middle;'></progress>\n",
              "      108.32% [32768/30252 00:00<00:00]\n",
              "    </div>\n",
              "    "
            ],
            "text/plain": [
              "<IPython.core.display.HTML object>"
            ]
          },
          "metadata": {}
        }
      ]
    },
    {
      "cell_type": "code",
      "metadata": {
        "id": "OyOYCQmNzK7X"
      },
      "source": [
        "Path.BASE_PATH = path"
      ],
      "execution_count": 3,
      "outputs": []
    },
    {
      "cell_type": "code",
      "metadata": {
        "colab": {
          "base_uri": "https://localhost:8080/"
        },
        "id": "XelDpuxCzNeZ",
        "outputId": "0ac80c06-70ab-4d69-a2b0-84cc63d0c4f2"
      },
      "source": [
        "lines = L()\n",
        "with open(path/'train.txt') as f: lines += L(*f.readlines())\n",
        "with open(path/'valid.txt') as f: lines += L(*f.readlines())\n",
        "lines"
      ],
      "execution_count": 4,
      "outputs": [
        {
          "output_type": "execute_result",
          "data": {
            "text/plain": [
              "(#9998) ['one \\n','two \\n','three \\n','four \\n','five \\n','six \\n','seven \\n','eight \\n','nine \\n','ten \\n'...]"
            ]
          },
          "metadata": {},
          "execution_count": 4
        }
      ]
    },
    {
      "cell_type": "markdown",
      "metadata": {
        "id": "jnksChHlz5OB"
      },
      "source": [
        "### Data Preprocessing\n",
        "- Preprocess the dataset for the language model\n",
        "- Manually tokenize and numericalize the data\n",
        "- Create batches for the model to read"
      ]
    },
    {
      "cell_type": "code",
      "metadata": {
        "colab": {
          "base_uri": "https://localhost:8080/",
          "height": 37
        },
        "id": "n_SJZ1P2zQYL",
        "outputId": "92dc2ee9-6208-4917-dc69-34147e8e662d"
      },
      "source": [
        "text = \" . \".join(line.strip() for line in lines)\n",
        "text[:50]"
      ],
      "execution_count": 5,
      "outputs": [
        {
          "output_type": "execute_result",
          "data": {
            "application/vnd.google.colaboratory.intrinsic+json": {
              "type": "string"
            },
            "text/plain": [
              "'one . two . three . four . five . six . seven . ei'"
            ]
          },
          "metadata": {},
          "execution_count": 5
        }
      ]
    },
    {
      "cell_type": "code",
      "metadata": {
        "colab": {
          "base_uri": "https://localhost:8080/"
        },
        "id": "sq_fEat_07gj",
        "outputId": "48752f29-70b0-48dd-e5ae-25153e4a486f"
      },
      "source": [
        "# get the tokens by splitting on spaces\n",
        "tokens = text.split()\n",
        "tokens[:10]"
      ],
      "execution_count": 6,
      "outputs": [
        {
          "output_type": "execute_result",
          "data": {
            "text/plain": [
              "['one', '.', 'two', '.', 'three', '.', 'four', '.', 'five', '.']"
            ]
          },
          "metadata": {},
          "execution_count": 6
        }
      ]
    },
    {
      "cell_type": "code",
      "metadata": {
        "colab": {
          "base_uri": "https://localhost:8080/"
        },
        "id": "t_J9UXVd1FPy",
        "outputId": "aab5e88a-0f57-46e7-d501-331c361add4a"
      },
      "source": [
        "vocab = list(set(tokens))\n",
        "vocab[:10]"
      ],
      "execution_count": 7,
      "outputs": [
        {
          "output_type": "execute_result",
          "data": {
            "text/plain": [
              "['twenty',\n",
              " 'three',\n",
              " '.',\n",
              " 'fourteen',\n",
              " 'seventeen',\n",
              " 'fifty',\n",
              " 'nine',\n",
              " 'one',\n",
              " 'thirty',\n",
              " 'forty']"
            ]
          },
          "metadata": {},
          "execution_count": 7
        }
      ]
    },
    {
      "cell_type": "code",
      "metadata": {
        "colab": {
          "base_uri": "https://localhost:8080/"
        },
        "id": "0NlHi48J1QfZ",
        "outputId": "3274b465-d126-4dec-d4d5-1cc2ca27bf60"
      },
      "source": [
        "word2index = {word: i for i, word in enumerate(vocab)}\n",
        "word2index['two']"
      ],
      "execution_count": 8,
      "outputs": [
        {
          "output_type": "execute_result",
          "data": {
            "text/plain": [
              "21"
            ]
          },
          "metadata": {},
          "execution_count": 8
        }
      ]
    },
    {
      "cell_type": "code",
      "metadata": {
        "colab": {
          "base_uri": "https://localhost:8080/"
        },
        "id": "5_U2eQPm1nGo",
        "outputId": "7baa79b5-3d83-4d1a-e18c-4d34a43e3f5a"
      },
      "source": [
        "num_tokens = [word2index[word] for word in tokens]\n",
        "num_tokens[:10]"
      ],
      "execution_count": 9,
      "outputs": [
        {
          "output_type": "execute_result",
          "data": {
            "text/plain": [
              "[7, 2, 21, 2, 1, 2, 28, 2, 19, 2]"
            ]
          },
          "metadata": {},
          "execution_count": 9
        }
      ]
    },
    {
      "cell_type": "code",
      "metadata": {
        "colab": {
          "base_uri": "https://localhost:8080/"
        },
        "id": "p-8zFVpc1tkz",
        "outputId": "67781cb9-4c18-4a6b-d546-3d0ff0b00111"
      },
      "source": [
        "len_tks = 6\n",
        "\n",
        "for i in range(0,len_tks-4,3):\n",
        "  print(i)"
      ],
      "execution_count": 10,
      "outputs": [
        {
          "output_type": "stream",
          "name": "stdout",
          "text": [
            "0\n"
          ]
        }
      ]
    },
    {
      "cell_type": "code",
      "metadata": {
        "colab": {
          "base_uri": "https://localhost:8080/"
        },
        "id": "FobGrNvb2kHU",
        "outputId": "81f9a736-df57-4117-d9c7-85d4e6bd3184"
      },
      "source": [
        "print(len(tokens))"
      ],
      "execution_count": 11,
      "outputs": [
        {
          "output_type": "stream",
          "name": "stdout",
          "text": [
            "63095\n"
          ]
        }
      ]
    },
    {
      "cell_type": "code",
      "metadata": {
        "colab": {
          "base_uri": "https://localhost:8080/"
        },
        "id": "-1hM-xlw5OA2",
        "outputId": "21af18f8-e7b1-46d8-e5fc-598c70ac2a42"
      },
      "source": [
        "# want sequences of consecutive characters\n",
        "seq_len = 16\n",
        "seqs = [(torch.Tensor(num_tokens[i: i+seq_len]).long(), torch.Tensor(num_tokens[i+1:i+seq_len+1]).long()) for i in range(0,len(num_tokens)-seq_len-1, seq_len)]\n",
        "seqs[:2]                                                                                         "
      ],
      "execution_count": 12,
      "outputs": [
        {
          "output_type": "execute_result",
          "data": {
            "text/plain": [
              "[(tensor([ 7,  2, 21,  2,  1,  2, 28,  2, 19,  2, 14,  2, 16,  2, 18,  2]),\n",
              "  tensor([ 2, 21,  2,  1,  2, 28,  2, 19,  2, 14,  2, 16,  2, 18,  2,  6])),\n",
              " (tensor([ 6,  2, 29,  2, 22,  2, 26,  2, 10,  2,  3,  2, 20,  2, 13,  2]),\n",
              "  tensor([ 2, 29,  2, 22,  2, 26,  2, 10,  2,  3,  2, 20,  2, 13,  2,  4]))]"
            ]
          },
          "metadata": {},
          "execution_count": 12
        }
      ]
    },
    {
      "cell_type": "code",
      "metadata": {
        "id": "svHE4W8p2ox0"
      },
      "source": [
        "# want data in order\n",
        "# (0, m, 2m, ..., )\n",
        "\n",
        "def group_chunks(dset, bs):\n",
        "  m = len(dset) // bs\n",
        "  new_dset = []\n",
        "\n",
        "  for i in range(m):\n",
        "    new_dset += [dset[i + m*j] for j in range(bs)]\n",
        "  return new_dset"
      ],
      "execution_count": 13,
      "outputs": []
    },
    {
      "cell_type": "code",
      "metadata": {
        "id": "EFxhtjY45DhL"
      },
      "source": [
        "bs = 64\n",
        "cut = int(len(seqs) * 0.8)\n",
        "dls = DataLoaders.from_dsets(\n",
        "    group_chunks(seqs[:cut], bs), \n",
        "    group_chunks(seqs[cut:], bs), \n",
        "    bs=bs, drop_last=True, shuffle=False)"
      ],
      "execution_count": 14,
      "outputs": []
    },
    {
      "cell_type": "code",
      "metadata": {
        "colab": {
          "base_uri": "https://localhost:8080/"
        },
        "id": "igAdPdXT17FV",
        "outputId": "b08fa837-8cef-4d5e-e5bd-91a84cb70064"
      },
      "source": [
        "x, y = dls.one_batch()\n",
        "x.shape, y.shape"
      ],
      "execution_count": 15,
      "outputs": [
        {
          "output_type": "execute_result",
          "data": {
            "text/plain": [
              "(torch.Size([64, 16]), torch.Size([64, 16]))"
            ]
          },
          "metadata": {},
          "execution_count": 15
        }
      ]
    },
    {
      "cell_type": "markdown",
      "metadata": {
        "id": "qnAg_mkB7ba7"
      },
      "source": [
        "### Experiment with RNNs\n",
        "- Write RNNs from scratch"
      ]
    },
    {
      "cell_type": "code",
      "metadata": {
        "id": "Hv3xunCD5NQo"
      },
      "source": [
        "class LMModel1(Module):\n",
        "  def __init__(self, vocab_sz, n_hidden):\n",
        "    self.i_h = nn.Embedding(vocab_sz, n_hidden)\n",
        "    self.h_h = nn.Linear(n_hidden, n_hidden)\n",
        "    self.h_o = nn.Linear(n_hidden, vocab_sz)\n",
        "    self.h = 0\n",
        "    self.relu = nn.ReLU()\n",
        "  \n",
        "  def forward(self, x):\n",
        "    # print(x.shape)\n",
        "    outs = []\n",
        "    for i in range(x.shape[1]):\n",
        "      # add the hidden state to the input to hidden state\n",
        "      self.h = self.h + self.i_h(x[:, i])\n",
        "      # compute new hidden state\n",
        "      self.h = self.relu(self.h_h(self.h))\n",
        "      # make a prediction for new character\n",
        "      outs.append(self.h_o(self.h))\n",
        "\n",
        "      \n",
        "    self.h = self.h.detach()\n",
        "    outs = torch.stack(outs, dim=1)\n",
        "    # print(outs.shape)\n",
        "\n",
        "    return outs\n",
        "  \n",
        "  \n",
        "  def reset(self):\n",
        "    self.h = 0"
      ],
      "execution_count": 16,
      "outputs": []
    },
    {
      "cell_type": "code",
      "metadata": {
        "id": "qcBySyFk_ybR"
      },
      "source": [
        "def flat_cross_entropy(inp, targ):\n",
        "  # flatten the target from (bs, seq) -> (bs*seq)\n",
        "  # accomodate by flattening inputs (bs, seq, vocab_sz) -> (bs*seq, vocab_sz)\n",
        "  return F.cross_entropy(inp.view(bs*seq_len, -1), targ.view(-1))"
      ],
      "execution_count": 17,
      "outputs": []
    },
    {
      "cell_type": "code",
      "metadata": {
        "id": "NZDxJYIN9655"
      },
      "source": [
        "def loss_func(inp, targ):\n",
        "    return F.cross_entropy(inp.view(-1, len(vocab)), targ.view(-1))"
      ],
      "execution_count": 18,
      "outputs": []
    },
    {
      "cell_type": "code",
      "metadata": {
        "colab": {
          "base_uri": "https://localhost:8080/"
        },
        "id": "PTqEtzKs12KJ",
        "outputId": "adaa3390-7bd9-45f0-961c-4df00eea90de"
      },
      "source": [
        "print(len(vocab))"
      ],
      "execution_count": 19,
      "outputs": [
        {
          "output_type": "stream",
          "name": "stdout",
          "text": [
            "30\n"
          ]
        }
      ]
    },
    {
      "cell_type": "code",
      "metadata": {
        "colab": {
          "base_uri": "https://localhost:8080/",
          "height": 302
        },
        "id": "n9jANdP57an3",
        "outputId": "a175ce11-23ee-440a-99c1-38b7599e171d"
      },
      "source": [
        "learn = Learner(dls, LMModel1(len(vocab), 64), loss_func=flat_cross_entropy,\n",
        "                metrics=accuracy, cbs=ModelResetter)\n",
        "learn.lr_find()"
      ],
      "execution_count": 20,
      "outputs": [
        {
          "output_type": "display_data",
          "data": {
            "text/html": [
              ""
            ],
            "text/plain": [
              "<IPython.core.display.HTML object>"
            ]
          },
          "metadata": {}
        },
        {
          "output_type": "execute_result",
          "data": {
            "text/plain": [
              "SuggestedLRs(valley=0.0010000000474974513)"
            ]
          },
          "metadata": {},
          "execution_count": 20
        },
        {
          "output_type": "display_data",
          "data": {
            "image/png": "[encoded data removed]",
            "text/plain": [
              "<Figure size 432x288 with 1 Axes>"
            ]
          },
          "metadata": {
            "needs_background": "light"
          }
        }
      ]
    },
    {
      "cell_type": "code",
      "metadata": {
        "colab": {
          "base_uri": "https://localhost:8080/",
          "height": 669
        },
        "id": "I0gXSKxH9gxc",
        "outputId": "fb5c5f3c-5d62-4bd0-b06e-306740c381ec"
      },
      "source": [
        "learn.fit_one_cycle(20, 0.0005)"
      ],
      "execution_count": 21,
      "outputs": [
        {
          "output_type": "display_data",
          "data": {
            "text/html": [
              "<table border=\"1\" class=\"dataframe\">\n",
              "  <thead>\n",
              "    <tr style=\"text-align: left;\">\n",
              "      <th>epoch</th>\n",
              "      <th>train_loss</th>\n",
              "      <th>valid_loss</th>\n",
              "      <th>accuracy</th>\n",
              "      <th>time</th>\n",
              "    </tr>\n",
              "  </thead>\n",
              "  <tbody>\n",
              "    <tr>\n",
              "      <td>0</td>\n",
              "      <td>3.323441</td>\n",
              "      <td>3.309674</td>\n",
              "      <td>0.036621</td>\n",
              "      <td>00:01</td>\n",
              "    </tr>\n",
              "    <tr>\n",
              "      <td>1</td>\n",
              "      <td>3.209437</td>\n",
              "      <td>3.100973</td>\n",
              "      <td>0.291016</td>\n",
              "      <td>00:01</td>\n",
              "    </tr>\n",
              "    <tr>\n",
              "      <td>2</td>\n",
              "      <td>2.792349</td>\n",
              "      <td>2.227321</td>\n",
              "      <td>0.416911</td>\n",
              "      <td>00:01</td>\n",
              "    </tr>\n",
              "    <tr>\n",
              "      <td>3</td>\n",
              "      <td>2.113846</td>\n",
              "      <td>1.895303</td>\n",
              "      <td>0.473551</td>\n",
              "      <td>00:01</td>\n",
              "    </tr>\n",
              "    <tr>\n",
              "      <td>4</td>\n",
              "      <td>1.754839</td>\n",
              "      <td>1.870028</td>\n",
              "      <td>0.474609</td>\n",
              "      <td>00:01</td>\n",
              "    </tr>\n",
              "    <tr>\n",
              "      <td>5</td>\n",
              "      <td>1.569274</td>\n",
              "      <td>1.816618</td>\n",
              "      <td>0.474691</td>\n",
              "      <td>00:01</td>\n",
              "    </tr>\n",
              "    <tr>\n",
              "      <td>6</td>\n",
              "      <td>1.452861</td>\n",
              "      <td>1.807349</td>\n",
              "      <td>0.468669</td>\n",
              "      <td>00:01</td>\n",
              "    </tr>\n",
              "    <tr>\n",
              "      <td>7</td>\n",
              "      <td>1.379259</td>\n",
              "      <td>1.766390</td>\n",
              "      <td>0.480876</td>\n",
              "      <td>00:01</td>\n",
              "    </tr>\n",
              "    <tr>\n",
              "      <td>8</td>\n",
              "      <td>1.328319</td>\n",
              "      <td>1.754932</td>\n",
              "      <td>0.499430</td>\n",
              "      <td>00:01</td>\n",
              "    </tr>\n",
              "    <tr>\n",
              "      <td>9</td>\n",
              "      <td>1.293603</td>\n",
              "      <td>1.732118</td>\n",
              "      <td>0.490641</td>\n",
              "      <td>00:01</td>\n",
              "    </tr>\n",
              "    <tr>\n",
              "      <td>10</td>\n",
              "      <td>1.265303</td>\n",
              "      <td>1.758426</td>\n",
              "      <td>0.517497</td>\n",
              "      <td>00:01</td>\n",
              "    </tr>\n",
              "    <tr>\n",
              "      <td>11</td>\n",
              "      <td>1.242635</td>\n",
              "      <td>1.716512</td>\n",
              "      <td>0.522624</td>\n",
              "      <td>00:01</td>\n",
              "    </tr>\n",
              "    <tr>\n",
              "      <td>12</td>\n",
              "      <td>1.216252</td>\n",
              "      <td>1.716262</td>\n",
              "      <td>0.522868</td>\n",
              "      <td>00:01</td>\n",
              "    </tr>\n",
              "    <tr>\n",
              "      <td>13</td>\n",
              "      <td>1.197175</td>\n",
              "      <td>1.722088</td>\n",
              "      <td>0.534261</td>\n",
              "      <td>00:01</td>\n",
              "    </tr>\n",
              "    <tr>\n",
              "      <td>14</td>\n",
              "      <td>1.182512</td>\n",
              "      <td>1.727066</td>\n",
              "      <td>0.525228</td>\n",
              "      <td>00:01</td>\n",
              "    </tr>\n",
              "    <tr>\n",
              "      <td>15</td>\n",
              "      <td>1.175634</td>\n",
              "      <td>1.724297</td>\n",
              "      <td>0.536947</td>\n",
              "      <td>00:01</td>\n",
              "    </tr>\n",
              "    <tr>\n",
              "      <td>16</td>\n",
              "      <td>1.165996</td>\n",
              "      <td>1.705571</td>\n",
              "      <td>0.526367</td>\n",
              "      <td>00:01</td>\n",
              "    </tr>\n",
              "    <tr>\n",
              "      <td>17</td>\n",
              "      <td>1.157043</td>\n",
              "      <td>1.712597</td>\n",
              "      <td>0.529867</td>\n",
              "      <td>00:01</td>\n",
              "    </tr>\n",
              "    <tr>\n",
              "      <td>18</td>\n",
              "      <td>1.152178</td>\n",
              "      <td>1.714581</td>\n",
              "      <td>0.528971</td>\n",
              "      <td>00:01</td>\n",
              "    </tr>\n",
              "    <tr>\n",
              "      <td>19</td>\n",
              "      <td>1.149653</td>\n",
              "      <td>1.714755</td>\n",
              "      <td>0.531576</td>\n",
              "      <td>00:01</td>\n",
              "    </tr>\n",
              "  </tbody>\n",
              "</table>"
            ],
            "text/plain": [
              "<IPython.core.display.HTML object>"
            ]
          },
          "metadata": {}
        }
      ]
    },
    {
      "cell_type": "markdown",
      "metadata": {
        "id": "831VNhNX_onc"
      },
      "source": [
        "### Multilayer RNN\n",
        "- Experiment with multilayer RNNs\n",
        "- Have a different hidden state in effect making the model deeper (more params to update)\n",
        "- Make the multilayer RNN from scratch\n",
        "- Make the multilayer RNN using pytorch"
      ]
    },
    {
      "cell_type": "code",
      "metadata": {
        "id": "-_knlhfh-ZAE"
      },
      "source": [
        "class LMModel2(Module):\n",
        "\n",
        "  def __init__(self, vocab_sz, n_hidden, n_layers):\n",
        "    self.n_layers = n_layers\n",
        "    self.n_hidden = n_hidden\n",
        "    self.relu = nn.ReLU()\n",
        "    # must create hidden state for each layer in the network\n",
        "    self.h = torch.zeros(n_layers, bs, n_hidden)\n",
        "\n",
        "    self.i_h = nn.Embedding(vocab_sz, n_hidden)\n",
        "    self.rnn_layers = []\n",
        "    # create the middle rnn layers according to n_layers\n",
        "    for i in range(n_layers):\n",
        "      self.rnn_layers.append(nn.Linear(n_hidden, n_hidden))\n",
        "    self.h_o = nn.Linear(n_hidden, vocab_sz)\n",
        "\n",
        "\n",
        "  def forward(self, x):\n",
        "    outs = []\n",
        "\n",
        "    # loop through the sequence of inputs\n",
        "    for i in range(x.shape[1]):\n",
        "      # update the hidden state for the first RNN layer\n",
        "      self.h.data[0] = self.h.data[0] + self.i_h(x[:, i])\n",
        "\n",
        "      # loop through multilayers and apply them\n",
        "      for i, h_layer in enumerate(self.rnn_layers):\n",
        "        if i == 0:\n",
        "          # already dealt with input to first layer above, apply hidden layer\n",
        "          self.h.data[i] = self.relu(h_layer(self.h.data[i]))\n",
        "\n",
        "        else:\n",
        "          # pass prev activations in\n",
        "          self.h.data[i] = self.h.data[i] + self.h.data[i-1]\n",
        "          # apply new RNN layer\n",
        "          self.h.data[i] = self.relu(h_layer(self.h.data[i]))\n",
        "      \n",
        "      # at the end, go hidden to output on the last set of activations\n",
        "      outs.append(self.h_o(self.h[-1]))\n",
        "\n",
        "    # detach the gradients\n",
        "    self.h = self.h.detach()\n",
        "\n",
        "    return torch.stack(outs, dim=1)\n",
        "  \n",
        "  def reset(self):\n",
        "    # reset the hidden state on epoch or validation\n",
        "    # self.h = torch.zeros(self.n_layers, bs, self.n_hidden)\n",
        "    self.h = torch.zeros_like(self.h)"
      ],
      "execution_count": 17,
      "outputs": []
    },
    {
      "cell_type": "code",
      "metadata": {
        "colab": {
          "base_uri": "https://localhost:8080/",
          "height": 297
        },
        "id": "QHaAjx2NCpwZ",
        "outputId": "cbe8e8ae-3cba-445f-a68a-cb2b1d5e17e4"
      },
      "source": [
        "learn = Learner(dls, LMModel2(len(vocab), 64, 2), \n",
        "                loss_func=CrossEntropyLossFlat(), \n",
        "                metrics=accuracy, cbs=ModelResetter)\n",
        "learn.fit_one_cycle(8, 3e-3)"
      ],
      "execution_count": 18,
      "outputs": [
        {
          "output_type": "display_data",
          "data": {
            "text/html": [
              "<table border=\"1\" class=\"dataframe\">\n",
              "  <thead>\n",
              "    <tr style=\"text-align: left;\">\n",
              "      <th>epoch</th>\n",
              "      <th>train_loss</th>\n",
              "      <th>valid_loss</th>\n",
              "      <th>accuracy</th>\n",
              "      <th>time</th>\n",
              "    </tr>\n",
              "  </thead>\n",
              "  <tbody>\n",
              "    <tr>\n",
              "      <td>0</td>\n",
              "      <td>3.336657</td>\n",
              "      <td>3.264450</td>\n",
              "      <td>0.029053</td>\n",
              "      <td>00:01</td>\n",
              "    </tr>\n",
              "    <tr>\n",
              "      <td>1</td>\n",
              "      <td>3.054815</td>\n",
              "      <td>2.894682</td>\n",
              "      <td>0.124674</td>\n",
              "      <td>00:01</td>\n",
              "    </tr>\n",
              "    <tr>\n",
              "      <td>2</td>\n",
              "      <td>2.864093</td>\n",
              "      <td>2.818560</td>\n",
              "      <td>0.162109</td>\n",
              "      <td>00:01</td>\n",
              "    </tr>\n",
              "    <tr>\n",
              "      <td>3</td>\n",
              "      <td>2.783172</td>\n",
              "      <td>2.801814</td>\n",
              "      <td>0.174235</td>\n",
              "      <td>00:01</td>\n",
              "    </tr>\n",
              "    <tr>\n",
              "      <td>4</td>\n",
              "      <td>2.751319</td>\n",
              "      <td>2.798034</td>\n",
              "      <td>0.171387</td>\n",
              "      <td>00:01</td>\n",
              "    </tr>\n",
              "    <tr>\n",
              "      <td>5</td>\n",
              "      <td>2.740172</td>\n",
              "      <td>2.797850</td>\n",
              "      <td>0.148438</td>\n",
              "      <td>00:01</td>\n",
              "    </tr>\n",
              "    <tr>\n",
              "      <td>6</td>\n",
              "      <td>2.736782</td>\n",
              "      <td>2.797473</td>\n",
              "      <td>0.146322</td>\n",
              "      <td>00:01</td>\n",
              "    </tr>\n",
              "    <tr>\n",
              "      <td>7</td>\n",
              "      <td>2.735783</td>\n",
              "      <td>2.797346</td>\n",
              "      <td>0.146159</td>\n",
              "      <td>00:01</td>\n",
              "    </tr>\n",
              "  </tbody>\n",
              "</table>"
            ],
            "text/plain": [
              "<IPython.core.display.HTML object>"
            ]
          },
          "metadata": {}
        }
      ]
    },
    {
      "cell_type": "markdown",
      "metadata": {
        "id": "h8jq7dAdInG1"
      },
      "source": [
        "## Realizations from above\n",
        "- After writing the RNN code, I realized that it was not training\n",
        "- You cannot index into a variable in pytorch and set it partially when requires grad; a work around would be needed for this\n",
        "- If the indexing in pytorch did not require a work around, the previous model would have worked\n",
        "- Try implementing multilayer rnn with pytorch now"
      ]
    },
    {
      "cell_type": "code",
      "metadata": {
        "id": "Jdzf1JElCvXI"
      },
      "source": [
        "# override the previous LMModel2 class\n",
        "class LMModel2(Module):\n",
        "  def __init__(self, vocab_sz, n_hidden, n_layers):\n",
        "    self.i_h = nn.Embedding(vocab_sz, n_hidden)\n",
        "    self.rnn = nn.RNN(n_hidden, n_hidden, n_layers, batch_first=True)\n",
        "    self.h_o = nn.Linear(n_hidden, vocab_sz)\n",
        "    self.h = torch.zeros(n_layers, bs, n_hidden)\n",
        "\n",
        "  \n",
        "  def forward(self, x):\n",
        "    inps = self.i_h(x)\n",
        "    # this does all of the for loops and indexing to end with a final outs variable\n",
        "    outs, hid = self.rnn(inps, self.h)\n",
        "    # print(hid.grad)\n",
        "    self.h = self.h.detach()\n",
        "    return self.h_o(outs)\n",
        "  \n",
        "\n",
        "  def reset(self):\n",
        "    self.h.zero_()"
      ],
      "execution_count": 37,
      "outputs": []
    },
    {
      "cell_type": "code",
      "metadata": {
        "colab": {
          "base_uri": "https://localhost:8080/",
          "height": 297
        },
        "id": "o4Y5bIWCCplK",
        "outputId": "5e0ec622-0d30-4135-eff3-120f773d1dc5"
      },
      "source": [
        "learn = Learner(dls, LMModel2(len(vocab), 64, 2), \n",
        "                loss_func=CrossEntropyLossFlat(), \n",
        "                metrics=accuracy, cbs=ModelResetter)\n",
        "learn.fit_one_cycle(8, 3e-3)"
      ],
      "execution_count": 38,
      "outputs": [
        {
          "output_type": "display_data",
          "data": {
            "text/html": [
              "<table border=\"1\" class=\"dataframe\">\n",
              "  <thead>\n",
              "    <tr style=\"text-align: left;\">\n",
              "      <th>epoch</th>\n",
              "      <th>train_loss</th>\n",
              "      <th>valid_loss</th>\n",
              "      <th>accuracy</th>\n",
              "      <th>time</th>\n",
              "    </tr>\n",
              "  </thead>\n",
              "  <tbody>\n",
              "    <tr>\n",
              "      <td>0</td>\n",
              "      <td>2.773918</td>\n",
              "      <td>2.088853</td>\n",
              "      <td>0.445394</td>\n",
              "      <td>00:01</td>\n",
              "    </tr>\n",
              "    <tr>\n",
              "      <td>1</td>\n",
              "      <td>1.890882</td>\n",
              "      <td>1.825922</td>\n",
              "      <td>0.440837</td>\n",
              "      <td>00:01</td>\n",
              "    </tr>\n",
              "    <tr>\n",
              "      <td>2</td>\n",
              "      <td>1.607420</td>\n",
              "      <td>1.900379</td>\n",
              "      <td>0.330892</td>\n",
              "      <td>00:01</td>\n",
              "    </tr>\n",
              "    <tr>\n",
              "      <td>3</td>\n",
              "      <td>1.471005</td>\n",
              "      <td>1.938458</td>\n",
              "      <td>0.343913</td>\n",
              "      <td>00:01</td>\n",
              "    </tr>\n",
              "    <tr>\n",
              "      <td>4</td>\n",
              "      <td>1.390500</td>\n",
              "      <td>1.917730</td>\n",
              "      <td>0.377279</td>\n",
              "      <td>00:01</td>\n",
              "    </tr>\n",
              "    <tr>\n",
              "      <td>5</td>\n",
              "      <td>1.337064</td>\n",
              "      <td>2.002375</td>\n",
              "      <td>0.373779</td>\n",
              "      <td>00:01</td>\n",
              "    </tr>\n",
              "    <tr>\n",
              "      <td>6</td>\n",
              "      <td>1.302500</td>\n",
              "      <td>2.039661</td>\n",
              "      <td>0.373779</td>\n",
              "      <td>00:01</td>\n",
              "    </tr>\n",
              "    <tr>\n",
              "      <td>7</td>\n",
              "      <td>1.283795</td>\n",
              "      <td>2.055036</td>\n",
              "      <td>0.374349</td>\n",
              "      <td>00:01</td>\n",
              "    </tr>\n",
              "  </tbody>\n",
              "</table>"
            ],
            "text/plain": [
              "<IPython.core.display.HTML object>"
            ]
          },
          "metadata": {}
        }
      ]
    },
    {
      "cell_type": "code",
      "metadata": {
        "colab": {
          "base_uri": "https://localhost:8080/"
        },
        "id": "C2y5-ehZha7H",
        "outputId": "44add55d-5408-4dc2-ce34-8d28b1ca499e"
      },
      "source": [
        "learn.model"
      ],
      "execution_count": 39,
      "outputs": [
        {
          "output_type": "execute_result",
          "data": {
            "text/plain": [
              "LMModel2(\n",
              "  (i_h): Embedding(30, 64)\n",
              "  (rnn): RNN(64, 64, num_layers=2, batch_first=True)\n",
              "  (h_o): Linear(in_features=64, out_features=30, bias=True)\n",
              ")"
            ]
          },
          "metadata": {},
          "execution_count": 39
        }
      ]
    },
    {
      "cell_type": "code",
      "metadata": {
        "colab": {
          "base_uri": "https://localhost:8080/"
        },
        "id": "-D6Y2918iyCr",
        "outputId": "c8a8dee5-f923-423f-8efc-7b9a0f659723"
      },
      "source": [
        "learn.model.parameters()"
      ],
      "execution_count": 46,
      "outputs": [
        {
          "output_type": "execute_result",
          "data": {
            "text/plain": [
              "<generator object Module.parameters at 0x7f50c55a9cd0>"
            ]
          },
          "metadata": {},
          "execution_count": 46
        }
      ]
    },
    {
      "cell_type": "code",
      "metadata": {
        "id": "Sp3bF04OhFVi"
      },
      "source": [
        "# run one epochs and look at gradients\n",
        "# for x, y in dls.train:\n",
        "#   preds = learn.model(x)\n",
        "\n",
        "#   loss = learn.loss(preds, y)\n",
        "#   loss.backward()\n",
        "\n",
        "#   print(learn.model.parameters().grad)\n"
      ],
      "execution_count": 48,
      "outputs": []
    },
    {
      "cell_type": "code",
      "metadata": {
        "colab": {
          "base_uri": "https://localhost:8080/"
        },
        "id": "Qc3Y0MaoKawG",
        "outputId": "dd3cd272-0abc-45d9-fdd3-d1977f826f26"
      },
      "source": [
        "learn.model.h_o.weight"
      ],
      "execution_count": 23,
      "outputs": [
        {
          "output_type": "execute_result",
          "data": {
            "text/plain": [
              "Parameter containing:\n",
              "tensor([[-0.1346, -0.0105, -0.0292,  ...,  0.1076,  0.1697, -0.0790],\n",
              "        [-0.1446, -0.1159, -0.0657,  ...,  0.3506,  0.0702, -0.1373],\n",
              "        [-0.0230,  0.2399, -0.0219,  ..., -0.0172, -0.1246, -0.0223],\n",
              "        ...,\n",
              "        [ 0.0767, -0.2379,  0.1511,  ...,  0.1802, -0.0354, -0.0948],\n",
              "        [ 0.0534, -0.1983,  0.1668,  ..., -0.0494, -0.1688, -0.1655],\n",
              "        [-0.1557, -0.0960, -0.1385,  ..., -0.2076,  0.0217, -0.0095]], requires_grad=True)"
            ]
          },
          "metadata": {},
          "execution_count": 23
        }
      ]
    },
    {
      "cell_type": "markdown",
      "metadata": {
        "id": "Ao_l2LeikB9C"
      },
      "source": [
        "### Implement LSTM \n",
        "- First implement it from scratch\n",
        "- Then, implement from scratch with matrix mult and chunks in 4\n",
        "- Finally implement using pytorch"
      ]
    },
    {
      "cell_type": "code",
      "metadata": {
        "id": "pka4h4N6kBOc"
      },
      "source": [
        "class LSTMCell(Module):\n",
        "  def __init__(self, x_sz, h_sz):\n",
        "    # create 4 different gates, each for the type of gate in the lstm cell\n",
        "    self.forget = nn.Linear(x_sz + h_sz, h_sz)\n",
        "    self.input = nn.Linear(x_sz + h_sz, h_sz)\n",
        "    self.cell = nn.Linear(x_sz + h_sz, h_sz)\n",
        "    self.output = nn.Linear(x_sz + h_sz, h_sz)\n",
        "  \n",
        "    self.sig = nn.Sigmoid()\n",
        "    self.tanh = nn.Tanh()\n",
        "  \n",
        "\n",
        "  def forward(self, x, state):\n",
        "    # spread the hidden state\n",
        "    h, c = state\n",
        "    # concat the inputs\n",
        "    all_inps = torch.cat([x, h], dim=1)\n",
        "\n",
        "    c = c * self.sig(self.forget(all_inps))\n",
        "\n",
        "    input_combined = self.sig(self.input(all_inps)) * self.tanh(self.cell(all_inps))\n",
        "    c = c + input_combined\n",
        "\n",
        "    h = self.sig(self.output(all_inps)) * self.tanh(c)\n",
        "\n",
        "    return h, (h, c)\n",
        "\n"
      ],
      "execution_count": 16,
      "outputs": []
    },
    {
      "cell_type": "code",
      "metadata": {
        "id": "7ybuGzu-gcNr"
      },
      "source": [
        "class LSTMCellSimplified(Module):\n",
        "  def __init__(self, x_sz, h_sz):\n",
        "    self.i_h = nn.Linear(x_sz, h_sz*4)\n",
        "    self.h_h = nn.Linear(h_sz, h_sz*4)\n",
        "    self.sig = nn.Sigmoid()\n",
        "    self.tanh = nn.Tanh()\n",
        "  \n",
        "  def forward(self, x, state):\n",
        "    h, c = state\n",
        "\n",
        "    # combine the x input and hidden input into 4 gates\n",
        "    all_gates = (self.i_h(x) + self.h_h(h)).chunk(4, dim=1)\n",
        "\n",
        "    # apply functinos to layers\n",
        "    forget, input, output = map(self.sig, all_gates[:3])\n",
        "    cell = self.tanh(all_gates[3])\n",
        "\n",
        "    # perform cell computations\n",
        "    c = c * forget\n",
        "    c = c + input*cell\n",
        "    # note: you may need to flip this line to:\n",
        "    # h = output * self.tanh(c)\n",
        "    h = self.tanh(c) * output\n",
        "\n",
        "    return h, (h, c)\n"
      ],
      "execution_count": 17,
      "outputs": []
    },
    {
      "cell_type": "code",
      "metadata": {
        "id": "wdXEixvCZLCw"
      },
      "source": [
        ""
      ],
      "execution_count": null,
      "outputs": []
    }
  ]
}