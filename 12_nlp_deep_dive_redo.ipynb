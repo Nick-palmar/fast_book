{
  "nbformat": 4,
  "nbformat_minor": 0,
  "metadata": {
    "colab": {
      "name": "12_nlp_deep_dive_redo.ipynb",
      "provenance": []
    },
    "kernelspec": {
      "name": "python3",
      "display_name": "Python 3"
    },
    "language_info": {
      "name": "python"
    },
    "accelerator": "GPU"
  },
  "cells": [
    {
      "cell_type": "code",
      "metadata": {
        "id": "u8JMhhooxh60"
      },
      "source": [
        "!pip install -Uqq fastbook\n",
        "import fastbook\n",
        "fastbook.setup_book()\n",
        "from fastbook import *"
      ],
      "execution_count": 1,
      "outputs": []
    },
    {
      "cell_type": "code",
      "metadata": {
        "id": "Raz-vxl2y6mK"
      },
      "source": [
        "from fastai.text.all import *\n",
        "path = untar_data(URLs.HUMAN_NUMBERS)"
      ],
      "execution_count": 2,
      "outputs": []
    },
    {
      "cell_type": "code",
      "metadata": {
        "id": "OyOYCQmNzK7X"
      },
      "source": [
        "Path.BASE_PATH = path"
      ],
      "execution_count": 3,
      "outputs": []
    },
    {
      "cell_type": "code",
      "metadata": {
        "colab": {
          "base_uri": "https://localhost:8080/"
        },
        "id": "XelDpuxCzNeZ",
        "outputId": "88c6642b-17b3-4ea2-bb47-328fb47ac137"
      },
      "source": [
        "lines = L()\n",
        "with open(path/'train.txt') as f: lines += L(*f.readlines())\n",
        "with open(path/'valid.txt') as f: lines += L(*f.readlines())\n",
        "lines"
      ],
      "execution_count": 4,
      "outputs": [
        {
          "output_type": "execute_result",
          "data": {
            "text/plain": [
              "(#9998) ['one \\n','two \\n','three \\n','four \\n','five \\n','six \\n','seven \\n','eight \\n','nine \\n','ten \\n'...]"
            ]
          },
          "metadata": {},
          "execution_count": 4
        }
      ]
    },
    {
      "cell_type": "markdown",
      "metadata": {
        "id": "jnksChHlz5OB"
      },
      "source": [
        "### Data Preprocessing\n",
        "- Preprocess the dataset for the language model\n",
        "- Manually tokenize and numericalize the data\n",
        "- Create batches for the model to read"
      ]
    },
    {
      "cell_type": "code",
      "metadata": {
        "colab": {
          "base_uri": "https://localhost:8080/",
          "height": 37
        },
        "id": "n_SJZ1P2zQYL",
        "outputId": "bc2db8fd-d2f6-4a28-f563-1a759dd15cf1"
      },
      "source": [
        "text = \" . \".join(line.strip() for line in lines)\n",
        "text[:50]"
      ],
      "execution_count": 5,
      "outputs": [
        {
          "output_type": "execute_result",
          "data": {
            "application/vnd.google.colaboratory.intrinsic+json": {
              "type": "string"
            },
            "text/plain": [
              "'one . two . three . four . five . six . seven . ei'"
            ]
          },
          "metadata": {},
          "execution_count": 5
        }
      ]
    },
    {
      "cell_type": "code",
      "metadata": {
        "colab": {
          "base_uri": "https://localhost:8080/"
        },
        "id": "sq_fEat_07gj",
        "outputId": "a988c170-4ee6-4a6c-e8c4-a82007476746"
      },
      "source": [
        "# get the tokens by splitting on spaces\n",
        "tokens = text.split()\n",
        "tokens[:10]"
      ],
      "execution_count": 6,
      "outputs": [
        {
          "output_type": "execute_result",
          "data": {
            "text/plain": [
              "['one', '.', 'two', '.', 'three', '.', 'four', '.', 'five', '.']"
            ]
          },
          "metadata": {},
          "execution_count": 6
        }
      ]
    },
    {
      "cell_type": "code",
      "metadata": {
        "colab": {
          "base_uri": "https://localhost:8080/"
        },
        "id": "t_J9UXVd1FPy",
        "outputId": "89ed39fc-154a-4177-8024-4d90dd16e472"
      },
      "source": [
        "vocab = list(set(tokens))\n",
        "vocab[:10]"
      ],
      "execution_count": 7,
      "outputs": [
        {
          "output_type": "execute_result",
          "data": {
            "text/plain": [
              "['forty',\n",
              " 'twelve',\n",
              " 'thirty',\n",
              " 'four',\n",
              " 'three',\n",
              " 'thirteen',\n",
              " 'seven',\n",
              " 'seventeen',\n",
              " 'seventy',\n",
              " 'two']"
            ]
          },
          "metadata": {},
          "execution_count": 7
        }
      ]
    },
    {
      "cell_type": "code",
      "metadata": {
        "colab": {
          "base_uri": "https://localhost:8080/"
        },
        "id": "0NlHi48J1QfZ",
        "outputId": "d3c8ca5a-7b5b-43ca-e384-bfda9df67c73"
      },
      "source": [
        "word2index = {word: i for i, word in enumerate(vocab)}\n",
        "word2index['two']"
      ],
      "execution_count": 8,
      "outputs": [
        {
          "output_type": "execute_result",
          "data": {
            "text/plain": [
              "9"
            ]
          },
          "metadata": {},
          "execution_count": 8
        }
      ]
    },
    {
      "cell_type": "code",
      "metadata": {
        "colab": {
          "base_uri": "https://localhost:8080/"
        },
        "id": "5_U2eQPm1nGo",
        "outputId": "4b4df8c4-9c2a-413b-e1fb-64078d92bea5"
      },
      "source": [
        "num_tokens = [word2index[word] for word in tokens]\n",
        "num_tokens[:10]"
      ],
      "execution_count": 9,
      "outputs": [
        {
          "output_type": "execute_result",
          "data": {
            "text/plain": [
              "[28, 23, 9, 23, 4, 23, 3, 23, 15, 23]"
            ]
          },
          "metadata": {},
          "execution_count": 9
        }
      ]
    },
    {
      "cell_type": "code",
      "metadata": {
        "colab": {
          "base_uri": "https://localhost:8080/"
        },
        "id": "p-8zFVpc1tkz",
        "outputId": "aeae4e9e-335e-4ccd-94f0-c1ba915fc61c"
      },
      "source": [
        "len_tks = 6\n",
        "\n",
        "for i in range(0,len_tks-4,3):\n",
        "  print(i)"
      ],
      "execution_count": 10,
      "outputs": [
        {
          "output_type": "stream",
          "name": "stdout",
          "text": [
            "0\n"
          ]
        }
      ]
    },
    {
      "cell_type": "code",
      "metadata": {
        "colab": {
          "base_uri": "https://localhost:8080/"
        },
        "id": "FobGrNvb2kHU",
        "outputId": "5d3532df-5cbe-40b0-e5c7-c310a21de332"
      },
      "source": [
        "print(len(tokens))"
      ],
      "execution_count": 11,
      "outputs": [
        {
          "output_type": "stream",
          "name": "stdout",
          "text": [
            "63095\n"
          ]
        }
      ]
    },
    {
      "cell_type": "code",
      "metadata": {
        "colab": {
          "base_uri": "https://localhost:8080/"
        },
        "id": "-1hM-xlw5OA2",
        "outputId": "4004ef12-5ac1-4ddd-d0f0-2eb2e82c8c56"
      },
      "source": [
        "# want sequences of consecutive characters\n",
        "seq_len = 16\n",
        "seqs = [(torch.Tensor(num_tokens[i: i+seq_len]).long(), torch.Tensor(num_tokens[i+1:i+seq_len+1]).long()) for i in range(0,len(num_tokens)-seq_len-1, seq_len)]\n",
        "seqs[:2]                                                                                         "
      ],
      "execution_count": 12,
      "outputs": [
        {
          "output_type": "execute_result",
          "data": {
            "text/plain": [
              "[(tensor([28, 23,  9, 23,  4, 23,  3, 23, 15, 23, 12, 23,  6, 23, 13, 23]),\n",
              "  tensor([23,  9, 23,  4, 23,  3, 23, 15, 23, 12, 23,  6, 23, 13, 23, 19])),\n",
              " (tensor([19, 23, 24, 23, 25, 23,  1, 23,  5, 23, 29, 23, 22, 23, 14, 23]),\n",
              "  tensor([23, 24, 23, 25, 23,  1, 23,  5, 23, 29, 23, 22, 23, 14, 23,  7]))]"
            ]
          },
          "metadata": {},
          "execution_count": 12
        }
      ]
    },
    {
      "cell_type": "code",
      "metadata": {
        "id": "svHE4W8p2ox0"
      },
      "source": [
        "# want data in order\n",
        "# (0, m, 2m, ..., )\n",
        "\n",
        "def group_chunks(dset, bs):\n",
        "  m = len(dset) // bs\n",
        "  new_dset = []\n",
        "\n",
        "  for i in range(m):\n",
        "    new_dset += [dset[i + m*j] for j in range(bs)]\n",
        "  return new_dset"
      ],
      "execution_count": 13,
      "outputs": []
    },
    {
      "cell_type": "code",
      "metadata": {
        "id": "EFxhtjY45DhL"
      },
      "source": [
        "bs = 64\n",
        "cut = int(len(seqs) * 0.8)\n",
        "dls = DataLoaders.from_dsets(\n",
        "    group_chunks(seqs[:cut], bs), \n",
        "    group_chunks(seqs[cut:], bs), \n",
        "    bs=bs, drop_last=True, shuffle=False)"
      ],
      "execution_count": 14,
      "outputs": []
    },
    {
      "cell_type": "code",
      "metadata": {
        "colab": {
          "base_uri": "https://localhost:8080/"
        },
        "id": "igAdPdXT17FV",
        "outputId": "fdfbce9b-fd2f-454f-87b4-9fdef802ac84"
      },
      "source": [
        "x, y = dls.one_batch()\n",
        "x.shape, y.shape"
      ],
      "execution_count": 15,
      "outputs": [
        {
          "output_type": "execute_result",
          "data": {
            "text/plain": [
              "(torch.Size([64, 16]), torch.Size([64, 16]))"
            ]
          },
          "metadata": {},
          "execution_count": 15
        }
      ]
    },
    {
      "cell_type": "markdown",
      "metadata": {
        "id": "qnAg_mkB7ba7"
      },
      "source": [
        "### Experiment with RNNs\n",
        "- Write RNNs from scratch"
      ]
    },
    {
      "cell_type": "code",
      "metadata": {
        "id": "Hv3xunCD5NQo"
      },
      "source": [
        "class LMModel1(Module):\n",
        "  def __init__(self, vocab_sz, n_hidden):\n",
        "    self.i_h = nn.Embedding(vocab_sz, n_hidden)\n",
        "    self.h_h = nn.Linear(n_hidden, n_hidden)\n",
        "    self.h_o = nn.Linear(n_hidden, vocab_sz)\n",
        "    self.h = 0\n",
        "    self.relu = nn.ReLU()\n",
        "  \n",
        "  def forward(self, x):\n",
        "    # print(x.shape)\n",
        "    outs = []\n",
        "    for i in range(x.shape[1]):\n",
        "      # add the hidden state to the input to hidden state\n",
        "      self.h = self.h + self.i_h(x[:, i])\n",
        "      # compute new hidden state\n",
        "      self.h = self.relu(self.h_h(self.h))\n",
        "      # make a prediction for new character\n",
        "      outs.append(self.h_o(self.h))\n",
        "\n",
        "      \n",
        "    self.h = self.h.detach()\n",
        "    outs = torch.stack(outs, dim=1)\n",
        "    # print(outs.shape)\n",
        "\n",
        "    return outs\n",
        "  \n",
        "  \n",
        "  def reset(self):\n",
        "    self.h = 0"
      ],
      "execution_count": 40,
      "outputs": []
    },
    {
      "cell_type": "code",
      "metadata": {
        "id": "qcBySyFk_ybR"
      },
      "source": [
        "def flat_cross_entropy(inp, targ):\n",
        "  # flatten the target from (bs, seq) -> (bs*seq)\n",
        "  # accomodate by flattening inputs (bs, seq, vocab_sz) -> (bs*seq, vocab_sz)\n",
        "  return F.cross_entropy(inp.view(bs*seq_len, -1), targ.view(-1))"
      ],
      "execution_count": 41,
      "outputs": []
    },
    {
      "cell_type": "code",
      "metadata": {
        "id": "NZDxJYIN9655"
      },
      "source": [
        "def loss_func(inp, targ):\n",
        "    return F.cross_entropy(inp.view(-1, len(vocab)), targ.view(-1))"
      ],
      "execution_count": 42,
      "outputs": []
    },
    {
      "cell_type": "code",
      "metadata": {
        "colab": {
          "base_uri": "https://localhost:8080/"
        },
        "id": "PTqEtzKs12KJ",
        "outputId": "0713bbc7-2563-4f16-ad8b-1853998afe8d"
      },
      "source": [
        "print(len(vocab))"
      ],
      "execution_count": 43,
      "outputs": [
        {
          "output_type": "stream",
          "name": "stdout",
          "text": [
            "30\n"
          ]
        }
      ]
    },
    {
      "cell_type": "code",
      "metadata": {
        "colab": {
          "base_uri": "https://localhost:8080/",
          "height": 300
        },
        "id": "n9jANdP57an3",
        "outputId": "c0c9ccd4-ef85-43d3-fe6e-922e7fa95ab4"
      },
      "source": [
        "learn = Learner(dls, LMModel1(len(vocab), 64), loss_func=flat_cross_entropy,\n",
        "                metrics=accuracy, cbs=ModelResetter)\n",
        "learn.lr_find()"
      ],
      "execution_count": 44,
      "outputs": [
        {
          "output_type": "display_data",
          "data": {
            "text/html": [
              ""
            ],
            "text/plain": [
              "<IPython.core.display.HTML object>"
            ]
          },
          "metadata": {}
        },
        {
          "output_type": "execute_result",
          "data": {
            "text/plain": [
              "SuggestedLRs(valley=0.0008317637839354575)"
            ]
          },
          "metadata": {},
          "execution_count": 44
        },
        {
          "output_type": "display_data",
          "data": {
            "image/png": "[encoded data removed]",
            "text/plain": [
              "<Figure size 432x288 with 1 Axes>"
            ]
          },
          "metadata": {
            "needs_background": "light"
          }
        }
      ]
    },
    {
      "cell_type": "code",
      "metadata": {
        "colab": {
          "base_uri": "https://localhost:8080/",
          "height": 669
        },
        "id": "I0gXSKxH9gxc",
        "outputId": "b05ace82-d1ba-4f08-d169-cc4ccb6c2157"
      },
      "source": [
        "learn.fit_one_cycle(20, 0.0005)"
      ],
      "execution_count": 45,
      "outputs": [
        {
          "output_type": "display_data",
          "data": {
            "text/html": [
              "<table border=\"1\" class=\"dataframe\">\n",
              "  <thead>\n",
              "    <tr style=\"text-align: left;\">\n",
              "      <th>epoch</th>\n",
              "      <th>train_loss</th>\n",
              "      <th>valid_loss</th>\n",
              "      <th>accuracy</th>\n",
              "      <th>time</th>\n",
              "    </tr>\n",
              "  </thead>\n",
              "  <tbody>\n",
              "    <tr>\n",
              "      <td>0</td>\n",
              "      <td>3.423783</td>\n",
              "      <td>3.424371</td>\n",
              "      <td>0.073242</td>\n",
              "      <td>00:01</td>\n",
              "    </tr>\n",
              "    <tr>\n",
              "      <td>1</td>\n",
              "      <td>3.312516</td>\n",
              "      <td>3.229440</td>\n",
              "      <td>0.163900</td>\n",
              "      <td>00:01</td>\n",
              "    </tr>\n",
              "    <tr>\n",
              "      <td>2</td>\n",
              "      <td>2.970334</td>\n",
              "      <td>2.687676</td>\n",
              "      <td>0.198324</td>\n",
              "      <td>00:01</td>\n",
              "    </tr>\n",
              "    <tr>\n",
              "      <td>3</td>\n",
              "      <td>2.308833</td>\n",
              "      <td>1.983862</td>\n",
              "      <td>0.465088</td>\n",
              "      <td>00:01</td>\n",
              "    </tr>\n",
              "    <tr>\n",
              "      <td>4</td>\n",
              "      <td>1.845510</td>\n",
              "      <td>1.941948</td>\n",
              "      <td>0.465007</td>\n",
              "      <td>00:01</td>\n",
              "    </tr>\n",
              "    <tr>\n",
              "      <td>5</td>\n",
              "      <td>1.616619</td>\n",
              "      <td>1.935381</td>\n",
              "      <td>0.464111</td>\n",
              "      <td>00:01</td>\n",
              "    </tr>\n",
              "    <tr>\n",
              "      <td>6</td>\n",
              "      <td>1.486408</td>\n",
              "      <td>1.886540</td>\n",
              "      <td>0.468587</td>\n",
              "      <td>00:01</td>\n",
              "    </tr>\n",
              "    <tr>\n",
              "      <td>7</td>\n",
              "      <td>1.402282</td>\n",
              "      <td>1.851322</td>\n",
              "      <td>0.485352</td>\n",
              "      <td>00:01</td>\n",
              "    </tr>\n",
              "    <tr>\n",
              "      <td>8</td>\n",
              "      <td>1.341628</td>\n",
              "      <td>1.833439</td>\n",
              "      <td>0.487956</td>\n",
              "      <td>00:01</td>\n",
              "    </tr>\n",
              "    <tr>\n",
              "      <td>9</td>\n",
              "      <td>1.292255</td>\n",
              "      <td>1.821207</td>\n",
              "      <td>0.498128</td>\n",
              "      <td>00:01</td>\n",
              "    </tr>\n",
              "    <tr>\n",
              "      <td>10</td>\n",
              "      <td>1.250897</td>\n",
              "      <td>1.821275</td>\n",
              "      <td>0.506673</td>\n",
              "      <td>00:01</td>\n",
              "    </tr>\n",
              "    <tr>\n",
              "      <td>11</td>\n",
              "      <td>1.215793</td>\n",
              "      <td>1.823937</td>\n",
              "      <td>0.505534</td>\n",
              "      <td>00:01</td>\n",
              "    </tr>\n",
              "    <tr>\n",
              "      <td>12</td>\n",
              "      <td>1.188890</td>\n",
              "      <td>1.828677</td>\n",
              "      <td>0.510824</td>\n",
              "      <td>00:01</td>\n",
              "    </tr>\n",
              "    <tr>\n",
              "      <td>13</td>\n",
              "      <td>1.167492</td>\n",
              "      <td>1.819513</td>\n",
              "      <td>0.510091</td>\n",
              "      <td>00:01</td>\n",
              "    </tr>\n",
              "    <tr>\n",
              "      <td>14</td>\n",
              "      <td>1.147646</td>\n",
              "      <td>1.818131</td>\n",
              "      <td>0.511719</td>\n",
              "      <td>00:01</td>\n",
              "    </tr>\n",
              "    <tr>\n",
              "      <td>15</td>\n",
              "      <td>1.134535</td>\n",
              "      <td>1.811061</td>\n",
              "      <td>0.513835</td>\n",
              "      <td>00:01</td>\n",
              "    </tr>\n",
              "    <tr>\n",
              "      <td>16</td>\n",
              "      <td>1.125248</td>\n",
              "      <td>1.812966</td>\n",
              "      <td>0.513753</td>\n",
              "      <td>00:01</td>\n",
              "    </tr>\n",
              "    <tr>\n",
              "      <td>17</td>\n",
              "      <td>1.119390</td>\n",
              "      <td>1.809486</td>\n",
              "      <td>0.516439</td>\n",
              "      <td>00:01</td>\n",
              "    </tr>\n",
              "    <tr>\n",
              "      <td>18</td>\n",
              "      <td>1.115253</td>\n",
              "      <td>1.816096</td>\n",
              "      <td>0.514242</td>\n",
              "      <td>00:01</td>\n",
              "    </tr>\n",
              "    <tr>\n",
              "      <td>19</td>\n",
              "      <td>1.113307</td>\n",
              "      <td>1.815818</td>\n",
              "      <td>0.515625</td>\n",
              "      <td>00:01</td>\n",
              "    </tr>\n",
              "  </tbody>\n",
              "</table>"
            ],
            "text/plain": [
              "<IPython.core.display.HTML object>"
            ]
          },
          "metadata": {}
        }
      ]
    },
    {
      "cell_type": "markdown",
      "metadata": {
        "id": "831VNhNX_onc"
      },
      "source": [
        "### Multilayer RNN\n",
        "- Experiment with multilayer RNNs\n",
        "- Have a different hidden state in effect making the model deeper (more params to update)\n",
        "- Make the multilayer RNN from scratch\n",
        "- Make the multilayer RNN using pytorch"
      ]
    },
    {
      "cell_type": "code",
      "metadata": {
        "id": "-_knlhfh-ZAE"
      },
      "source": [
        "class LMModel2(Module):\n",
        "\n",
        "  def __init__(self, vocab_sz, n_hidden, n_layers):\n",
        "    self.i_h = nn.Embedding(vocab_sz, n_hidden)\n",
        "\n",
        "    self.rnn_layers = []\n",
        "    # create the middle rnn layers according to n_layers\n",
        "    for i in range(n_layers):\n",
        "      self.rnn_layers.append(nn.Linear(n_hidden, n_hidden))\n",
        "    self.h_o = nn.Linear(n_hidden, vocab_sz)\n",
        "    self.relu = nn.ReLU()\n",
        "    self.h = 0\n",
        "\n",
        "  def forward(self, x):\n",
        "    outs = []\n",
        "\n",
        "    # loop through the sequence of inputs\n",
        "    for i in range(x.shape[1]):\n",
        "      self.h = self.h + self.i_h(x[:, i])\n",
        "\n",
        "      # loop through multilayers and apply them\n",
        "      for layer in self.rnn_layers:\n",
        "        self.h = self.relu(layer(self.h))\n",
        "      \n",
        "      # at the end, go hidden to output\n",
        "      outs.append(self.h_o(self.h))\n",
        "\n",
        "    # detach the gradients\n",
        "    self.h = self.h.detach()\n",
        "\n",
        "    return torch.stack(outs, dim=1)\n",
        "  \n",
        "  def reset(self):\n",
        "    # reset the hidden state on epoch or validation\n",
        "    self.h = 0"
      ],
      "execution_count": 46,
      "outputs": []
    },
    {
      "cell_type": "code",
      "metadata": {
        "colab": {
          "base_uri": "https://localhost:8080/",
          "height": 514
        },
        "id": "QHaAjx2NCpwZ",
        "outputId": "5db14b40-bc4a-4b62-f26b-46f795aa2abb"
      },
      "source": [
        "learn = Learner(dls, LMModel2(len(vocab), 64, 2), \n",
        "                loss_func=CrossEntropyLossFlat(), \n",
        "                metrics=accuracy, cbs=ModelResetter)\n",
        "learn.fit_one_cycle(15, 3e-3)"
      ],
      "execution_count": 47,
      "outputs": [
        {
          "output_type": "display_data",
          "data": {
            "text/html": [
              "<table border=\"1\" class=\"dataframe\">\n",
              "  <thead>\n",
              "    <tr style=\"text-align: left;\">\n",
              "      <th>epoch</th>\n",
              "      <th>train_loss</th>\n",
              "      <th>valid_loss</th>\n",
              "      <th>accuracy</th>\n",
              "      <th>time</th>\n",
              "    </tr>\n",
              "  </thead>\n",
              "  <tbody>\n",
              "    <tr>\n",
              "      <td>0</td>\n",
              "      <td>3.366212</td>\n",
              "      <td>3.329472</td>\n",
              "      <td>0.099447</td>\n",
              "      <td>00:01</td>\n",
              "    </tr>\n",
              "    <tr>\n",
              "      <td>1</td>\n",
              "      <td>3.216942</td>\n",
              "      <td>3.085339</td>\n",
              "      <td>0.101074</td>\n",
              "      <td>00:01</td>\n",
              "    </tr>\n",
              "    <tr>\n",
              "      <td>2</td>\n",
              "      <td>2.870018</td>\n",
              "      <td>2.659535</td>\n",
              "      <td>0.112223</td>\n",
              "      <td>00:01</td>\n",
              "    </tr>\n",
              "    <tr>\n",
              "      <td>3</td>\n",
              "      <td>2.442954</td>\n",
              "      <td>2.360196</td>\n",
              "      <td>0.136556</td>\n",
              "      <td>00:01</td>\n",
              "    </tr>\n",
              "    <tr>\n",
              "      <td>4</td>\n",
              "      <td>2.143498</td>\n",
              "      <td>2.293844</td>\n",
              "      <td>0.140299</td>\n",
              "      <td>00:01</td>\n",
              "    </tr>\n",
              "    <tr>\n",
              "      <td>5</td>\n",
              "      <td>1.979220</td>\n",
              "      <td>2.327837</td>\n",
              "      <td>0.125326</td>\n",
              "      <td>00:01</td>\n",
              "    </tr>\n",
              "    <tr>\n",
              "      <td>6</td>\n",
              "      <td>1.886826</td>\n",
              "      <td>2.389153</td>\n",
              "      <td>0.200195</td>\n",
              "      <td>00:01</td>\n",
              "    </tr>\n",
              "    <tr>\n",
              "      <td>7</td>\n",
              "      <td>1.825766</td>\n",
              "      <td>2.440845</td>\n",
              "      <td>0.285075</td>\n",
              "      <td>00:01</td>\n",
              "    </tr>\n",
              "    <tr>\n",
              "      <td>8</td>\n",
              "      <td>1.778096</td>\n",
              "      <td>2.471695</td>\n",
              "      <td>0.297607</td>\n",
              "      <td>00:01</td>\n",
              "    </tr>\n",
              "    <tr>\n",
              "      <td>9</td>\n",
              "      <td>1.739628</td>\n",
              "      <td>2.486862</td>\n",
              "      <td>0.305339</td>\n",
              "      <td>00:01</td>\n",
              "    </tr>\n",
              "    <tr>\n",
              "      <td>10</td>\n",
              "      <td>1.709471</td>\n",
              "      <td>2.498688</td>\n",
              "      <td>0.310710</td>\n",
              "      <td>00:01</td>\n",
              "    </tr>\n",
              "    <tr>\n",
              "      <td>11</td>\n",
              "      <td>1.687705</td>\n",
              "      <td>2.499655</td>\n",
              "      <td>0.315348</td>\n",
              "      <td>00:01</td>\n",
              "    </tr>\n",
              "    <tr>\n",
              "      <td>12</td>\n",
              "      <td>1.673449</td>\n",
              "      <td>2.498223</td>\n",
              "      <td>0.316976</td>\n",
              "      <td>00:01</td>\n",
              "    </tr>\n",
              "    <tr>\n",
              "      <td>13</td>\n",
              "      <td>1.665331</td>\n",
              "      <td>2.497816</td>\n",
              "      <td>0.316243</td>\n",
              "      <td>00:01</td>\n",
              "    </tr>\n",
              "    <tr>\n",
              "      <td>14</td>\n",
              "      <td>1.661511</td>\n",
              "      <td>2.497712</td>\n",
              "      <td>0.316162</td>\n",
              "      <td>00:01</td>\n",
              "    </tr>\n",
              "  </tbody>\n",
              "</table>"
            ],
            "text/plain": [
              "<IPython.core.display.HTML object>"
            ]
          },
          "metadata": {}
        }
      ]
    },
    {
      "cell_type": "code",
      "metadata": {
        "id": "Jdzf1JElCvXI"
      },
      "source": [
        ""
      ],
      "execution_count": null,
      "outputs": []
    }
  ]
}