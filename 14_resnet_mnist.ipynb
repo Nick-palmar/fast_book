{
  "nbformat": 4,
  "nbformat_minor": 0,
  "metadata": {
    "colab": {
      "name": "14_resnet_mnist.ipynb",
      "provenance": []
    },
    "kernelspec": {
      "name": "python3",
      "display_name": "Python 3"
    },
    "language_info": {
      "name": "python"
    },
    "accelerator": "GPU"
  },
  "cells": [
    {
      "cell_type": "code",
      "metadata": {
        "colab": {
          "base_uri": "https://localhost:8080/"
        },
        "id": "n1mY3WbX1bkg",
        "outputId": "d28a0724-5647-4498-9a4f-f86b4284d35e"
      },
      "source": [
        "!pip install -Uqq fastbook\n",
        "import fastbook\n",
        "fastbook.setup_book()"
      ],
      "execution_count": 3,
      "outputs": [
        {
          "output_type": "stream",
          "name": "stdout",
          "text": [
            "\u001b[K     |████████████████████████████████| 720 kB 5.3 MB/s \n",
            "\u001b[K     |████████████████████████████████| 189 kB 40.0 MB/s \n",
            "\u001b[K     |████████████████████████████████| 46 kB 3.3 MB/s \n",
            "\u001b[K     |████████████████████████████████| 1.2 MB 35.9 MB/s \n",
            "\u001b[K     |████████████████████████████████| 56 kB 4.2 MB/s \n",
            "\u001b[K     |████████████████████████████████| 51 kB 263 kB/s \n",
            "\u001b[?25hMounted at /content/gdrive\n"
          ]
        }
      ]
    },
    {
      "cell_type": "code",
      "metadata": {
        "id": "U8v7go6t1iy7"
      },
      "source": [
        "from fastai.vision.all import *\n",
        "from fastbook import *\n",
        "\n",
        "matplotlib.rc('image', cmap='Greys')"
      ],
      "execution_count": 4,
      "outputs": []
    },
    {
      "cell_type": "code",
      "metadata": {
        "colab": {
          "base_uri": "https://localhost:8080/",
          "height": 37
        },
        "id": "mJE4hAMS1kg9",
        "outputId": "6623aaef-59f0-499f-8789-39724cad4f2b"
      },
      "source": [
        "path = untar_data(URLs.MNIST_SAMPLE)"
      ],
      "execution_count": 5,
      "outputs": [
        {
          "output_type": "display_data",
          "data": {
            "text/html": [
              "\n",
              "    <div>\n",
              "        <style>\n",
              "            /* Turns off some styling */\n",
              "            progress {\n",
              "                /* gets rid of default border in Firefox and Opera. */\n",
              "                border: none;\n",
              "                /* Needs to be in here for Safari polyfill so background images work as expected. */\n",
              "                background-size: auto;\n",
              "            }\n",
              "            .progress-bar-interrupted, .progress-bar-interrupted::-webkit-progress-bar {\n",
              "                background: #F44336;\n",
              "            }\n",
              "        </style>\n",
              "      <progress value='3219456' class='' max='3214948' style='width:300px; height:20px; vertical-align: middle;'></progress>\n",
              "      100.14% [3219456/3214948 00:00<00:00]\n",
              "    </div>\n",
              "    "
            ],
            "text/plain": [
              "<IPython.core.display.HTML object>"
            ]
          },
          "metadata": {}
        }
      ]
    },
    {
      "cell_type": "code",
      "metadata": {
        "colab": {
          "base_uri": "https://localhost:8080/",
          "height": 37
        },
        "id": "4N4YdKOF5UIo",
        "outputId": "eeec28e2-4b0c-40fe-8a8d-463066b49aa6"
      },
      "source": [
        "URLs.MNIST_SAMPLE"
      ],
      "execution_count": 6,
      "outputs": [
        {
          "output_type": "execute_result",
          "data": {
            "application/vnd.google.colaboratory.intrinsic+json": {
              "type": "string"
            },
            "text/plain": [
              "'https://s3.amazonaws.com/fast-ai-sample/mnist_sample.tgz'"
            ]
          },
          "metadata": {},
          "execution_count": 6
        }
      ]
    },
    {
      "cell_type": "code",
      "metadata": {
        "colab": {
          "base_uri": "https://localhost:8080/"
        },
        "id": "26AJt1t_1mW0",
        "outputId": "6a1d9ac5-6ed3-4b4a-a2ac-a9429a547887"
      },
      "source": [
        "Path.BASE_PATH = path\n",
        "path.ls()"
      ],
      "execution_count": 7,
      "outputs": [
        {
          "output_type": "execute_result",
          "data": {
            "text/plain": [
              "(#3) [Path('train'),Path('valid'),Path('labels.csv')]"
            ]
          },
          "metadata": {},
          "execution_count": 7
        }
      ]
    },
    {
      "cell_type": "code",
      "metadata": {
        "colab": {
          "base_uri": "https://localhost:8080/"
        },
        "id": "bfk51OFu2jVx",
        "outputId": "d4cc0804-4e14-4b44-c468-2458cc54088f"
      },
      "source": [
        "(path/'train').ls()"
      ],
      "execution_count": 8,
      "outputs": [
        {
          "output_type": "execute_result",
          "data": {
            "text/plain": [
              "(#2) [Path('train/7'),Path('train/3')]"
            ]
          },
          "metadata": {},
          "execution_count": 8
        }
      ]
    },
    {
      "cell_type": "code",
      "metadata": {
        "id": "rpcQfNxF1o-W"
      },
      "source": [
        "def get_img_loader(url, train_folder, valid_folder, presize, resize, bs):\n",
        "  path = untar_data(url)\n",
        "  dblock = DataBlock(\n",
        "      blocks = (ImageBlock, CategoryBlock),\n",
        "      splitter = GrandparentSplitter(train_name=train_folder, valid_name=valid_folder),\n",
        "      get_items = get_image_files,\n",
        "      get_y = parent_label,\n",
        "      item_tfms = Resize(presize),\n",
        "      batch_tfms = aug_transforms(min_scale=0.5, size=resize)\n",
        "  )\n",
        "  dls = dblock.dataloaders(path, bs=bs)\n",
        "  return dls"
      ],
      "execution_count": 9,
      "outputs": []
    },
    {
      "cell_type": "code",
      "metadata": {
        "colab": {
          "base_uri": "https://localhost:8080/"
        },
        "id": "968Tk8go4ey9",
        "outputId": "3460eab2-6e9d-4f0c-b3b9-960da39c9e80"
      },
      "source": [
        "dls = get_img_loader(URLs.MNIST_SAMPLE, 'train', 'valid', 28, 28, 64)\n",
        "x_t, y_t = dls.train.one_batch()"
      ],
      "execution_count": 10,
      "outputs": [
        {
          "output_type": "stream",
          "name": "stderr",
          "text": [
            "/usr/local/lib/python3.7/dist-packages/torch/_tensor.py:1051: UserWarning: torch.solve is deprecated in favor of torch.linalg.solveand will be removed in a future PyTorch release.\n",
            "torch.linalg.solve has its arguments reversed and does not return the LU factorization.\n",
            "To get the LU factorization see torch.lu, which can be used with torch.lu_solve or torch.lu_unpack.\n",
            "X = torch.solve(B, A).solution\n",
            "should be replaced with\n",
            "X = torch.linalg.solve(A, B) (Triggered internally at  ../aten/src/ATen/native/BatchLinearAlgebra.cpp:766.)\n",
            "  ret = func(*args, **kwargs)\n"
          ]
        }
      ]
    },
    {
      "cell_type": "code",
      "metadata": {
        "colab": {
          "base_uri": "https://localhost:8080/"
        },
        "id": "wsfKm1Ft5C5d",
        "outputId": "d4916240-9f21-44aa-eeea-d95b2483bd25"
      },
      "source": [
        "x_t.shape, y_t.shape"
      ],
      "execution_count": 11,
      "outputs": [
        {
          "output_type": "execute_result",
          "data": {
            "text/plain": [
              "(torch.Size([64, 3, 28, 28]), torch.Size([64]))"
            ]
          },
          "metadata": {},
          "execution_count": 11
        }
      ]
    },
    {
      "cell_type": "code",
      "metadata": {
        "id": "t3Xl2NngNjRS"
      },
      "source": [
        "def _single_conv(ch_in, ch_out, stride, ks=3, act=True, gammaZero=False):\n",
        "    layers = [nn.Conv2d(ch_in, ch_out, ks, stride=stride, padding=ks//2)]\n",
        "    bn = nn.BatchNorm2d(ch_out)\n",
        "    if gammaZero:\n",
        "      torch.nn.init.zeros_(bn)\n",
        "    layers.append(bn)\n",
        "\n",
        "    if act:\n",
        "      layers.append(self.relu)\n",
        "    \n",
        "    return nn.Sequential(*layers)"
      ],
      "execution_count": 12,
      "outputs": []
    },
    {
      "cell_type": "code",
      "metadata": {
        "id": "p3sDvyp26a68"
      },
      "source": [
        "class ResBlock(Module):\n",
        "  def __init__(self, ch_in, ch_out, stride, ks=3):\n",
        "    self.conv = self._res_conv(ch_in, ch_out, stride, ks=ks)\n",
        "    self.relu = nn.ReLU()\n",
        "    self.pool = self._return if stride==1 else nn.AvgPool2d(stride)\n",
        "    self.id_conv = self._return if ch_in == ch_out else self._single_conv(ch_in, ch_out, 1, ks=1, act=False)\n",
        "\n",
        "  \n",
        "  def _return(self, x):\n",
        "    return x\n",
        "  \n",
        "  # def _single_conv(self, ch_in, ch_out, stride, ks=3, act=True, gammaZero=False):\n",
        "  #   layers = [nn.Conv2d(ch_in, ch_out, ks, stride=stride, padding=ks//2)]\n",
        "  #   bn = nn.BatchNorm2d(ch_out)\n",
        "  #   if gammaZero:\n",
        "  #     torch.nn.init.zeros_(bn)\n",
        "  #   layers.append(bn)\n",
        "\n",
        "  #   if act:\n",
        "  #     layers.append(self.relu)\n",
        "    \n",
        "  #   return nn.Sequential(*layers)\n",
        "\n",
        "  def _res_conv(self, ch_in, ch_out, stride, ks=3):\n",
        "    convs = nn.Sequential(\n",
        "        _single_conv(ch_in, ch_out, stride, ks),\n",
        "        _single_conv(ch_out, ch_out, 1, act=False, gammaZero=True)\n",
        "    )\n",
        "\n",
        "    return convs\n",
        "  \n",
        "  def forward(self, x):\n",
        "    return self.relu(self.conv(x) + self.id_conv(self.pool(x)))"
      ],
      "execution_count": 13,
      "outputs": []
    },
    {
      "cell_type": "code",
      "metadata": {
        "id": "u4FOtCF5AAAv"
      },
      "source": [
        "class ResNet(Module):\n",
        "  def __init__(self, ):\n",
        "    self.max_pool = nn.MaxPool2d(kernel_size=3, stride=2, padding=1)\n",
        "    # create a simple convolutional resnet stem\n",
        "    stem = self._stem([3, 32, 32, 64])\n",
        "    \n",
        "  \n",
        "  def _stem(self, sizes):\n",
        "    layers = [\n",
        "              *[_single_conv(sizes[i], sizes[i+1], 2 if i == 0 else 1) for i in range(len(sizes) - 1)],\n",
        "              self.max_pool\n",
        "    ]\n",
        "    return layers"
      ],
      "execution_count": null,
      "outputs": []
    }
  ]
}