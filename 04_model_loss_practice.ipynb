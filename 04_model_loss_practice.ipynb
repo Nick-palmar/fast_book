{
  "nbformat": 4,
  "nbformat_minor": 0,
  "metadata": {
    "colab": {
      "name": "04_model_loss_practice.ipynb",
      "provenance": []
    },
    "kernelspec": {
      "name": "python3",
      "display_name": "Python 3"
    },
    "language_info": {
      "name": "python"
    },
    "accelerator": "GPU"
  },
  "cells": [
    {
      "cell_type": "code",
      "metadata": {
        "colab": {
          "base_uri": "https://localhost:8080/"
        },
        "id": "1_1RVWc42O_1",
        "outputId": "d76fd0ec-0076-42f5-f3ad-2314d76fd1b1"
      },
      "source": [
        "!pip install -Uqq fastbook\n",
        "import fastbook\n",
        "fastbook.setup_book()"
      ],
      "execution_count": 1,
      "outputs": [
        {
          "output_type": "stream",
          "text": [
            "\u001b[?25l\r\u001b[K     |▌                               | 10kB 19.0MB/s eta 0:00:01\r\u001b[K     |█                               | 20kB 25.5MB/s eta 0:00:01\r\u001b[K     |█▍                              | 30kB 29.2MB/s eta 0:00:01\r\u001b[K     |█▉                              | 40kB 31.2MB/s eta 0:00:01\r\u001b[K     |██▎                             | 51kB 33.2MB/s eta 0:00:01\r\u001b[K     |██▊                             | 61kB 35.6MB/s eta 0:00:01\r\u001b[K     |███▏                            | 71kB 31.7MB/s eta 0:00:01\r\u001b[K     |███▋                            | 81kB 32.2MB/s eta 0:00:01\r\u001b[K     |████                            | 92kB 29.5MB/s eta 0:00:01\r\u001b[K     |████▌                           | 102kB 27.3MB/s eta 0:00:01\r\u001b[K     |█████                           | 112kB 27.3MB/s eta 0:00:01\r\u001b[K     |█████▌                          | 122kB 27.3MB/s eta 0:00:01\r\u001b[K     |██████                          | 133kB 27.3MB/s eta 0:00:01\r\u001b[K     |██████▍                         | 143kB 27.3MB/s eta 0:00:01\r\u001b[K     |██████▉                         | 153kB 27.3MB/s eta 0:00:01\r\u001b[K     |███████▎                        | 163kB 27.3MB/s eta 0:00:01\r\u001b[K     |███████▊                        | 174kB 27.3MB/s eta 0:00:01\r\u001b[K     |████████▏                       | 184kB 27.3MB/s eta 0:00:01\r\u001b[K     |████████▋                       | 194kB 27.3MB/s eta 0:00:01\r\u001b[K     |█████████                       | 204kB 27.3MB/s eta 0:00:01\r\u001b[K     |█████████▋                      | 215kB 27.3MB/s eta 0:00:01\r\u001b[K     |██████████                      | 225kB 27.3MB/s eta 0:00:01\r\u001b[K     |██████████▌                     | 235kB 27.3MB/s eta 0:00:01\r\u001b[K     |███████████                     | 245kB 27.3MB/s eta 0:00:01\r\u001b[K     |███████████▍                    | 256kB 27.3MB/s eta 0:00:01\r\u001b[K     |███████████▉                    | 266kB 27.3MB/s eta 0:00:01\r\u001b[K     |████████████▎                   | 276kB 27.3MB/s eta 0:00:01\r\u001b[K     |████████████▊                   | 286kB 27.3MB/s eta 0:00:01\r\u001b[K     |█████████████▏                  | 296kB 27.3MB/s eta 0:00:01\r\u001b[K     |█████████████▋                  | 307kB 27.3MB/s eta 0:00:01\r\u001b[K     |██████████████                  | 317kB 27.3MB/s eta 0:00:01\r\u001b[K     |██████████████▋                 | 327kB 27.3MB/s eta 0:00:01\r\u001b[K     |███████████████                 | 337kB 27.3MB/s eta 0:00:01\r\u001b[K     |███████████████▌                | 348kB 27.3MB/s eta 0:00:01\r\u001b[K     |████████████████                | 358kB 27.3MB/s eta 0:00:01\r\u001b[K     |████████████████▍               | 368kB 27.3MB/s eta 0:00:01\r\u001b[K     |████████████████▉               | 378kB 27.3MB/s eta 0:00:01\r\u001b[K     |█████████████████▎              | 389kB 27.3MB/s eta 0:00:01\r\u001b[K     |█████████████████▊              | 399kB 27.3MB/s eta 0:00:01\r\u001b[K     |██████████████████▏             | 409kB 27.3MB/s eta 0:00:01\r\u001b[K     |██████████████████▋             | 419kB 27.3MB/s eta 0:00:01\r\u001b[K     |███████████████████▏            | 430kB 27.3MB/s eta 0:00:01\r\u001b[K     |███████████████████▋            | 440kB 27.3MB/s eta 0:00:01\r\u001b[K     |████████████████████            | 450kB 27.3MB/s eta 0:00:01\r\u001b[K     |████████████████████▌           | 460kB 27.3MB/s eta 0:00:01\r\u001b[K     |█████████████████████           | 471kB 27.3MB/s eta 0:00:01\r\u001b[K     |█████████████████████▍          | 481kB 27.3MB/s eta 0:00:01\r\u001b[K     |█████████████████████▉          | 491kB 27.3MB/s eta 0:00:01\r\u001b[K     |██████████████████████▎         | 501kB 27.3MB/s eta 0:00:01\r\u001b[K     |██████████████████████▊         | 512kB 27.3MB/s eta 0:00:01\r\u001b[K     |███████████████████████▏        | 522kB 27.3MB/s eta 0:00:01\r\u001b[K     |███████████████████████▋        | 532kB 27.3MB/s eta 0:00:01\r\u001b[K     |████████████████████████▏       | 542kB 27.3MB/s eta 0:00:01\r\u001b[K     |████████████████████████▋       | 552kB 27.3MB/s eta 0:00:01\r\u001b[K     |█████████████████████████       | 563kB 27.3MB/s eta 0:00:01\r\u001b[K     |█████████████████████████▌      | 573kB 27.3MB/s eta 0:00:01\r\u001b[K     |██████████████████████████      | 583kB 27.3MB/s eta 0:00:01\r\u001b[K     |██████████████████████████▍     | 593kB 27.3MB/s eta 0:00:01\r\u001b[K     |██████████████████████████▉     | 604kB 27.3MB/s eta 0:00:01\r\u001b[K     |███████████████████████████▎    | 614kB 27.3MB/s eta 0:00:01\r\u001b[K     |███████████████████████████▊    | 624kB 27.3MB/s eta 0:00:01\r\u001b[K     |████████████████████████████▏   | 634kB 27.3MB/s eta 0:00:01\r\u001b[K     |████████████████████████████▊   | 645kB 27.3MB/s eta 0:00:01\r\u001b[K     |█████████████████████████████▏  | 655kB 27.3MB/s eta 0:00:01\r\u001b[K     |█████████████████████████████▋  | 665kB 27.3MB/s eta 0:00:01\r\u001b[K     |██████████████████████████████  | 675kB 27.3MB/s eta 0:00:01\r\u001b[K     |██████████████████████████████▌ | 686kB 27.3MB/s eta 0:00:01\r\u001b[K     |███████████████████████████████ | 696kB 27.3MB/s eta 0:00:01\r\u001b[K     |███████████████████████████████▍| 706kB 27.3MB/s eta 0:00:01\r\u001b[K     |███████████████████████████████▉| 716kB 27.3MB/s eta 0:00:01\r\u001b[K     |████████████████████████████████| 727kB 27.3MB/s \n",
            "\u001b[K     |████████████████████████████████| 51kB 8.1MB/s \n",
            "\u001b[K     |████████████████████████████████| 204kB 42.6MB/s \n",
            "\u001b[K     |████████████████████████████████| 1.2MB 41.6MB/s \n",
            "\u001b[K     |████████████████████████████████| 61kB 9.8MB/s \n",
            "\u001b[K     |████████████████████████████████| 61kB 9.4MB/s \n",
            "\u001b[?25hMounted at /content/gdrive\n"
          ],
          "name": "stdout"
        }
      ]
    },
    {
      "cell_type": "code",
      "metadata": {
        "id": "l6dvmqS_2aaP"
      },
      "source": [
        "from fastai.vision.all import *\n",
        "from fastbook import *\n",
        "\n",
        "matplotlib.rc('image', cmap='Greys')"
      ],
      "execution_count": 2,
      "outputs": []
    },
    {
      "cell_type": "code",
      "metadata": {
        "colab": {
          "base_uri": "https://localhost:8080/",
          "height": 54
        },
        "id": "VZmkljEB2czH",
        "outputId": "1716dd47-0e19-4d39-942e-e594e71368f3"
      },
      "source": [
        "path = untar_data(URLs.MNIST_SAMPLE)\n",
        "Path.BASE_PATH = path\n",
        "threes = (path/'train'/'3').ls().sorted()\n",
        "sevens = (path/'train'/'7').ls().sorted()\n",
        "threes"
      ],
      "execution_count": 3,
      "outputs": [
        {
          "output_type": "display_data",
          "data": {
            "text/html": [
              ""
            ],
            "text/plain": [
              "<IPython.core.display.HTML object>"
            ]
          },
          "metadata": {
            "tags": []
          }
        },
        {
          "output_type": "execute_result",
          "data": {
            "text/plain": [
              "(#6131) [Path('train/3/10.png'),Path('train/3/10000.png'),Path('train/3/10011.png'),Path('train/3/10031.png'),Path('train/3/10034.png'),Path('train/3/10042.png'),Path('train/3/10052.png'),Path('train/3/1007.png'),Path('train/3/10074.png'),Path('train/3/10091.png')...]"
            ]
          },
          "metadata": {
            "tags": []
          },
          "execution_count": 3
        }
      ]
    },
    {
      "cell_type": "code",
      "metadata": {
        "colab": {
          "base_uri": "https://localhost:8080/",
          "height": 45
        },
        "id": "SHWkoc6V3CSL",
        "outputId": "9d8442bc-24f0-4ff3-c874-5b5765b5956b"
      },
      "source": [
        "im3_path = threes[1]\n",
        "im3 = Image.open(im3_path)\n",
        "im3"
      ],
      "execution_count": 4,
      "outputs": [
        {
          "output_type": "execute_result",
          "data": {
            "image/png": "[encoded data removed]",
            "text/plain": [
              "<PIL.PngImagePlugin.PngImageFile image mode=L size=28x28 at 0x7F33B8887B90>"
            ]
          },
          "metadata": {
            "tags": []
          },
          "execution_count": 4
        }
      ]
    },
    {
      "cell_type": "code",
      "metadata": {
        "colab": {
          "base_uri": "https://localhost:8080/"
        },
        "id": "MjoIFFXF3VXD",
        "outputId": "81fd796f-ec6d-4297-d6a0-53a560289ba0"
      },
      "source": [
        "# get the validaition data\n",
        "threes_valid = (path/'valid'/'3').ls().sorted()\n",
        "sevens_valid = (path/'valid'/'7').ls().sorted()\n",
        "threes_valid"
      ],
      "execution_count": 5,
      "outputs": [
        {
          "output_type": "execute_result",
          "data": {
            "text/plain": [
              "(#1010) [Path('valid/3/1020.png'),Path('valid/3/1028.png'),Path('valid/3/1042.png'),Path('valid/3/1062.png'),Path('valid/3/1066.png'),Path('valid/3/1067.png'),Path('valid/3/1069.png'),Path('valid/3/1072.png'),Path('valid/3/1092.png'),Path('valid/3/1095.png')...]"
            ]
          },
          "metadata": {
            "tags": []
          },
          "execution_count": 5
        }
      ]
    },
    {
      "cell_type": "code",
      "metadata": {
        "id": "cIh1jOHy4Ibc"
      },
      "source": [
        "path_to_tensor = lambda file_list: torch.stack([tensor(Image.open(img_path)) for img_path in file_list]).float()/255"
      ],
      "execution_count": 6,
      "outputs": []
    },
    {
      "cell_type": "code",
      "metadata": {
        "colab": {
          "base_uri": "https://localhost:8080/",
          "height": 102
        },
        "id": "PgjLCfba4h5z",
        "outputId": "7d2ffe8f-b856-471c-fb75-f45fc0d0b70c"
      },
      "source": [
        "train_sevens = path_to_tensor(sevens)\n",
        "train_sevens.shape\n",
        "show_image(train_sevens[0])"
      ],
      "execution_count": 7,
      "outputs": [
        {
          "output_type": "execute_result",
          "data": {
            "text/plain": [
              "<matplotlib.axes._subplots.AxesSubplot at 0x7f33b83287d0>"
            ]
          },
          "metadata": {
            "tags": []
          },
          "execution_count": 7
        },
        {
          "output_type": "display_data",
          "data": {
            "image/png": "[encoded data removed]",
            "text/plain": [
              "<Figure size 72x72 with 1 Axes>"
            ]
          },
          "metadata": {
            "tags": [],
            "needs_background": "light"
          }
        }
      ]
    },
    {
      "cell_type": "code",
      "metadata": {
        "colab": {
          "base_uri": "https://localhost:8080/"
        },
        "id": "lmym30mq3Kcg",
        "outputId": "c818ac90-46aa-454f-e239-023bf316e443"
      },
      "source": [
        "# create list tensors for training an validation sets\n",
        "train_threes = path_to_tensor(threes)\n",
        "valid_threes = path_to_tensor(threes_valid)\n",
        "valid_sevens = path_to_tensor(sevens_valid)\n",
        "valid_sevens.shape"
      ],
      "execution_count": 8,
      "outputs": [
        {
          "output_type": "execute_result",
          "data": {
            "text/plain": [
              "torch.Size([1028, 28, 28])"
            ]
          },
          "metadata": {
            "tags": []
          },
          "execution_count": 8
        }
      ]
    },
    {
      "cell_type": "markdown",
      "metadata": {
        "id": "srArYiwZ8ik6"
      },
      "source": [
        "###**Get clear dependant/independant variable sets, a way to initialize parameters, a simple model, and a loss using sigmoid**"
      ]
    },
    {
      "cell_type": "code",
      "metadata": {
        "colab": {
          "base_uri": "https://localhost:8080/"
        },
        "id": "8PMFuK7w8cmY",
        "outputId": "cb7d891f-3771-49e5-ced4-f41241f0fc34"
      },
      "source": [
        "# create training x and y\n",
        "train_x = torch.cat([train_threes, train_sevens]).view(-1, 28*28)\n",
        "train_x.shape"
      ],
      "execution_count": 9,
      "outputs": [
        {
          "output_type": "execute_result",
          "data": {
            "text/plain": [
              "torch.Size([12396, 784])"
            ]
          },
          "metadata": {
            "tags": []
          },
          "execution_count": 9
        }
      ]
    },
    {
      "cell_type": "code",
      "metadata": {
        "colab": {
          "base_uri": "https://localhost:8080/"
        },
        "id": "s07dBadK9hEQ",
        "outputId": "6065b0ec-700b-41a3-fc33-4a2c57f5418a"
      },
      "source": [
        "# create a list containing 1 for 3s and 0 for 7s, turn into tensor of size x 1\n",
        "train_y = tensor([1]*len(threes) + [0]*len(sevens)).unsqueeze(1)\n",
        "train_y.shape"
      ],
      "execution_count": 10,
      "outputs": [
        {
          "output_type": "execute_result",
          "data": {
            "text/plain": [
              "torch.Size([12396, 1])"
            ]
          },
          "metadata": {
            "tags": []
          },
          "execution_count": 10
        }
      ]
    },
    {
      "cell_type": "code",
      "metadata": {
        "colab": {
          "base_uri": "https://localhost:8080/"
        },
        "id": "HKDiOPyz-f42",
        "outputId": "35675af9-0707-4d90-8262-a7afa6f34a04"
      },
      "source": [
        "valid_x = torch.cat([valid_threes, valid_sevens]).view(-1, 28*28)\n",
        "valid_y = tensor([1]*len(valid_threes) + [0]*len(valid_sevens)).unsqueeze(1)\n",
        "valid_x.shape, valid_y.shape"
      ],
      "execution_count": 11,
      "outputs": [
        {
          "output_type": "execute_result",
          "data": {
            "text/plain": [
              "(torch.Size([2038, 784]), torch.Size([2038, 1]))"
            ]
          },
          "metadata": {
            "tags": []
          },
          "execution_count": 11
        }
      ]
    },
    {
      "cell_type": "code",
      "metadata": {
        "id": "4ZtEX26R-8p8"
      },
      "source": [
        "from typing import Tuple\n",
        "# create a function to initialize parameters which require grad from pytorch\n",
        "def init_params(size: Tuple):\n",
        "  return torch.randn(size).requires_grad_()"
      ],
      "execution_count": 12,
      "outputs": []
    },
    {
      "cell_type": "code",
      "metadata": {
        "colab": {
          "base_uri": "https://localhost:8080/"
        },
        "id": "lEqIgUez_iVh",
        "outputId": "5a396006-3316-4a35-9c0e-e9a66b401caa"
      },
      "source": [
        "# create basic model weights\n",
        "weights = init_params((28*28, 1))\n",
        "weights.shape"
      ],
      "execution_count": 13,
      "outputs": [
        {
          "output_type": "execute_result",
          "data": {
            "text/plain": [
              "torch.Size([784, 1])"
            ]
          },
          "metadata": {
            "tags": []
          },
          "execution_count": 13
        }
      ]
    },
    {
      "cell_type": "code",
      "metadata": {
        "colab": {
          "base_uri": "https://localhost:8080/"
        },
        "id": "ghXCNRl6_vf4",
        "outputId": "9500d58e-e0c1-4789-be51-9089f840e46e"
      },
      "source": [
        "# create basic model bias\n",
        "bias = init_params((1))\n",
        "bias.shape"
      ],
      "execution_count": 14,
      "outputs": [
        {
          "output_type": "execute_result",
          "data": {
            "text/plain": [
              "torch.Size([1])"
            ]
          },
          "metadata": {
            "tags": []
          },
          "execution_count": 14
        }
      ]
    },
    {
      "cell_type": "code",
      "metadata": {
        "id": "Q6ExH5gT_6PW"
      },
      "source": [
        "# manually implement a linear model \n",
        "def manual_linear(train_x):\n",
        "  # perform matrix multiplication between train_x and weights\n",
        "  # note shape of train_x = n x 784 and weights = 784 x 1 => matrix multiplication works with output n x 1\n",
        "  return train_x@weights + bias"
      ],
      "execution_count": 15,
      "outputs": []
    },
    {
      "cell_type": "code",
      "metadata": {
        "id": "orREK1_MCF9n",
        "colab": {
          "base_uri": "https://localhost:8080/"
        },
        "outputId": "aeed5ac7-ab3d-4bb5-9ba9-1442af5ef66d"
      },
      "source": [
        "# to make predictions using the linear model:\n",
        "preds = manual_linear(train_x)\n",
        "preds.shape"
      ],
      "execution_count": 16,
      "outputs": [
        {
          "output_type": "execute_result",
          "data": {
            "text/plain": [
              "torch.Size([12396, 1])"
            ]
          },
          "metadata": {
            "tags": []
          },
          "execution_count": 16
        }
      ]
    },
    {
      "cell_type": "code",
      "metadata": {
        "id": "hxBhf-a2Afd4"
      },
      "source": [
        "# create a loss function to evaluate results from the preds\n",
        "def loss(preds, target):\n",
        "  # make sure all predictions are between 0 and 1 for loss to work\n",
        "  preds = preds.sigmoid()\n",
        "\n",
        "  # make loss function for 3s and 7s\n",
        "  all_loses = torch.where(target == 1, 1-preds, preds)\n",
        "\n",
        "  # aggregate all of the losses using mean to obtain single value for loss\n",
        "  return all_loses.mean()"
      ],
      "execution_count": 17,
      "outputs": []
    },
    {
      "cell_type": "code",
      "metadata": {
        "id": "NABHMuVNBeg3"
      },
      "source": [
        "# create a basic class to create a linear model\n",
        "\n",
        "class LinearModel:\n",
        "  def __init__(self, size, lr):\n",
        "    self.weights = torch.randn(size).requires_grad_()\n",
        "    self.bias = torch.randn((1)).requires_grad_()\n",
        "    self.preds = None\n",
        "    self.loss = None\n",
        "\n",
        "    self.optim = SGDOptimizer([self.weights, self.bias], lr)\n",
        "  \n",
        "  def get_params(self):\n",
        "    return (self.weights, self.bias)\n",
        "\n",
        "  def apply_linear(self, train_x):\n",
        "    self.preds = train_x@self.weights + self.bias\n",
        "    return self.preds\n",
        "  \n",
        "  def linear_loss(self, train_x, target):\n",
        "    if self.preds == None:\n",
        "      preds = self.apply_linear(train_x).sigmoid()\n",
        "    else:\n",
        "      preds = self.preds.sigmoid()\n",
        "    # loss fn where lower is better in terms of predicted probabilities\n",
        "    self.loss =  torch.where(target == 1, 1-preds, preds).mean()\n",
        "    return self.loss\n",
        "  \n",
        "  # combine the linear model, loss, and gradient calculation into single wrapper\n",
        "  def calc_grad(self, train_x, targ_y):\n",
        "    self.apply_linear(train_x)\n",
        "    self.linear_loss(None, targ_y)\n",
        "    self.loss.backward()\n",
        "  \n",
        "\n",
        "  def train_epoch(data_loader):\n",
        "    # loop through each batch in the data loader, use the calc grad wrapper, and take steps with the optimizer\n",
        "    for batch_x, batch_y in data_loader:\n",
        "      self.calc_grad(batch_x, batch_y)\n",
        "      self.optim.step()\n",
        "      self.optim.zero_grad()\n",
        "  \n",
        "  \n",
        "  \n",
        "  "
      ],
      "execution_count": 30,
      "outputs": []
    },
    {
      "cell_type": "code",
      "metadata": {
        "id": "lvk-KQ8zIFIv"
      },
      "source": [
        "# create an optimizer class to add to the linear model\n",
        "\n",
        "from typing import List\n",
        "class SGDOptimizer:\n",
        "\n",
        "  def __init__(self, params: List[tensor], lr: int):\n",
        "    self.params = params\n",
        "    self.lr = lr\n",
        "  \n",
        "  # make a function to step wrt each parameter in the model\n",
        "  def step():\n",
        "    for param in self.params:\n",
        "      # take the data of the param since it requires_grad_\n",
        "      param.data -= param.grad * self.lr\n",
        "  \n",
        "  # reset the gradients for new steps\n",
        "  def zero_grad():\n",
        "    for param in self.params:\n",
        "      param.grad = None"
      ],
      "execution_count": 33,
      "outputs": []
    },
    {
      "cell_type": "code",
      "metadata": {
        "colab": {
          "base_uri": "https://localhost:8080/"
        },
        "id": "xGl6GcknEKI-",
        "outputId": "03d48a32-4e8e-459a-ab71-377512fa5bf2"
      },
      "source": [
        "\n",
        "basic_linear_1 = LinearModel((28*28, 1))\n",
        "w, b = basic_linear_1.get_params()\n",
        "w.shape, b.shape"
      ],
      "execution_count": 31,
      "outputs": [
        {
          "output_type": "execute_result",
          "data": {
            "text/plain": [
              "(torch.Size([784, 1]), torch.Size([1]))"
            ]
          },
          "metadata": {
            "tags": []
          },
          "execution_count": 31
        }
      ]
    },
    {
      "cell_type": "code",
      "metadata": {
        "colab": {
          "base_uri": "https://localhost:8080/"
        },
        "id": "szz_wBOpER0A",
        "outputId": "92f6e6d1-2d5c-4e51-e278-d6fd1828a45a"
      },
      "source": [
        "# manually make preds, evaluate loss and take gradients\n",
        "basic_linear_1.apply_linear(train_x[:4])\n",
        "basic_linear_1.linear_loss(train_x, train_y[: 4])\n",
        "basic_linear_1.loss.backward()\n",
        "\n",
        "# get the gradient of loss\n",
        "basic_linear_1.weights.grad.mean(), basic_linear_1.bias.grad\n"
      ],
      "execution_count": 32,
      "outputs": [
        {
          "output_type": "execute_result",
          "data": {
            "text/plain": [
              "(tensor(-0.0029), tensor([-0.0205]))"
            ]
          },
          "metadata": {
            "tags": []
          },
          "execution_count": 32
        }
      ]
    },
    {
      "cell_type": "code",
      "metadata": {
        "colab": {
          "base_uri": "https://localhost:8080/"
        },
        "id": "QDr4PZsIOOUm",
        "outputId": "23ef0282-a7c8-4062-926a-8c6cbb6bce98"
      },
      "source": [
        "basic_linear_1.weights.grad.zero_()\n",
        "basic_linear_1.bias.grad.zero_()"
      ],
      "execution_count": 36,
      "outputs": [
        {
          "output_type": "execute_result",
          "data": {
            "text/plain": [
              "tensor([0.])"
            ]
          },
          "metadata": {
            "tags": []
          },
          "execution_count": 36
        }
      ]
    },
    {
      "cell_type": "code",
      "metadata": {
        "colab": {
          "base_uri": "https://localhost:8080/"
        },
        "id": "swbpVSg9Gcyd",
        "outputId": "173bd3e4-7430-4d69-cfc4-11226462ebfb"
      },
      "source": [
        "# create data loaders for iteration in batches by the linear model\n",
        "to_data_loader = lambda x, y, batch_size: DataLoader(list(zip(x, y)), batch_size=batch_size)\n",
        "\n",
        "train_dl = to_data_loader(train_x, train_y, 256)\n",
        "valid_dl = to_data_loader(valid_x, valid_y, 256)\n",
        "\n",
        "first(train_dl)[0].shape, first(train_dl)[1].shape"
      ],
      "execution_count": 43,
      "outputs": [
        {
          "output_type": "execute_result",
          "data": {
            "text/plain": [
              "(torch.Size([256, 784]), torch.Size([256, 1]))"
            ]
          },
          "metadata": {
            "tags": []
          },
          "execution_count": 43
        }
      ]
    },
    {
      "cell_type": "code",
      "metadata": {
        "id": "LgRY_X1RQZQD"
      },
      "source": [
        ""
      ],
      "execution_count": null,
      "outputs": []
    }
  ]
}