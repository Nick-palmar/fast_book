{
  "nbformat": 4,
  "nbformat_minor": 0,
  "metadata": {
    "colab": {
      "name": "04_model_loss_practice.ipynb",
      "provenance": [],
      "collapsed_sections": []
    },
    "kernelspec": {
      "name": "python3",
      "display_name": "Python 3"
    },
    "language_info": {
      "name": "python"
    },
    "accelerator": "GPU"
  },
  "cells": [
    {
      "cell_type": "code",
      "metadata": {
        "id": "1_1RVWc42O_1"
      },
      "source": [
        "!pip install -Uqq fastbook\n",
        "import fastbook\n",
        "fastbook.setup_book()"
      ],
      "execution_count": 34,
      "outputs": []
    },
    {
      "cell_type": "code",
      "metadata": {
        "id": "l6dvmqS_2aaP"
      },
      "source": [
        "from fastai.vision.all import *\n",
        "from fastbook import *\n",
        "\n",
        "matplotlib.rc('image', cmap='Greys')"
      ],
      "execution_count": 35,
      "outputs": []
    },
    {
      "cell_type": "code",
      "metadata": {
        "colab": {
          "base_uri": "https://localhost:8080/"
        },
        "id": "VZmkljEB2czH",
        "outputId": "c424a4b3-7abd-4586-8072-769f2017314c"
      },
      "source": [
        "path = untar_data(URLs.MNIST_SAMPLE)\n",
        "Path.BASE_PATH = path\n",
        "threes = (path/'train'/'3').ls().sorted()\n",
        "sevens = (path/'train'/'7').ls().sorted()\n",
        "threes"
      ],
      "execution_count": 36,
      "outputs": [
        {
          "output_type": "execute_result",
          "data": {
            "text/plain": [
              "(#6131) [Path('train/3/10.png'),Path('train/3/10000.png'),Path('train/3/10011.png'),Path('train/3/10031.png'),Path('train/3/10034.png'),Path('train/3/10042.png'),Path('train/3/10052.png'),Path('train/3/1007.png'),Path('train/3/10074.png'),Path('train/3/10091.png')...]"
            ]
          },
          "metadata": {
            "tags": []
          },
          "execution_count": 36
        }
      ]
    },
    {
      "cell_type": "code",
      "metadata": {
        "colab": {
          "base_uri": "https://localhost:8080/",
          "height": 45
        },
        "id": "SHWkoc6V3CSL",
        "outputId": "125bd051-a873-42ff-8a0b-ba2ab6f1ecc2"
      },
      "source": [
        "im3_path = threes[1]\n",
        "im3 = Image.open(im3_path)\n",
        "im3"
      ],
      "execution_count": 37,
      "outputs": [
        {
          "output_type": "execute_result",
          "data": {
            "image/png": "[encoded data removed]",
            "text/plain": [
              "<PIL.PngImagePlugin.PngImageFile image mode=L size=28x28 at 0x7FA2F0AEE090>"
            ]
          },
          "metadata": {
            "tags": []
          },
          "execution_count": 37
        }
      ]
    },
    {
      "cell_type": "code",
      "metadata": {
        "colab": {
          "base_uri": "https://localhost:8080/"
        },
        "id": "MjoIFFXF3VXD",
        "outputId": "5dd8d03b-bd3c-44da-df19-83074fb9e443"
      },
      "source": [
        "# get the validaition data\n",
        "threes_valid = (path/'valid'/'3').ls().sorted()\n",
        "sevens_valid = (path/'valid'/'7').ls().sorted()\n",
        "threes_valid"
      ],
      "execution_count": 38,
      "outputs": [
        {
          "output_type": "execute_result",
          "data": {
            "text/plain": [
              "(#1010) [Path('valid/3/1020.png'),Path('valid/3/1028.png'),Path('valid/3/1042.png'),Path('valid/3/1062.png'),Path('valid/3/1066.png'),Path('valid/3/1067.png'),Path('valid/3/1069.png'),Path('valid/3/1072.png'),Path('valid/3/1092.png'),Path('valid/3/1095.png')...]"
            ]
          },
          "metadata": {
            "tags": []
          },
          "execution_count": 38
        }
      ]
    },
    {
      "cell_type": "code",
      "metadata": {
        "id": "cIh1jOHy4Ibc"
      },
      "source": [
        "path_to_tensor = lambda file_list: torch.stack([tensor(Image.open(img_path)) for img_path in file_list]).float()/255"
      ],
      "execution_count": 39,
      "outputs": []
    },
    {
      "cell_type": "code",
      "metadata": {
        "colab": {
          "base_uri": "https://localhost:8080/",
          "height": 102
        },
        "id": "PgjLCfba4h5z",
        "outputId": "8455e872-7dbc-4990-ac01-763b73accdf0"
      },
      "source": [
        "train_sevens = path_to_tensor(sevens)\n",
        "train_sevens.shape\n",
        "show_image(train_sevens[0])"
      ],
      "execution_count": 40,
      "outputs": [
        {
          "output_type": "execute_result",
          "data": {
            "text/plain": [
              "<matplotlib.axes._subplots.AxesSubplot at 0x7fa2ef0035d0>"
            ]
          },
          "metadata": {
            "tags": []
          },
          "execution_count": 40
        },
        {
          "output_type": "display_data",
          "data": {
            "image/png": "[encoded data removed]",
            "text/plain": [
              "<Figure size 72x72 with 1 Axes>"
            ]
          },
          "metadata": {
            "tags": [],
            "needs_background": "light"
          }
        }
      ]
    },
    {
      "cell_type": "code",
      "metadata": {
        "colab": {
          "base_uri": "https://localhost:8080/"
        },
        "id": "lmym30mq3Kcg",
        "outputId": "321187c7-7263-43d2-d760-35c15c4bd550"
      },
      "source": [
        "# create list tensors for training an validation sets\n",
        "train_threes = path_to_tensor(threes)\n",
        "valid_threes = path_to_tensor(threes_valid)\n",
        "valid_sevens = path_to_tensor(sevens_valid)\n",
        "valid_sevens.shape"
      ],
      "execution_count": 41,
      "outputs": [
        {
          "output_type": "execute_result",
          "data": {
            "text/plain": [
              "torch.Size([1028, 28, 28])"
            ]
          },
          "metadata": {
            "tags": []
          },
          "execution_count": 41
        }
      ]
    },
    {
      "cell_type": "markdown",
      "metadata": {
        "id": "srArYiwZ8ik6"
      },
      "source": [
        "###**Get clear dependant/independant variable sets, a way to initialize parameters, a simple model, and a loss using sigmoid**"
      ]
    },
    {
      "cell_type": "code",
      "metadata": {
        "colab": {
          "base_uri": "https://localhost:8080/"
        },
        "id": "8PMFuK7w8cmY",
        "outputId": "cda70349-7890-458d-eaeb-c878e431ae60"
      },
      "source": [
        "# create training x and y\n",
        "train_x = torch.cat([train_threes, train_sevens]).view(-1, 28*28)\n",
        "train_x.shape"
      ],
      "execution_count": 42,
      "outputs": [
        {
          "output_type": "execute_result",
          "data": {
            "text/plain": [
              "torch.Size([12396, 784])"
            ]
          },
          "metadata": {
            "tags": []
          },
          "execution_count": 42
        }
      ]
    },
    {
      "cell_type": "code",
      "metadata": {
        "colab": {
          "base_uri": "https://localhost:8080/"
        },
        "id": "s07dBadK9hEQ",
        "outputId": "bb7d68c5-e1e2-4a9c-8a27-09992940524d"
      },
      "source": [
        "# create a list containing 1 for 3s and 0 for 7s, turn into tensor of size x 1\n",
        "train_y = tensor([1]*len(threes) + [0]*len(sevens)).unsqueeze(1)\n",
        "train_y.shape"
      ],
      "execution_count": 43,
      "outputs": [
        {
          "output_type": "execute_result",
          "data": {
            "text/plain": [
              "torch.Size([12396, 1])"
            ]
          },
          "metadata": {
            "tags": []
          },
          "execution_count": 43
        }
      ]
    },
    {
      "cell_type": "code",
      "metadata": {
        "colab": {
          "base_uri": "https://localhost:8080/"
        },
        "id": "HKDiOPyz-f42",
        "outputId": "e137d2cd-c876-4459-91a5-a0247e32d8b3"
      },
      "source": [
        "valid_x = torch.cat([valid_threes, valid_sevens]).view(-1, 28*28)\n",
        "valid_y = tensor([1]*len(valid_threes) + [0]*len(valid_sevens)).unsqueeze(1)\n",
        "valid_x.shape, valid_y.shape"
      ],
      "execution_count": 44,
      "outputs": [
        {
          "output_type": "execute_result",
          "data": {
            "text/plain": [
              "(torch.Size([2038, 784]), torch.Size([2038, 1]))"
            ]
          },
          "metadata": {
            "tags": []
          },
          "execution_count": 44
        }
      ]
    },
    {
      "cell_type": "code",
      "metadata": {
        "id": "4ZtEX26R-8p8"
      },
      "source": [
        "from typing import Tuple\n",
        "# create a function to initialize parameters which require grad from pytorch\n",
        "def init_params(size: Tuple):\n",
        "  return torch.randn(size).requires_grad_()"
      ],
      "execution_count": 45,
      "outputs": []
    },
    {
      "cell_type": "code",
      "metadata": {
        "colab": {
          "base_uri": "https://localhost:8080/"
        },
        "id": "lEqIgUez_iVh",
        "outputId": "4b2820c3-06e7-4c6e-9e92-93720de4fa56"
      },
      "source": [
        "# create basic model weights\n",
        "weights = init_params((28*28, 1))\n",
        "weights.shape"
      ],
      "execution_count": 46,
      "outputs": [
        {
          "output_type": "execute_result",
          "data": {
            "text/plain": [
              "torch.Size([784, 1])"
            ]
          },
          "metadata": {
            "tags": []
          },
          "execution_count": 46
        }
      ]
    },
    {
      "cell_type": "code",
      "metadata": {
        "colab": {
          "base_uri": "https://localhost:8080/"
        },
        "id": "ghXCNRl6_vf4",
        "outputId": "0256b7f9-bd25-4814-f468-4950b7446055"
      },
      "source": [
        "# create basic model bias\n",
        "bias = init_params((1))\n",
        "bias.shape"
      ],
      "execution_count": 47,
      "outputs": [
        {
          "output_type": "execute_result",
          "data": {
            "text/plain": [
              "torch.Size([1])"
            ]
          },
          "metadata": {
            "tags": []
          },
          "execution_count": 47
        }
      ]
    },
    {
      "cell_type": "code",
      "metadata": {
        "id": "Q6ExH5gT_6PW"
      },
      "source": [
        "# manually implement a linear model \n",
        "def manual_linear(train_x):\n",
        "  # perform matrix multiplication between train_x and weights\n",
        "  # note shape of train_x = n x 784 and weights = 784 x 1 => matrix multiplication works with output n x 1\n",
        "  return train_x@weights + bias"
      ],
      "execution_count": 48,
      "outputs": []
    },
    {
      "cell_type": "code",
      "metadata": {
        "id": "orREK1_MCF9n",
        "colab": {
          "base_uri": "https://localhost:8080/"
        },
        "outputId": "cd598c35-6534-4384-fc55-836ac2997c84"
      },
      "source": [
        "# to make predictions using the linear model:\n",
        "preds = manual_linear(train_x)\n",
        "preds.shape"
      ],
      "execution_count": 49,
      "outputs": [
        {
          "output_type": "execute_result",
          "data": {
            "text/plain": [
              "torch.Size([12396, 1])"
            ]
          },
          "metadata": {
            "tags": []
          },
          "execution_count": 49
        }
      ]
    },
    {
      "cell_type": "code",
      "metadata": {
        "id": "hxBhf-a2Afd4"
      },
      "source": [
        "# create a loss function to evaluate results from the preds\n",
        "def loss(preds, target):\n",
        "  # make sure all predictions are between 0 and 1 for loss to work\n",
        "  preds = preds.sigmoid()\n",
        "\n",
        "  # make loss function for 3s and 7s\n",
        "  all_loses = torch.where(target == 1, 1-preds, preds)\n",
        "\n",
        "  # aggregate all of the losses using mean to obtain single value for loss\n",
        "  return all_loses.mean()"
      ],
      "execution_count": 50,
      "outputs": []
    },
    {
      "cell_type": "code",
      "metadata": {
        "id": "NABHMuVNBeg3"
      },
      "source": [
        "# create a basic class to create a linear model\n",
        "\n",
        "class LinearModel:\n",
        "  def __init__(self, size, lr):\n",
        "    self.weights = torch.randn(size).requires_grad_()\n",
        "    self.bias = torch.randn((1)).requires_grad_()\n",
        "    self.preds = None\n",
        "    self.loss = None\n",
        "\n",
        "    self.optim = SGDOptimizer([self.weights, self.bias], lr)\n",
        "  \n",
        "  def get_params(self):\n",
        "    return (self.weights, self.bias)\n",
        "\n",
        "  def apply_linear(self, train_x):\n",
        "    self.preds = train_x@self.weights + self.bias\n",
        "    return self.preds\n",
        "  \n",
        "  def linear_loss(self, train_x, target):\n",
        "    if self.preds == None:\n",
        "      preds = self.apply_linear(train_x).sigmoid()\n",
        "    else:\n",
        "      preds = self.preds.sigmoid()\n",
        "    # loss fn where lower is better in terms of predicted probabilities\n",
        "    self.loss =  torch.where(target == 1, 1-preds, preds).mean()\n",
        "    return self.loss\n",
        "  \n",
        "  # combine the linear model, loss, and gradient calculation into single wrapper\n",
        "  def calc_grad(self, train_x, targ_y):\n",
        "    self.apply_linear(train_x)\n",
        "    self.linear_loss(None, targ_y)\n",
        "    self.loss.backward()\n",
        "  \n",
        "\n",
        "  def train_epoch(self, data_loader):\n",
        "    # loop through each batch in the data loader, use the calc grad wrapper, and take steps with the optimizer\n",
        "    for batch_x, batch_y in data_loader:\n",
        "      self.calc_grad(batch_x, batch_y)\n",
        "      self.optim.step()\n",
        "      self.optim.zero_grad()\n",
        "  \n",
        "  def batch_accuracy(self, batch_x, target_y):\n",
        "    # make predictions on the given batch\n",
        "    preds = self.apply_linear(batch_x).sigmoid()\n",
        "\n",
        "    # anything greater than zero is predicted a 3; sigmoid means that anything > 0.5 is a 3\n",
        "    # this gives a tensor of true and falses (true for correct pred, else false)\n",
        "    correct = (preds > 0.5) == target_y\n",
        "\n",
        "    # get the mean number of correct preds\n",
        "    return correct.float().mean()\n",
        "  \n",
        "  def validate_epoch(self, valid_data_loader):\n",
        "    # get the accuracy for each epoch\n",
        "    all_accs = [self.batch_accuracy(valid_x, valid_y) for valid_x, valid_y in valid_data_loader]\n",
        "    # return the mean of all the accuracies\n",
        "    return torch.stack(all_accs).mean()\n",
        "\n",
        "  \n",
        "  def train_model(self, epochs, data_loader, valid_data_loader):\n",
        "    # loop through the number of epochs provided\n",
        "    for i in range(epochs):\n",
        "      self.train_epoch(data_loader)\n",
        "      print(self.validate_epoch(valid_data_loader))\n",
        "  \n",
        "  \n",
        "  \n",
        "  "
      ],
      "execution_count": 51,
      "outputs": []
    },
    {
      "cell_type": "code",
      "metadata": {
        "id": "lvk-KQ8zIFIv"
      },
      "source": [
        "# create an optimizer class to add to the linear model\n",
        "\n",
        "from typing import List\n",
        "class SGDOptimizer:\n",
        "\n",
        "  def __init__(self, params: List[tensor], lr: int):\n",
        "    self.params = params\n",
        "    self.lr = lr\n",
        "  \n",
        "  # make a function to step wrt each parameter in the model\n",
        "  def step(self):\n",
        "    # print('step')\n",
        "    for param in self.params:\n",
        "      # take the data of the param since it requires_grad_\n",
        "      param.data -= param.grad * self.lr\n",
        "  \n",
        "  # reset the gradients for new steps\n",
        "  def zero_grad(self):\n",
        "    # print('zeroing')\n",
        "    for param in self.params:\n",
        "      param.grad = None"
      ],
      "execution_count": 52,
      "outputs": []
    },
    {
      "cell_type": "code",
      "metadata": {
        "colab": {
          "base_uri": "https://localhost:8080/"
        },
        "id": "xGl6GcknEKI-",
        "outputId": "7c7228b6-68a1-435f-8cf9-8b3914202103"
      },
      "source": [
        "\n",
        "basic_linear_1 = LinearModel((28*28, 1), 0.1)\n",
        "w, b = basic_linear_1.get_params()\n",
        "w.shape, b.shape"
      ],
      "execution_count": 53,
      "outputs": [
        {
          "output_type": "execute_result",
          "data": {
            "text/plain": [
              "(torch.Size([784, 1]), torch.Size([1]))"
            ]
          },
          "metadata": {
            "tags": []
          },
          "execution_count": 53
        }
      ]
    },
    {
      "cell_type": "code",
      "metadata": {
        "colab": {
          "base_uri": "https://localhost:8080/"
        },
        "id": "szz_wBOpER0A",
        "outputId": "9f374976-c627-41a4-b326-5dae191d4900"
      },
      "source": [
        "# manually make preds, evaluate loss and take gradients\n",
        "basic_linear_1.apply_linear(train_x[:4])\n",
        "basic_linear_1.linear_loss(train_x, train_y[: 4])\n",
        "basic_linear_1.loss.backward()\n",
        "\n",
        "# get the gradient of loss\n",
        "basic_linear_1.weights.grad.mean(), basic_linear_1.bias.grad\n"
      ],
      "execution_count": 54,
      "outputs": [
        {
          "output_type": "execute_result",
          "data": {
            "text/plain": [
              "(tensor(-0.0167), tensor([-0.1168]))"
            ]
          },
          "metadata": {
            "tags": []
          },
          "execution_count": 54
        }
      ]
    },
    {
      "cell_type": "code",
      "metadata": {
        "colab": {
          "base_uri": "https://localhost:8080/"
        },
        "id": "QDr4PZsIOOUm",
        "outputId": "3fd51aa5-ce0b-42cf-d58b-afd7c4e6b5e0"
      },
      "source": [
        "basic_linear_1.weights.grad.zero_()\n",
        "basic_linear_1.bias.grad.zero_()"
      ],
      "execution_count": 55,
      "outputs": [
        {
          "output_type": "execute_result",
          "data": {
            "text/plain": [
              "tensor([0.])"
            ]
          },
          "metadata": {
            "tags": []
          },
          "execution_count": 55
        }
      ]
    },
    {
      "cell_type": "code",
      "metadata": {
        "colab": {
          "base_uri": "https://localhost:8080/"
        },
        "id": "swbpVSg9Gcyd",
        "outputId": "1153d356-284a-46d8-a076-bf4cf1782cb0"
      },
      "source": [
        "# create data loaders for iteration in batches by the linear model\n",
        "to_data_loader = lambda x, y, batch_size: DataLoader(list(zip(x, y)), batch_size=batch_size)\n",
        "\n",
        "train_dl = to_data_loader(train_x, train_y, 256)\n",
        "valid_dl = to_data_loader(valid_x, valid_y, 256)\n",
        "\n",
        "first(train_dl)[0].shape, first(train_dl)[1].shape"
      ],
      "execution_count": 56,
      "outputs": [
        {
          "output_type": "execute_result",
          "data": {
            "text/plain": [
              "(torch.Size([256, 784]), torch.Size([256, 1]))"
            ]
          },
          "metadata": {
            "tags": []
          },
          "execution_count": 56
        }
      ]
    },
    {
      "cell_type": "code",
      "metadata": {
        "id": "LgRY_X1RQZQD",
        "colab": {
          "base_uri": "https://localhost:8080/"
        },
        "outputId": "0e99efd5-5946-4de0-e235-1a2e64ddcd4c"
      },
      "source": [
        "# create a new linear model and train for 20 epochs\n",
        "\n",
        "new_linear = LinearModel((28*28, 1), 1)\n",
        "new_linear.weights.shape"
      ],
      "execution_count": 57,
      "outputs": [
        {
          "output_type": "execute_result",
          "data": {
            "text/plain": [
              "torch.Size([784, 1])"
            ]
          },
          "metadata": {
            "tags": []
          },
          "execution_count": 57
        }
      ]
    },
    {
      "cell_type": "code",
      "metadata": {
        "colab": {
          "base_uri": "https://localhost:8080/"
        },
        "id": "TyyLHZUbiHo2",
        "outputId": "e2a3b522-16c7-4fc9-a5b1-2a565acb1919"
      },
      "source": [
        "new_linear.train_model(20, train_dl, valid_dl)"
      ],
      "execution_count": 58,
      "outputs": [
        {
          "output_type": "stream",
          "text": [
            "tensor(0.6582)\n",
            "tensor(0.8418)\n",
            "tensor(0.8994)\n",
            "tensor(0.9243)\n",
            "tensor(0.9311)\n",
            "tensor(0.9370)\n",
            "tensor(0.9448)\n",
            "tensor(0.9506)\n",
            "tensor(0.9521)\n",
            "tensor(0.9550)\n",
            "tensor(0.9560)\n",
            "tensor(0.9575)\n",
            "tensor(0.9580)\n",
            "tensor(0.9594)\n",
            "tensor(0.9594)\n",
            "tensor(0.9599)\n",
            "tensor(0.9599)\n",
            "tensor(0.9609)\n",
            "tensor(0.9624)\n",
            "tensor(0.9634)\n"
          ],
          "name": "stdout"
        }
      ]
    },
    {
      "cell_type": "code",
      "metadata": {
        "id": "Y0TTelm8iL_B"
      },
      "source": [
        "# create the abstraction of a complete learner\n",
        "\n",
        "class SimpleLearner:\n",
        "\n",
        "  def __init__(self, dls, model, opt_func, loss_func, metrics):\n",
        "    self.dls = dls\n",
        "    self.model = model\n",
        "    self.optim = opt_func(list(model.parameters()), 1)\n",
        "    self.loss = loss_func\n",
        "    self.metrics = metrics\n",
        "\n",
        "  def train_epoch(self):\n",
        "    # print('train')\n",
        "    # take an x and y in the dls iterator \n",
        "    for train_x, train_y in self.dls.train:\n",
        "      preds = self.model(train_x)\n",
        "      loss = self.loss(preds, train_y)\n",
        "      loss.backward()\n",
        "      self.optim.step()\n",
        "      self.optim.zero_grad()\n",
        "    \n",
        "  def epoch_acc(self):\n",
        "    # get a list of all of the epoch accuracies\n",
        "    all_accs = [self.metrics(self.model(valid_x), valid_y) for valid_x, valid_y in self.dls.valid]\n",
        "    # print(all_accs)\n",
        "    stacked_accs = torch.stack(all_accs)\n",
        "    # print(stacked_accs)\n",
        "    return stacked_accs.mean()\n",
        "\n",
        "  def fit(self, epochs):\n",
        "    for i in range(epochs):\n",
        "      # train a single epochs\n",
        "      self.train_epoch()\n",
        "\n",
        "      # output the epoch accuracy to the screen\n",
        "      print(self.epoch_acc())"
      ],
      "execution_count": 77,
      "outputs": []
    },
    {
      "cell_type": "code",
      "metadata": {
        "colab": {
          "base_uri": "https://localhost:8080/"
        },
        "id": "3leZi5BWragE",
        "outputId": "7b1b7968-fc2c-4f57-bfd1-7b7befc135cb"
      },
      "source": [
        "\n",
        "# create a linear model using pytorch to test the learner\n",
        "torch_linear = nn.Linear(28*28, 1)\n",
        "x, y = torch_linear.parameters()\n",
        "x.shape, y.shape"
      ],
      "execution_count": 78,
      "outputs": [
        {
          "output_type": "execute_result",
          "data": {
            "text/plain": [
              "(torch.Size([1, 784]), torch.Size([1]))"
            ]
          },
          "metadata": {
            "tags": []
          },
          "execution_count": 78
        }
      ]
    },
    {
      "cell_type": "code",
      "metadata": {
        "id": "LmM5kXt9r5dE"
      },
      "source": [
        "dls = DataLoaders(train_dl, valid_dl)"
      ],
      "execution_count": 79,
      "outputs": []
    },
    {
      "cell_type": "code",
      "metadata": {
        "id": "d8GRv6XHsPot"
      },
      "source": [
        "\n",
        "\n",
        "def batch_acc(preds_x, batch_y):\n",
        "  preds = preds_x.sigmoid()\n",
        "\n",
        "  # get a tensor of corret preds\n",
        "  correct = (preds > 0.5) == batch_y\n",
        "  return correct.float().mean()\n"
      ],
      "execution_count": 80,
      "outputs": []
    },
    {
      "cell_type": "code",
      "metadata": {
        "id": "ERIEfsnCrnrV"
      },
      "source": [
        "\n",
        "learner = SimpleLearner(dls, torch_linear, SGDOptimizer, loss, batch_acc)  "
      ],
      "execution_count": 81,
      "outputs": []
    },
    {
      "cell_type": "code",
      "metadata": {
        "id": "0ut70BeBswc7",
        "colab": {
          "base_uri": "https://localhost:8080/"
        },
        "outputId": "e78c52ca-b136-4b0a-bcdf-78ef252a402c"
      },
      "source": [
        "\n",
        "\n",
        "learner.fit(20)"
      ],
      "execution_count": 82,
      "outputs": [
        {
          "output_type": "stream",
          "text": [
            "tensor(0.4932)\n",
            "tensor(0.7973)\n",
            "tensor(0.6958)\n",
            "tensor(0.8765)\n",
            "tensor(0.9194)\n",
            "tensor(0.9390)\n",
            "tensor(0.9517)\n",
            "tensor(0.9585)\n",
            "tensor(0.9638)\n",
            "tensor(0.9658)\n",
            "tensor(0.9678)\n",
            "tensor(0.9692)\n",
            "tensor(0.9721)\n",
            "tensor(0.9741)\n",
            "tensor(0.9751)\n",
            "tensor(0.9761)\n",
            "tensor(0.9770)\n",
            "tensor(0.9775)\n",
            "tensor(0.9780)\n",
            "tensor(0.9780)\n"
          ],
          "name": "stdout"
        }
      ]
    },
    {
      "cell_type": "code",
      "metadata": {
        "id": "FdavTHdAszPW"
      },
      "source": [
        "# finish section on adding nonlinearity"
      ],
      "execution_count": 76,
      "outputs": []
    }
  ]
}