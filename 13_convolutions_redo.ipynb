{
  "nbformat": 4,
  "nbformat_minor": 0,
  "metadata": {
    "colab": {
      "name": "13_convolutions_redo.ipynb",
      "provenance": []
    },
    "kernelspec": {
      "name": "python3",
      "display_name": "Python 3"
    },
    "language_info": {
      "name": "python"
    },
    "accelerator": "GPU"
  },
  "cells": [
    {
      "cell_type": "code",
      "metadata": {
        "id": "YMqjppQwqClb"
      },
      "source": [
        "#hide\n",
        "!pip install -Uqq fastbook\n",
        "import fastbook\n",
        "fastbook.setup_book()"
      ],
      "execution_count": 31,
      "outputs": []
    },
    {
      "cell_type": "code",
      "metadata": {
        "id": "5equMjhyqHNj"
      },
      "source": [
        "from fastai.vision.all import *\n",
        "from fastbook import *\n",
        "\n",
        "matplotlib.rc('image', cmap='Greys')"
      ],
      "execution_count": 32,
      "outputs": []
    },
    {
      "cell_type": "code",
      "metadata": {
        "id": "dM27EiHwqJIZ"
      },
      "source": [
        "path = untar_data(URLs.MNIST_SAMPLE)"
      ],
      "execution_count": 33,
      "outputs": []
    },
    {
      "cell_type": "code",
      "metadata": {
        "id": "e1IoJ5HuqP-7"
      },
      "source": [
        "Path.BASE_PATH = path"
      ],
      "execution_count": 34,
      "outputs": []
    },
    {
      "cell_type": "code",
      "metadata": {
        "colab": {
          "base_uri": "https://localhost:8080/"
        },
        "id": "N5bF11nWqRuN",
        "outputId": "c5fc7850-2242-4dc8-fb00-bc4149333d9c"
      },
      "source": [
        "path.ls()"
      ],
      "execution_count": 35,
      "outputs": [
        {
          "output_type": "execute_result",
          "data": {
            "text/plain": [
              "(#3) [Path('labels.csv'),Path('train'),Path('valid')]"
            ]
          },
          "metadata": {},
          "execution_count": 35
        }
      ]
    },
    {
      "cell_type": "code",
      "metadata": {
        "colab": {
          "base_uri": "https://localhost:8080/"
        },
        "id": "J57BX5mDqjU5",
        "outputId": "9c4519f8-8d02-4f3e-c687-f1013e2b5bc0"
      },
      "source": [
        "(path/'train').ls()"
      ],
      "execution_count": 36,
      "outputs": [
        {
          "output_type": "execute_result",
          "data": {
            "text/plain": [
              "(#2) [Path('train/7'),Path('train/3')]"
            ]
          },
          "metadata": {},
          "execution_count": 36
        }
      ]
    },
    {
      "cell_type": "code",
      "metadata": {
        "colab": {
          "base_uri": "https://localhost:8080/"
        },
        "id": "qYXU6V3Uq5Ag",
        "outputId": "daebd47f-9855-4c51-e75b-940d81dc33e7"
      },
      "source": [
        "(path/'valid').ls()"
      ],
      "execution_count": 37,
      "outputs": [
        {
          "output_type": "execute_result",
          "data": {
            "text/plain": [
              "(#2) [Path('valid/7'),Path('valid/3')]"
            ]
          },
          "metadata": {},
          "execution_count": 37
        }
      ]
    },
    {
      "cell_type": "code",
      "metadata": {
        "colab": {
          "base_uri": "https://localhost:8080/"
        },
        "id": "YrJuKgzDq7-y",
        "outputId": "750deaf6-e839-455d-85a4-c447ee02c0cc"
      },
      "source": [
        "(path/'train/3').ls()"
      ],
      "execution_count": 38,
      "outputs": [
        {
          "output_type": "execute_result",
          "data": {
            "text/plain": [
              "(#6131) [Path('train/3/49020.png'),Path('train/3/58048.png'),Path('train/3/45260.png'),Path('train/3/30483.png'),Path('train/3/47970.png'),Path('train/3/21228.png'),Path('train/3/49234.png'),Path('train/3/37827.png'),Path('train/3/25398.png'),Path('train/3/32685.png')...]"
            ]
          },
          "metadata": {},
          "execution_count": 38
        }
      ]
    },
    {
      "cell_type": "code",
      "metadata": {
        "colab": {
          "base_uri": "https://localhost:8080/",
          "height": 102
        },
        "id": "u2AwlW-Zrc0q",
        "outputId": "bd781ee4-3c6f-493b-8eda-010a0c013c37"
      },
      "source": [
        "# take a 3 to test manually applying kernels as well as using functional pytorch to apply kernels\n",
        "test_3 = tensor(Image.open(path/'train/3/49020.png'))\n",
        "show_image(test_3), type(test_3)"
      ],
      "execution_count": 39,
      "outputs": [
        {
          "output_type": "execute_result",
          "data": {
            "text/plain": [
              "(<matplotlib.axes._subplots.AxesSubplot at 0x7f1e31815750>, torch.Tensor)"
            ]
          },
          "metadata": {},
          "execution_count": 39
        },
        {
          "output_type": "display_data",
          "data": {
            "image/png": "[encoded data removed]",
            "text/plain": [
              "<Figure size 72x72 with 1 Axes>"
            ]
          },
          "metadata": {
            "needs_background": "light"
          }
        }
      ]
    },
    {
      "cell_type": "markdown",
      "metadata": {
        "id": "eJM8OodHsq1D"
      },
      "source": [
        "## Apply a single kernel to an image and show the results\n",
        "- Use raw python to apply a single kernel for creating convolutions\n",
        "- Test 2 kernels on an image "
      ]
    },
    {
      "cell_type": "code",
      "metadata": {
        "colab": {
          "base_uri": "https://localhost:8080/"
        },
        "id": "emuj_pSqr3eB",
        "outputId": "7e72cd4e-3bb0-4e0f-b360-21a778c668c0"
      },
      "source": [
        "top_kernel_1 = tensor([[-1, -1, -1], [0, 0, 0], [1, 1, 1]]).float()\n",
        "top_kernel_1"
      ],
      "execution_count": 40,
      "outputs": [
        {
          "output_type": "execute_result",
          "data": {
            "text/plain": [
              "tensor([[-1., -1., -1.],\n",
              "        [ 0.,  0.,  0.],\n",
              "        [ 1.,  1.,  1.]])"
            ]
          },
          "metadata": {},
          "execution_count": 40
        }
      ]
    },
    {
      "cell_type": "code",
      "metadata": {
        "colab": {
          "base_uri": "https://localhost:8080/"
        },
        "id": "oIQz49mGtHD_",
        "outputId": "901d6d0f-001e-4741-fde4-1d8b4dcf470b"
      },
      "source": [
        "top_kernel_2 = tensor([[-1, -1, -1], [1, 1, 1], [0, 0, 0]]).float()\n",
        "top_kernel_2"
      ],
      "execution_count": 41,
      "outputs": [
        {
          "output_type": "execute_result",
          "data": {
            "text/plain": [
              "tensor([[-1., -1., -1.],\n",
              "        [ 1.,  1.,  1.],\n",
              "        [ 0.,  0.,  0.]])"
            ]
          },
          "metadata": {},
          "execution_count": 41
        }
      ]
    },
    {
      "cell_type": "code",
      "metadata": {
        "id": "ut2gOqFqtR-u"
      },
      "source": [
        "def apply_kernel(image_tens, row, col, kernel):\n",
        "  \"\"\"\n",
        "  Apply a kernel to a certain location of an image tensor\n",
        "  \"\"\"\n",
        "  ks = kernel.shape[0]\n",
        "  half_ks = ks//2\n",
        "  # use row, col as the centre of the image to apply the kernel\n",
        "  kernel_comp = (image_tens[row-half_ks:row+half_ks+1, col-half_ks:col+half_ks+1] * kernel).sum()\n",
        "  return kernel_comp"
      ],
      "execution_count": 42,
      "outputs": []
    },
    {
      "cell_type": "code",
      "metadata": {
        "colab": {
          "base_uri": "https://localhost:8080/"
        },
        "id": "Sn3z30PUuVsg",
        "outputId": "1cbba1f3-5c85-4b53-af04-7c91c0b39c13"
      },
      "source": [
        "# test the apply kernel function on the top left part of the image\n",
        "apply_kernel(test_3, 1, 1, top_kernel_1)"
      ],
      "execution_count": 43,
      "outputs": [
        {
          "output_type": "execute_result",
          "data": {
            "text/plain": [
              "tensor(0.)"
            ]
          },
          "metadata": {},
          "execution_count": 43
        }
      ]
    },
    {
      "cell_type": "code",
      "metadata": {
        "colab": {
          "base_uri": "https://localhost:8080/"
        },
        "id": "dX3LBLZEu0ca",
        "outputId": "be055822-5176-42ea-828e-f1d37d2874c4"
      },
      "source": [
        "test_3.shape"
      ],
      "execution_count": 44,
      "outputs": [
        {
          "output_type": "execute_result",
          "data": {
            "text/plain": [
              "torch.Size([28, 28])"
            ]
          },
          "metadata": {},
          "execution_count": 44
        }
      ]
    },
    {
      "cell_type": "code",
      "metadata": {
        "colab": {
          "base_uri": "https://localhost:8080/"
        },
        "id": "V4p0nxfpueB4",
        "outputId": "155ba6e7-e884-4c43-da5b-32d4924bd2ac"
      },
      "source": [
        "apply_kernel(test_3, 15, 15, top_kernel_1)"
      ],
      "execution_count": 45,
      "outputs": [
        {
          "output_type": "execute_result",
          "data": {
            "text/plain": [
              "tensor(-287.)"
            ]
          },
          "metadata": {},
          "execution_count": 45
        }
      ]
    },
    {
      "cell_type": "code",
      "metadata": {
        "colab": {
          "base_uri": "https://localhost:8080/"
        },
        "id": "eVT_Bkdxu3g1",
        "outputId": "2e9d9396-8dc1-45d9-c89d-b638b24ac0d3"
      },
      "source": [
        "apply_kernel(test_3, 3, 15, top_kernel_1)"
      ],
      "execution_count": 46,
      "outputs": [
        {
          "output_type": "execute_result",
          "data": {
            "text/plain": [
              "tensor(438.)"
            ]
          },
          "metadata": {},
          "execution_count": 46
        }
      ]
    },
    {
      "cell_type": "code",
      "metadata": {
        "colab": {
          "base_uri": "https://localhost:8080/"
        },
        "id": "QnnBy0kQvJr-",
        "outputId": "d5caf864-a0dc-431c-b038-7e3662acc050"
      },
      "source": [
        "apply_kernel(test_3, 4, 15, top_kernel_1)"
      ],
      "execution_count": 47,
      "outputs": [
        {
          "output_type": "execute_result",
          "data": {
            "text/plain": [
              "tensor(756.)"
            ]
          },
          "metadata": {},
          "execution_count": 47
        }
      ]
    },
    {
      "cell_type": "code",
      "metadata": {
        "colab": {
          "base_uri": "https://localhost:8080/"
        },
        "id": "L5U1ArDEu6np",
        "outputId": "2b34851b-5409-48ba-9182-8a7dbd6631bd"
      },
      "source": [
        "apply_kernel(test_3, 5, 15, top_kernel_2)"
      ],
      "execution_count": 48,
      "outputs": [
        {
          "output_type": "execute_result",
          "data": {
            "text/plain": [
              "tensor(318.)"
            ]
          },
          "metadata": {},
          "execution_count": 48
        }
      ]
    },
    {
      "cell_type": "code",
      "metadata": {
        "id": "BDCF2TcyvD0o"
      },
      "source": [
        "def apply_convolution(image_tens, kernel):\n",
        "  \"\"\"\n",
        "  Apply a kernel to the entire grid space\n",
        "  \"\"\"\n",
        "  half_ks = kernel.shape[0]//2\n",
        "  min_dim = half_ks\n",
        "  max_dim = image_tens.shape[0] - half_ks\n",
        "\n",
        "  conv = tensor([[apply_kernel(test_3, row, col, kernel) for col in range(min_dim, max_dim)] for row in range(min_dim, max_dim)])\n",
        "  return conv\n",
        "  "
      ],
      "execution_count": 61,
      "outputs": []
    },
    {
      "cell_type": "code",
      "metadata": {
        "colab": {
          "base_uri": "https://localhost:8080/",
          "height": 102
        },
        "id": "AZvGzRx59Ae0",
        "outputId": "3dd7d299-1089-4d84-f1e2-62af17aea6c3"
      },
      "source": [
        "show_image(apply_convolution(test_3, top_kernel_1))"
      ],
      "execution_count": 64,
      "outputs": [
        {
          "output_type": "execute_result",
          "data": {
            "text/plain": [
              "<matplotlib.axes._subplots.AxesSubplot at 0x7f1e317d7c10>"
            ]
          },
          "metadata": {},
          "execution_count": 64
        },
        {
          "output_type": "display_data",
          "data": {
            "image/png": "[encoded data removed]",
            "text/plain": [
              "<Figure size 72x72 with 1 Axes>"
            ]
          },
          "metadata": {
            "needs_background": "light"
          }
        }
      ]
    },
    {
      "cell_type": "code",
      "metadata": {
        "colab": {
          "base_uri": "https://localhost:8080/",
          "height": 102
        },
        "id": "5dCMNKVV9tTc",
        "outputId": "d526be61-128a-4746-8339-6aa6d26cba28"
      },
      "source": [
        "show_image(apply_convolution(test_3, top_kernel_2))"
      ],
      "execution_count": 65,
      "outputs": [
        {
          "output_type": "execute_result",
          "data": {
            "text/plain": [
              "<matplotlib.axes._subplots.AxesSubplot at 0x7f1e31762750>"
            ]
          },
          "metadata": {},
          "execution_count": 65
        },
        {
          "output_type": "display_data",
          "data": {
            "image/png": "[encoded data removed]",
            "text/plain": [
              "<Figure size 72x72 with 1 Axes>"
            ]
          },
          "metadata": {
            "needs_background": "light"
          }
        }
      ]
    },
    {
      "cell_type": "markdown",
      "metadata": {
        "id": "c7SlYdid-e2j"
      },
      "source": [
        "## Apply multiple kernels at a time\n",
        "- Use pytorch functional to apply multiple convolutions with 4 different kernels"
      ]
    },
    {
      "cell_type": "code",
      "metadata": {
        "id": "SP2S7ic8-cWy"
      },
      "source": [
        "diag1_edge = tensor([[ 0,-1, 1],\n",
        "                     [-1, 1, 0],\n",
        "                     [ 1, 0, 0]]).float()\n",
        "diag2_edge = tensor([[ 1,-1, 0],\n",
        "                     [ 0, 1,-1],\n",
        "                     [ 0, 0, 1]]).float()\n",
        "\n",
        "cross_kernel = tensor([[1, 1, 1], \n",
        "                       [0, 0, 1], \n",
        "                       [-3, 0, 1]])\n"
      ],
      "execution_count": 95,
      "outputs": []
    },
    {
      "cell_type": "code",
      "metadata": {
        "colab": {
          "base_uri": "https://localhost:8080/"
        },
        "id": "syAFmw0l-tct",
        "outputId": "24bc18c4-b817-4964-dd33-4dc723fa315e"
      },
      "source": [
        "all_kernels = torch.stack([top_kernel_1, diag1_edge, diag2_edge, cross_kernel], axis=0)\n",
        "all_kernels.shape"
      ],
      "execution_count": 96,
      "outputs": [
        {
          "output_type": "execute_result",
          "data": {
            "text/plain": [
              "torch.Size([4, 3, 3])"
            ]
          },
          "metadata": {},
          "execution_count": 96
        }
      ]
    },
    {
      "cell_type": "code",
      "metadata": {
        "colab": {
          "base_uri": "https://localhost:8080/"
        },
        "id": "mvOKmX2k_X0H",
        "outputId": "00297761-dfb5-4911-d643-e042c9cbfca8"
      },
      "source": [
        "# load in a batch to test torch functional conv2d\n",
        "mnist = DataBlock((ImageBlock(cls=PILImageBW), CategoryBlock), \n",
        "                  get_items=get_image_files, \n",
        "                  splitter=GrandparentSplitter(),\n",
        "                  get_y=parent_label)\n",
        "\n",
        "dls = mnist.dataloaders(path)\n",
        "xb,yb = first(dls.train)\n",
        "xb.shape"
      ],
      "execution_count": 70,
      "outputs": [
        {
          "output_type": "execute_result",
          "data": {
            "text/plain": [
              "torch.Size([64, 1, 28, 28])"
            ]
          },
          "metadata": {},
          "execution_count": 70
        }
      ]
    },
    {
      "cell_type": "code",
      "metadata": {
        "colab": {
          "base_uri": "https://localhost:8080/"
        },
        "id": "HaVxMj_C_4aL",
        "outputId": "1dd8dd92-8999-4132-d94e-22b5f9789837"
      },
      "source": [
        "# reshape the weights. Only have a single input channel so (4, 1, 3, 3)\n",
        "all_kernels.unsqueeze_(axis=1)\n",
        "all_kernels.shape"
      ],
      "execution_count": 97,
      "outputs": [
        {
          "output_type": "execute_result",
          "data": {
            "text/plain": [
              "torch.Size([4, 1, 3, 3])"
            ]
          },
          "metadata": {},
          "execution_count": 97
        }
      ]
    },
    {
      "cell_type": "code",
      "metadata": {
        "id": "K1FTYfVQARew"
      },
      "source": [
        "all_kernels = all_kernels.cuda()"
      ],
      "execution_count": 98,
      "outputs": []
    },
    {
      "cell_type": "code",
      "metadata": {
        "colab": {
          "base_uri": "https://localhost:8080/"
        },
        "id": "OJsPktf0_p-A",
        "outputId": "d5903ceb-039b-47c3-82af-817522dbe1b3"
      },
      "source": [
        "res = F.conv2d(xb, all_kernels)\n",
        "res.shape"
      ],
      "execution_count": 99,
      "outputs": [
        {
          "output_type": "execute_result",
          "data": {
            "text/plain": [
              "torch.Size([64, 4, 26, 26])"
            ]
          },
          "metadata": {},
          "execution_count": 99
        }
      ]
    },
    {
      "cell_type": "code",
      "metadata": {
        "colab": {
          "base_uri": "https://localhost:8080/",
          "height": 289
        },
        "id": "M4VHdIxJAK4b",
        "outputId": "f1a0c9e1-dc0d-436b-fdd7-a09e9f7ae450"
      },
      "source": [
        "# look at the 4 output channels on the first image\n",
        "for i in range(4):\n",
        "  show_image(res[0, i])"
      ],
      "execution_count": 100,
      "outputs": [
        {
          "output_type": "display_data",
          "data": {
            "image/png": "[encoded data removed]",
            "text/plain": [
              "<Figure size 72x72 with 1 Axes>"
            ]
          },
          "metadata": {
            "needs_background": "light"
          }
        },
        {
          "output_type": "display_data",
          "data": {
            "image/png": "[encoded data removed]",
            "text/plain": [
              "<Figure size 72x72 with 1 Axes>"
            ]
          },
          "metadata": {
            "needs_background": "light"
          }
        },
        {
          "output_type": "display_data",
          "data": {
            "image/png": "[encoded data removed]",
            "text/plain": [
              "<Figure size 72x72 with 1 Axes>"
            ]
          },
          "metadata": {
            "needs_background": "light"
          }
        },
        {
          "output_type": "display_data",
          "data": {
            "image/png": "[encoded data removed]",
            "text/plain": [
              "<Figure size 72x72 with 1 Axes>"
            ]
          },
          "metadata": {
            "needs_background": "light"
          }
        }
      ]
    },
    {
      "cell_type": "code",
      "metadata": {
        "colab": {
          "base_uri": "https://localhost:8080/",
          "height": 289
        },
        "id": "DNYjb_jjAoL8",
        "outputId": "2b061a37-c27f-4da2-ca08-cf152bc00e01"
      },
      "source": [
        "for i in range(4):\n",
        "  show_image(res[2, i])"
      ],
      "execution_count": 101,
      "outputs": [
        {
          "output_type": "display_data",
          "data": {
            "image/png": "[encoded data removed]",
            "text/plain": [
              "<Figure size 72x72 with 1 Axes>"
            ]
          },
          "metadata": {
            "needs_background": "light"
          }
        },
        {
          "output_type": "display_data",
          "data": {
            "image/png": "[encoded data removed]",
            "text/plain": [
              "<Figure size 72x72 with 1 Axes>"
            ]
          },
          "metadata": {
            "needs_background": "light"
          }
        },
        {
          "output_type": "display_data",
          "data": {
            "image/png": "[encoded data removed]",
            "text/plain": [
              "<Figure size 72x72 with 1 Axes>"
            ]
          },
          "metadata": {
            "needs_background": "light"
          }
        },
        {
          "output_type": "display_data",
          "data": {
            "image/png": "[encoded data removed]",
            "text/plain": [
              "<Figure size 72x72 with 1 Axes>"
            ]
          },
          "metadata": {
            "needs_background": "light"
          }
        }
      ]
    },
    {
      "cell_type": "markdown",
      "metadata": {
        "id": "_ekz4FwzBiK6"
      },
      "source": [
        "## Create a basic CNN using pytorch"
      ]
    },
    {
      "cell_type": "code",
      "metadata": {
        "id": "d9uwm8uMAw4J"
      },
      "source": [
        ""
      ],
      "execution_count": null,
      "outputs": []
    }
  ]
}