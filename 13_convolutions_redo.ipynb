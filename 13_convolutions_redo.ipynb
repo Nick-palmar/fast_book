{
  "nbformat": 4,
  "nbformat_minor": 0,
  "metadata": {
    "colab": {
      "name": "13_convolutions_redo.ipynb",
      "provenance": []
    },
    "kernelspec": {
      "name": "python3",
      "display_name": "Python 3"
    },
    "language_info": {
      "name": "python"
    },
    "accelerator": "GPU"
  },
  "cells": [
    {
      "cell_type": "code",
      "metadata": {
        "colab": {
          "base_uri": "https://localhost:8080/"
        },
        "id": "YMqjppQwqClb",
        "outputId": "7585d6a2-f75e-48ae-bfee-8d51cfb17c39"
      },
      "source": [
        "#hide\n",
        "!pip install -Uqq fastbook\n",
        "import fastbook\n",
        "fastbook.setup_book()"
      ],
      "execution_count": 1,
      "outputs": [
        {
          "output_type": "stream",
          "name": "stdout",
          "text": [
            "\u001b[K     |████████████████████████████████| 720 kB 11.5 MB/s \n",
            "\u001b[K     |████████████████████████████████| 46 kB 4.0 MB/s \n",
            "\u001b[K     |████████████████████████████████| 189 kB 52.3 MB/s \n",
            "\u001b[K     |████████████████████████████████| 1.2 MB 38.7 MB/s \n",
            "\u001b[K     |████████████████████████████████| 56 kB 4.2 MB/s \n",
            "\u001b[K     |████████████████████████████████| 51 kB 297 kB/s \n",
            "\u001b[?25hMounted at /content/gdrive\n"
          ]
        }
      ]
    },
    {
      "cell_type": "code",
      "metadata": {
        "id": "5equMjhyqHNj"
      },
      "source": [
        "from fastai.vision.all import *\n",
        "from fastbook import *\n",
        "\n",
        "matplotlib.rc('image', cmap='Greys')"
      ],
      "execution_count": 2,
      "outputs": []
    },
    {
      "cell_type": "code",
      "metadata": {
        "colab": {
          "base_uri": "https://localhost:8080/",
          "height": 37
        },
        "id": "dM27EiHwqJIZ",
        "outputId": "324bdf6c-9e48-4b19-85ab-664dbb133b48"
      },
      "source": [
        "path = untar_data(URLs.MNIST_SAMPLE)"
      ],
      "execution_count": 3,
      "outputs": [
        {
          "output_type": "display_data",
          "data": {
            "text/html": [
              "\n",
              "    <div>\n",
              "        <style>\n",
              "            /* Turns off some styling */\n",
              "            progress {\n",
              "                /* gets rid of default border in Firefox and Opera. */\n",
              "                border: none;\n",
              "                /* Needs to be in here for Safari polyfill so background images work as expected. */\n",
              "                background-size: auto;\n",
              "            }\n",
              "            .progress-bar-interrupted, .progress-bar-interrupted::-webkit-progress-bar {\n",
              "                background: #F44336;\n",
              "            }\n",
              "        </style>\n",
              "      <progress value='3219456' class='' max='3214948' style='width:300px; height:20px; vertical-align: middle;'></progress>\n",
              "      100.14% [3219456/3214948 00:00<00:00]\n",
              "    </div>\n",
              "    "
            ],
            "text/plain": [
              "<IPython.core.display.HTML object>"
            ]
          },
          "metadata": {}
        }
      ]
    },
    {
      "cell_type": "code",
      "metadata": {
        "id": "e1IoJ5HuqP-7"
      },
      "source": [
        "Path.BASE_PATH = path"
      ],
      "execution_count": 4,
      "outputs": []
    },
    {
      "cell_type": "code",
      "metadata": {
        "colab": {
          "base_uri": "https://localhost:8080/"
        },
        "id": "N5bF11nWqRuN",
        "outputId": "ab452e56-789a-4aee-c18f-f2aa4d15a4bc"
      },
      "source": [
        "path.ls()"
      ],
      "execution_count": 5,
      "outputs": [
        {
          "output_type": "execute_result",
          "data": {
            "text/plain": [
              "(#3) [Path('valid'),Path('train'),Path('labels.csv')]"
            ]
          },
          "metadata": {},
          "execution_count": 5
        }
      ]
    },
    {
      "cell_type": "code",
      "metadata": {
        "colab": {
          "base_uri": "https://localhost:8080/"
        },
        "id": "J57BX5mDqjU5",
        "outputId": "a3fe956d-a03b-4044-9a8c-fa8f259224c0"
      },
      "source": [
        "(path/'train').ls()"
      ],
      "execution_count": 6,
      "outputs": [
        {
          "output_type": "execute_result",
          "data": {
            "text/plain": [
              "(#2) [Path('train/7'),Path('train/3')]"
            ]
          },
          "metadata": {},
          "execution_count": 6
        }
      ]
    },
    {
      "cell_type": "code",
      "metadata": {
        "colab": {
          "base_uri": "https://localhost:8080/"
        },
        "id": "qYXU6V3Uq5Ag",
        "outputId": "7c09107b-4f25-45bb-8214-df1bedf56198"
      },
      "source": [
        "(path/'valid').ls()"
      ],
      "execution_count": 7,
      "outputs": [
        {
          "output_type": "execute_result",
          "data": {
            "text/plain": [
              "(#2) [Path('valid/7'),Path('valid/3')]"
            ]
          },
          "metadata": {},
          "execution_count": 7
        }
      ]
    },
    {
      "cell_type": "code",
      "metadata": {
        "colab": {
          "base_uri": "https://localhost:8080/"
        },
        "id": "YrJuKgzDq7-y",
        "outputId": "51163460-02fe-4e86-c960-bddad340deef"
      },
      "source": [
        "(path/'train/3').ls()"
      ],
      "execution_count": 8,
      "outputs": [
        {
          "output_type": "execute_result",
          "data": {
            "text/plain": [
              "(#6131) [Path('train/3/10765.png'),Path('train/3/17010.png'),Path('train/3/35944.png'),Path('train/3/47979.png'),Path('train/3/29289.png'),Path('train/3/43702.png'),Path('train/3/42441.png'),Path('train/3/28406.png'),Path('train/3/21673.png'),Path('train/3/12218.png')...]"
            ]
          },
          "metadata": {},
          "execution_count": 8
        }
      ]
    },
    {
      "cell_type": "code",
      "metadata": {
        "colab": {
          "base_uri": "https://localhost:8080/",
          "height": 102
        },
        "id": "u2AwlW-Zrc0q",
        "outputId": "46a447f9-cb26-4d05-ebd8-53708ade7a9c"
      },
      "source": [
        "# take a 3 to test manually applying kernels as well as using functional pytorch to apply kernels\n",
        "test_3 = tensor(Image.open(path/'train/3/49020.png'))\n",
        "show_image(test_3), type(test_3)"
      ],
      "execution_count": 9,
      "outputs": [
        {
          "output_type": "execute_result",
          "data": {
            "text/plain": [
              "(<matplotlib.axes._subplots.AxesSubplot at 0x7f9d3ed5ee90>, torch.Tensor)"
            ]
          },
          "metadata": {},
          "execution_count": 9
        },
        {
          "output_type": "display_data",
          "data": {
            "image/png": "[encoded data removed]",
            "text/plain": [
              "<Figure size 72x72 with 1 Axes>"
            ]
          },
          "metadata": {
            "needs_background": "light"
          }
        }
      ]
    },
    {
      "cell_type": "markdown",
      "metadata": {
        "id": "eJM8OodHsq1D"
      },
      "source": [
        "## Apply a single kernel to an image and show the results\n",
        "- Use raw python to apply a single kernel for creating convolutions\n",
        "- Test 2 kernels on an image "
      ]
    },
    {
      "cell_type": "code",
      "metadata": {
        "colab": {
          "base_uri": "https://localhost:8080/"
        },
        "id": "emuj_pSqr3eB",
        "outputId": "abdfd63b-2ae1-4a7e-8ce7-a290332d0a62"
      },
      "source": [
        "top_kernel_1 = tensor([[-1, -1, -1], [0, 0, 0], [1, 1, 1]]).float()\n",
        "top_kernel_1"
      ],
      "execution_count": 10,
      "outputs": [
        {
          "output_type": "execute_result",
          "data": {
            "text/plain": [
              "tensor([[-1., -1., -1.],\n",
              "        [ 0.,  0.,  0.],\n",
              "        [ 1.,  1.,  1.]])"
            ]
          },
          "metadata": {},
          "execution_count": 10
        }
      ]
    },
    {
      "cell_type": "code",
      "metadata": {
        "colab": {
          "base_uri": "https://localhost:8080/"
        },
        "id": "oIQz49mGtHD_",
        "outputId": "8d9ddb45-178c-4f9a-d3b1-5379329a83ab"
      },
      "source": [
        "top_kernel_2 = tensor([[-1, -1, -1], [1, 1, 1], [0, 0, 0]]).float()\n",
        "top_kernel_2"
      ],
      "execution_count": 11,
      "outputs": [
        {
          "output_type": "execute_result",
          "data": {
            "text/plain": [
              "tensor([[-1., -1., -1.],\n",
              "        [ 1.,  1.,  1.],\n",
              "        [ 0.,  0.,  0.]])"
            ]
          },
          "metadata": {},
          "execution_count": 11
        }
      ]
    },
    {
      "cell_type": "code",
      "metadata": {
        "id": "ut2gOqFqtR-u"
      },
      "source": [
        "def apply_kernel(image_tens, row, col, kernel):\n",
        "  \"\"\"\n",
        "  Apply a kernel to a certain location of an image tensor\n",
        "  \"\"\"\n",
        "  ks = kernel.shape[0]\n",
        "  half_ks = ks//2\n",
        "  # use row, col as the centre of the image to apply the kernel\n",
        "  kernel_comp = (image_tens[row-half_ks:row+half_ks+1, col-half_ks:col+half_ks+1] * kernel).sum()\n",
        "  return kernel_comp"
      ],
      "execution_count": 12,
      "outputs": []
    },
    {
      "cell_type": "code",
      "metadata": {
        "colab": {
          "base_uri": "https://localhost:8080/"
        },
        "id": "Sn3z30PUuVsg",
        "outputId": "a33d3dbe-d862-4b89-f563-1a5f3fcacd41"
      },
      "source": [
        "# test the apply kernel function on the top left part of the image\n",
        "apply_kernel(test_3, 1, 1, top_kernel_1)"
      ],
      "execution_count": 13,
      "outputs": [
        {
          "output_type": "execute_result",
          "data": {
            "text/plain": [
              "tensor(0.)"
            ]
          },
          "metadata": {},
          "execution_count": 13
        }
      ]
    },
    {
      "cell_type": "code",
      "metadata": {
        "colab": {
          "base_uri": "https://localhost:8080/"
        },
        "id": "dX3LBLZEu0ca",
        "outputId": "06a4de05-a8e7-4d96-ba19-19a2843de1a6"
      },
      "source": [
        "test_3.shape"
      ],
      "execution_count": 14,
      "outputs": [
        {
          "output_type": "execute_result",
          "data": {
            "text/plain": [
              "torch.Size([28, 28])"
            ]
          },
          "metadata": {},
          "execution_count": 14
        }
      ]
    },
    {
      "cell_type": "code",
      "metadata": {
        "colab": {
          "base_uri": "https://localhost:8080/"
        },
        "id": "V4p0nxfpueB4",
        "outputId": "9b7a2bd6-9e43-4d09-9378-d8545a5c6874"
      },
      "source": [
        "apply_kernel(test_3, 15, 15, top_kernel_1)"
      ],
      "execution_count": 15,
      "outputs": [
        {
          "output_type": "execute_result",
          "data": {
            "text/plain": [
              "tensor(-287.)"
            ]
          },
          "metadata": {},
          "execution_count": 15
        }
      ]
    },
    {
      "cell_type": "code",
      "metadata": {
        "colab": {
          "base_uri": "https://localhost:8080/"
        },
        "id": "eVT_Bkdxu3g1",
        "outputId": "de585572-c80d-47a0-a717-27e42c5bcc7f"
      },
      "source": [
        "apply_kernel(test_3, 3, 15, top_kernel_1)"
      ],
      "execution_count": 16,
      "outputs": [
        {
          "output_type": "execute_result",
          "data": {
            "text/plain": [
              "tensor(438.)"
            ]
          },
          "metadata": {},
          "execution_count": 16
        }
      ]
    },
    {
      "cell_type": "code",
      "metadata": {
        "colab": {
          "base_uri": "https://localhost:8080/"
        },
        "id": "QnnBy0kQvJr-",
        "outputId": "f35535f7-c6d1-4d9b-a0af-0c00c894c699"
      },
      "source": [
        "apply_kernel(test_3, 4, 15, top_kernel_1)"
      ],
      "execution_count": 17,
      "outputs": [
        {
          "output_type": "execute_result",
          "data": {
            "text/plain": [
              "tensor(756.)"
            ]
          },
          "metadata": {},
          "execution_count": 17
        }
      ]
    },
    {
      "cell_type": "code",
      "metadata": {
        "colab": {
          "base_uri": "https://localhost:8080/"
        },
        "id": "L5U1ArDEu6np",
        "outputId": "359028ae-3d76-4c42-d816-a89a6ee4e588"
      },
      "source": [
        "apply_kernel(test_3, 5, 15, top_kernel_2)"
      ],
      "execution_count": 18,
      "outputs": [
        {
          "output_type": "execute_result",
          "data": {
            "text/plain": [
              "tensor(318.)"
            ]
          },
          "metadata": {},
          "execution_count": 18
        }
      ]
    },
    {
      "cell_type": "code",
      "metadata": {
        "id": "BDCF2TcyvD0o"
      },
      "source": [
        "def apply_convolution(image_tens, kernel):\n",
        "  \"\"\"\n",
        "  Apply a kernel to the entire grid space\n",
        "  \"\"\"\n",
        "  half_ks = kernel.shape[0]//2\n",
        "  min_dim = half_ks\n",
        "  max_dim = image_tens.shape[0] - half_ks\n",
        "\n",
        "  conv = tensor([[apply_kernel(test_3, row, col, kernel) for col in range(min_dim, max_dim)] for row in range(min_dim, max_dim)])\n",
        "  return conv\n",
        "  "
      ],
      "execution_count": 19,
      "outputs": []
    },
    {
      "cell_type": "code",
      "metadata": {
        "colab": {
          "base_uri": "https://localhost:8080/",
          "height": 102
        },
        "id": "AZvGzRx59Ae0",
        "outputId": "b62fdc95-edc3-4b0c-f16c-0b20f13d7721"
      },
      "source": [
        "show_image(apply_convolution(test_3, top_kernel_1))"
      ],
      "execution_count": 20,
      "outputs": [
        {
          "output_type": "execute_result",
          "data": {
            "text/plain": [
              "<matplotlib.axes._subplots.AxesSubplot at 0x7f9d3e92ef10>"
            ]
          },
          "metadata": {},
          "execution_count": 20
        },
        {
          "output_type": "display_data",
          "data": {
            "image/png": "[encoded data removed]",
            "text/plain": [
              "<Figure size 72x72 with 1 Axes>"
            ]
          },
          "metadata": {
            "needs_background": "light"
          }
        }
      ]
    },
    {
      "cell_type": "code",
      "metadata": {
        "colab": {
          "base_uri": "https://localhost:8080/",
          "height": 102
        },
        "id": "5dCMNKVV9tTc",
        "outputId": "614fc918-f73a-40c2-fff7-656051c41cb6"
      },
      "source": [
        "show_image(apply_convolution(test_3, top_kernel_2))"
      ],
      "execution_count": 21,
      "outputs": [
        {
          "output_type": "execute_result",
          "data": {
            "text/plain": [
              "<matplotlib.axes._subplots.AxesSubplot at 0x7f9d3e90f250>"
            ]
          },
          "metadata": {},
          "execution_count": 21
        },
        {
          "output_type": "display_data",
          "data": {
            "image/png": "[encoded data removed]",
            "text/plain": [
              "<Figure size 72x72 with 1 Axes>"
            ]
          },
          "metadata": {
            "needs_background": "light"
          }
        }
      ]
    },
    {
      "cell_type": "markdown",
      "metadata": {
        "id": "c7SlYdid-e2j"
      },
      "source": [
        "## Apply multiple kernels at a time\n",
        "- Use pytorch functional to apply multiple convolutions with 4 different kernels"
      ]
    },
    {
      "cell_type": "code",
      "metadata": {
        "id": "SP2S7ic8-cWy"
      },
      "source": [
        "diag1_edge = tensor([[ 0,-1, 1],\n",
        "                     [-1, 1, 0],\n",
        "                     [ 1, 0, 0]]).float()\n",
        "diag2_edge = tensor([[ 1,-1, 0],\n",
        "                     [ 0, 1,-1],\n",
        "                     [ 0, 0, 1]]).float()\n",
        "\n",
        "cross_kernel = tensor([[1, 1, 1], \n",
        "                       [0, 0, 1], \n",
        "                       [-3, 0, 1]])\n"
      ],
      "execution_count": 22,
      "outputs": []
    },
    {
      "cell_type": "code",
      "metadata": {
        "colab": {
          "base_uri": "https://localhost:8080/"
        },
        "id": "syAFmw0l-tct",
        "outputId": "b17be704-7929-4c87-f11b-c9dae2d66128"
      },
      "source": [
        "all_kernels = torch.stack([top_kernel_1, diag1_edge, diag2_edge, cross_kernel], axis=0)\n",
        "all_kernels.shape"
      ],
      "execution_count": 23,
      "outputs": [
        {
          "output_type": "execute_result",
          "data": {
            "text/plain": [
              "torch.Size([4, 3, 3])"
            ]
          },
          "metadata": {},
          "execution_count": 23
        }
      ]
    },
    {
      "cell_type": "code",
      "metadata": {
        "colab": {
          "base_uri": "https://localhost:8080/"
        },
        "id": "mvOKmX2k_X0H",
        "outputId": "613cdc2a-103d-462d-ea7c-28ebd1a085dc"
      },
      "source": [
        "# load in a batch to test torch functional conv2d\n",
        "mnist = DataBlock((ImageBlock(cls=PILImageBW), CategoryBlock), \n",
        "                  get_items=get_image_files, \n",
        "                  splitter=GrandparentSplitter(),\n",
        "                  get_y=parent_label)\n",
        "\n",
        "dls = mnist.dataloaders(path)\n",
        "xb,yb = first(dls.train)\n",
        "xb.shape"
      ],
      "execution_count": 24,
      "outputs": [
        {
          "output_type": "execute_result",
          "data": {
            "text/plain": [
              "torch.Size([64, 1, 28, 28])"
            ]
          },
          "metadata": {},
          "execution_count": 24
        }
      ]
    },
    {
      "cell_type": "code",
      "metadata": {
        "colab": {
          "base_uri": "https://localhost:8080/"
        },
        "id": "HaVxMj_C_4aL",
        "outputId": "4b24fb70-e95d-47f7-aa85-37695d0ba01f"
      },
      "source": [
        "# reshape the weights. Only have a single input channel so (4, 1, 3, 3)\n",
        "all_kernels.unsqueeze_(axis=1)\n",
        "all_kernels.shape"
      ],
      "execution_count": 25,
      "outputs": [
        {
          "output_type": "execute_result",
          "data": {
            "text/plain": [
              "torch.Size([4, 1, 3, 3])"
            ]
          },
          "metadata": {},
          "execution_count": 25
        }
      ]
    },
    {
      "cell_type": "code",
      "metadata": {
        "id": "K1FTYfVQARew"
      },
      "source": [
        "all_kernels = all_kernels.cuda()"
      ],
      "execution_count": 26,
      "outputs": []
    },
    {
      "cell_type": "code",
      "metadata": {
        "colab": {
          "base_uri": "https://localhost:8080/"
        },
        "id": "OJsPktf0_p-A",
        "outputId": "059ecb1b-ee76-43af-b967-7dd1a405516c"
      },
      "source": [
        "res = F.conv2d(xb, all_kernels)\n",
        "res.shape"
      ],
      "execution_count": 27,
      "outputs": [
        {
          "output_type": "execute_result",
          "data": {
            "text/plain": [
              "torch.Size([64, 4, 26, 26])"
            ]
          },
          "metadata": {},
          "execution_count": 27
        }
      ]
    },
    {
      "cell_type": "code",
      "metadata": {
        "colab": {
          "base_uri": "https://localhost:8080/",
          "height": 289
        },
        "id": "M4VHdIxJAK4b",
        "outputId": "0c3dd84b-e37f-4aa2-994b-1649ae9020f7"
      },
      "source": [
        "# look at the 4 output channels on the first image\n",
        "for i in range(4):\n",
        "  show_image(res[0, i])"
      ],
      "execution_count": 28,
      "outputs": [
        {
          "output_type": "display_data",
          "data": {
            "image/png": "[encoded data removed]",
            "text/plain": [
              "<Figure size 72x72 with 1 Axes>"
            ]
          },
          "metadata": {
            "needs_background": "light"
          }
        },
        {
          "output_type": "display_data",
          "data": {
            "image/png": "[encoded data removed]",
            "text/plain": [
              "<Figure size 72x72 with 1 Axes>"
            ]
          },
          "metadata": {
            "needs_background": "light"
          }
        },
        {
          "output_type": "display_data",
          "data": {
            "image/png": "[encoded data removed]",
            "text/plain": [
              "<Figure size 72x72 with 1 Axes>"
            ]
          },
          "metadata": {
            "needs_background": "light"
          }
        },
        {
          "output_type": "display_data",
          "data": {
            "image/png": "[encoded data removed]",
            "text/plain": [
              "<Figure size 72x72 with 1 Axes>"
            ]
          },
          "metadata": {
            "needs_background": "light"
          }
        }
      ]
    },
    {
      "cell_type": "code",
      "metadata": {
        "colab": {
          "base_uri": "https://localhost:8080/",
          "height": 289
        },
        "id": "DNYjb_jjAoL8",
        "outputId": "67ebf4e7-cdac-46e5-93c5-16533b5b92d3"
      },
      "source": [
        "for i in range(4):\n",
        "  show_image(res[2, i])"
      ],
      "execution_count": 29,
      "outputs": [
        {
          "output_type": "display_data",
          "data": {
            "image/png": "[encoded data removed]",
            "text/plain": [
              "<Figure size 72x72 with 1 Axes>"
            ]
          },
          "metadata": {
            "needs_background": "light"
          }
        },
        {
          "output_type": "display_data",
          "data": {
            "image/png": "[encoded data removed]",
            "text/plain": [
              "<Figure size 72x72 with 1 Axes>"
            ]
          },
          "metadata": {
            "needs_background": "light"
          }
        },
        {
          "output_type": "display_data",
          "data": {
            "image/png": "[encoded data removed]",
            "text/plain": [
              "<Figure size 72x72 with 1 Axes>"
            ]
          },
          "metadata": {
            "needs_background": "light"
          }
        },
        {
          "output_type": "display_data",
          "data": {
            "image/png": "[encoded data removed]",
            "text/plain": [
              "<Figure size 72x72 with 1 Axes>"
            ]
          },
          "metadata": {
            "needs_background": "light"
          }
        }
      ]
    },
    {
      "cell_type": "markdown",
      "metadata": {
        "id": "_ekz4FwzBiK6"
      },
      "source": [
        "## Create a basic CNN using pytorch"
      ]
    },
    {
      "cell_type": "code",
      "metadata": {
        "id": "d9uwm8uMAw4J"
      },
      "source": [
        "# create a convolutional function to return a sequential layer given number of input and out channels desired\n",
        "\n",
        "def stride_2_conv(in_ch, out_ch, ks=3, output=False):\n",
        "  \"\"\"\n",
        "  Apply a stride 2 conv given a number of input channels and output channels\n",
        "  \"\"\"\n",
        "  conv_layer = nn.Conv2d(in_ch, out_ch, ks, stride=2, padding=ks//2)\n",
        "  if not output:\n",
        "    conv_layer = nn.Sequential(\n",
        "        conv_layer,\n",
        "        nn.ReLU()\n",
        "    )\n",
        "  \n",
        "  return conv_layer"
      ],
      "execution_count": 34,
      "outputs": []
    },
    {
      "cell_type": "code",
      "metadata": {
        "id": "Y_Jxo6DYurBC"
      },
      "source": [
        "# basic cnn as implemented in the book\n",
        "basic_cnn = nn.Sequential(\n",
        "    stride_2_conv(1, 4), # 14x14\n",
        "    stride_2_conv(4, 8), # 7x7\n",
        "    stride_2_conv(8, 16), # 4x4\n",
        "    stride_2_conv(16, 32), # 2x2\n",
        "    stride_2_conv(32, 2, output=True), # 1x1\n",
        "    nn.Flatten()\n",
        ")"
      ],
      "execution_count": 50,
      "outputs": []
    },
    {
      "cell_type": "code",
      "metadata": {
        "id": "KW1CgkQRu-fS"
      },
      "source": [
        "basic_cnn_2 = nn.Sequential(\n",
        "    stride_2_conv(1, 2), # 14x14,\n",
        "    stride_2_conv(2, 4), # 7x7\n",
        "    stride_2_conv(4, 8), # 4x4\n",
        "    stride_2_conv(8, 16), # 2x2\n",
        "    stride_2_conv(16, 2, output=True), # 1x1\n",
        "    nn.Flatten()\n",
        ")"
      ],
      "execution_count": 51,
      "outputs": []
    },
    {
      "cell_type": "code",
      "metadata": {
        "id": "ei7TFazqmG_c"
      },
      "source": [
        "# assume inputs are of shape bs x in_ch x im_wid x im_height\n",
        "\n",
        "simple_cnn = nn.Sequential(\n",
        "    stride_2_conv(1, 4), # 14x14\n",
        "    # avoid going from 9 (ks=3) -> 8 activaitons by using ks=5\n",
        "    stride_2_conv(4, 8, ks=5), # 7x7\n",
        "    stride_2_conv(8, 16), # 4x4\n",
        "    stride_2_conv(16, 32), # 2x2\n",
        "    stride_2_conv(32, 2, output=True), # 1x1\n",
        "    nn.Flatten()\n",
        ")"
      ],
      "execution_count": 35,
      "outputs": []
    },
    {
      "cell_type": "code",
      "metadata": {
        "id": "x3v4gNC-rG6A"
      },
      "source": [
        "# try keeping activation size the same as we go through the network\n",
        "# computation increases by a factor of 8 moving from layer to layer in the network \n",
        "experimental_cnn = nn.Sequential(\n",
        "    # keep activation size the same by going from 1->4 channels since we reduce the activation image size by 4\n",
        "    stride_2_conv(1, 4), # 14x14\n",
        "    # this next layer is not problematic since we are going from 9 pixels to 16 activations (rather than 9 -> 8 as in previous network)\n",
        "    stride_2_conv(4, 16), # 7x7\n",
        "    stride_2_conv(16, 64), # 4x4\n",
        "    stride_2_conv(64, 256), # 2x2\n",
        "    stride_2_conv(256, 2, output=True), # 1x1\n",
        "    nn.Flatten()\n",
        ")"
      ],
      "execution_count": 36,
      "outputs": []
    },
    {
      "cell_type": "code",
      "metadata": {
        "id": "_UXnzznptgGZ"
      },
      "source": [
        "# try keeping computation equivalent throughtout the network\n",
        "\n",
        "experimental_cnn_2 = nn.Sequential(\n",
        "    # keep activation size the same by going from 1->4 channels since we reduce the activation image size by 4\n",
        "    stride_2_conv(1, 4), # 14x14\n",
        "    # this next layer is not problematic since we are going from 9 pixels to 16 activations (rather than 9 -> 8 as in previous network)\n",
        "    # note that computation has now increased by a factor of 16 but will remain constant after this point\n",
        "    stride_2_conv(4, 16), # 7x7\n",
        "    stride_2_conv(16, 32), # 4x4\n",
        "    stride_2_conv(32, 64), # 2x2\n",
        "    stride_2_conv(64, 2, output=True), # 1x1\n",
        "    nn.Flatten()\n",
        ")"
      ],
      "execution_count": 43,
      "outputs": []
    },
    {
      "cell_type": "code",
      "metadata": {
        "colab": {
          "base_uri": "https://localhost:8080/",
          "height": 300
        },
        "id": "0RwNNp0zsTW6",
        "outputId": "9d55824a-50a9-4d1b-99d0-9a08540b2cb0"
      },
      "source": [
        "# train the simple cnn on 3s vs 7s\n",
        "learn = Learner(dls, simple_cnn, loss_func=CrossEntropyLossFlat(), metrics=[accuracy])\n",
        "learn.lr_find()"
      ],
      "execution_count": 38,
      "outputs": [
        {
          "output_type": "display_data",
          "data": {
            "text/html": [
              ""
            ],
            "text/plain": [
              "<IPython.core.display.HTML object>"
            ]
          },
          "metadata": {}
        },
        {
          "output_type": "execute_result",
          "data": {
            "text/plain": [
              "SuggestedLRs(valley=0.002511886414140463)"
            ]
          },
          "metadata": {},
          "execution_count": 38
        },
        {
          "output_type": "display_data",
          "data": {
            "image/png": "[encoded data removed]",
            "text/plain": [
              "<Figure size 432x288 with 1 Axes>"
            ]
          },
          "metadata": {
            "needs_background": "light"
          }
        }
      ]
    },
    {
      "cell_type": "code",
      "metadata": {
        "colab": {
          "base_uri": "https://localhost:8080/",
          "height": 111
        },
        "id": "7iXLTx-VswlB",
        "outputId": "76558bfd-2626-4180-d0cc-91a0e8e79be5"
      },
      "source": [
        "learn.fit_one_cycle(2, 2e-3)"
      ],
      "execution_count": 39,
      "outputs": [
        {
          "output_type": "display_data",
          "data": {
            "text/html": [
              "<table border=\"1\" class=\"dataframe\">\n",
              "  <thead>\n",
              "    <tr style=\"text-align: left;\">\n",
              "      <th>epoch</th>\n",
              "      <th>train_loss</th>\n",
              "      <th>valid_loss</th>\n",
              "      <th>accuracy</th>\n",
              "      <th>time</th>\n",
              "    </tr>\n",
              "  </thead>\n",
              "  <tbody>\n",
              "    <tr>\n",
              "      <td>0</td>\n",
              "      <td>0.392312</td>\n",
              "      <td>0.384842</td>\n",
              "      <td>0.974975</td>\n",
              "      <td>00:16</td>\n",
              "    </tr>\n",
              "    <tr>\n",
              "      <td>1</td>\n",
              "      <td>0.369007</td>\n",
              "      <td>0.369899</td>\n",
              "      <td>0.985770</td>\n",
              "      <td>00:16</td>\n",
              "    </tr>\n",
              "  </tbody>\n",
              "</table>"
            ],
            "text/plain": [
              "<IPython.core.display.HTML object>"
            ]
          },
          "metadata": {}
        }
      ]
    },
    {
      "cell_type": "code",
      "metadata": {
        "colab": {
          "base_uri": "https://localhost:8080/",
          "height": 300
        },
        "id": "ssvM_PBzs5VI",
        "outputId": "32ef8ceb-9827-485c-8e9f-0028f73e0b08"
      },
      "source": [
        "# train 3s vs 7s on the expiermental cnn\n",
        "learn_2 = Learner(dls, experimental_cnn, loss_func=CrossEntropyLossFlat(), metrics=[accuracy])\n",
        "learn_2.lr_find()"
      ],
      "execution_count": 41,
      "outputs": [
        {
          "output_type": "display_data",
          "data": {
            "text/html": [
              ""
            ],
            "text/plain": [
              "<IPython.core.display.HTML object>"
            ]
          },
          "metadata": {}
        },
        {
          "output_type": "execute_result",
          "data": {
            "text/plain": [
              "SuggestedLRs(valley=0.0006918309954926372)"
            ]
          },
          "metadata": {},
          "execution_count": 41
        },
        {
          "output_type": "display_data",
          "data": {
            "image/png": "[encoded data removed]",
            "text/plain": [
              "<Figure size 432x288 with 1 Axes>"
            ]
          },
          "metadata": {
            "needs_background": "light"
          }
        }
      ]
    },
    {
      "cell_type": "code",
      "metadata": {
        "colab": {
          "base_uri": "https://localhost:8080/",
          "height": 142
        },
        "id": "IoVGzr_OtEzP",
        "outputId": "a18e4f91-4932-423e-fa62-da7a561b3aa0"
      },
      "source": [
        "learn_2.fit_one_cycle(3, 4e-4)"
      ],
      "execution_count": 42,
      "outputs": [
        {
          "output_type": "display_data",
          "data": {
            "text/html": [
              "<table border=\"1\" class=\"dataframe\">\n",
              "  <thead>\n",
              "    <tr style=\"text-align: left;\">\n",
              "      <th>epoch</th>\n",
              "      <th>train_loss</th>\n",
              "      <th>valid_loss</th>\n",
              "      <th>accuracy</th>\n",
              "      <th>time</th>\n",
              "    </tr>\n",
              "  </thead>\n",
              "  <tbody>\n",
              "    <tr>\n",
              "      <td>0</td>\n",
              "      <td>0.431560</td>\n",
              "      <td>0.389885</td>\n",
              "      <td>0.495584</td>\n",
              "      <td>00:16</td>\n",
              "    </tr>\n",
              "    <tr>\n",
              "      <td>1</td>\n",
              "      <td>0.374758</td>\n",
              "      <td>0.375054</td>\n",
              "      <td>0.495584</td>\n",
              "      <td>00:16</td>\n",
              "    </tr>\n",
              "    <tr>\n",
              "      <td>2</td>\n",
              "      <td>0.368609</td>\n",
              "      <td>0.372639</td>\n",
              "      <td>0.495584</td>\n",
              "      <td>00:16</td>\n",
              "    </tr>\n",
              "  </tbody>\n",
              "</table>"
            ],
            "text/plain": [
              "<IPython.core.display.HTML object>"
            ]
          },
          "metadata": {}
        }
      ]
    },
    {
      "cell_type": "code",
      "metadata": {
        "colab": {
          "base_uri": "https://localhost:8080/",
          "height": 300
        },
        "id": "aowNWKaitOO1",
        "outputId": "643fea72-1c09-477a-a99f-62015602198c"
      },
      "source": [
        "learn_3 = Learner(dls, experimental_cnn_2, loss_func=CrossEntropyLossFlat(), metrics=[accuracy])\n",
        "learn_3.lr_find()"
      ],
      "execution_count": 44,
      "outputs": [
        {
          "output_type": "display_data",
          "data": {
            "text/html": [
              ""
            ],
            "text/plain": [
              "<IPython.core.display.HTML object>"
            ]
          },
          "metadata": {}
        },
        {
          "output_type": "execute_result",
          "data": {
            "text/plain": [
              "SuggestedLRs(valley=0.002511886414140463)"
            ]
          },
          "metadata": {},
          "execution_count": 44
        },
        {
          "output_type": "display_data",
          "data": {
            "image/png": "[encoded data removed]",
            "text/plain": [
              "<Figure size 432x288 with 1 Axes>"
            ]
          },
          "metadata": {
            "needs_background": "light"
          }
        }
      ]
    },
    {
      "cell_type": "code",
      "metadata": {
        "colab": {
          "base_uri": "https://localhost:8080/",
          "height": 142
        },
        "id": "W67Zhxf1uCDK",
        "outputId": "7fc78a64-995b-461f-ae5c-a2c12573a730"
      },
      "source": [
        "learn_3.fit_one_cycle(3, 2e-3)"
      ],
      "execution_count": 45,
      "outputs": [
        {
          "output_type": "display_data",
          "data": {
            "text/html": [
              "<table border=\"1\" class=\"dataframe\">\n",
              "  <thead>\n",
              "    <tr style=\"text-align: left;\">\n",
              "      <th>epoch</th>\n",
              "      <th>train_loss</th>\n",
              "      <th>valid_loss</th>\n",
              "      <th>accuracy</th>\n",
              "      <th>time</th>\n",
              "    </tr>\n",
              "  </thead>\n",
              "  <tbody>\n",
              "    <tr>\n",
              "      <td>0</td>\n",
              "      <td>0.111247</td>\n",
              "      <td>0.062303</td>\n",
              "      <td>0.977920</td>\n",
              "      <td>00:17</td>\n",
              "    </tr>\n",
              "    <tr>\n",
              "      <td>1</td>\n",
              "      <td>0.041180</td>\n",
              "      <td>0.052477</td>\n",
              "      <td>0.982336</td>\n",
              "      <td>00:17</td>\n",
              "    </tr>\n",
              "    <tr>\n",
              "      <td>2</td>\n",
              "      <td>0.029283</td>\n",
              "      <td>0.040180</td>\n",
              "      <td>0.986752</td>\n",
              "      <td>00:17</td>\n",
              "    </tr>\n",
              "  </tbody>\n",
              "</table>"
            ],
            "text/plain": [
              "<IPython.core.display.HTML object>"
            ]
          },
          "metadata": {}
        }
      ]
    },
    {
      "cell_type": "code",
      "metadata": {
        "id": "tKAOoRh5vK-X"
      },
      "source": [
        "learn_basic = Learner(dls, basic_cnn, loss_func=CrossEntropyLossFlat(), metrics=[accuracy])\n",
        "learn_basic_2 = Learner(dls, basic_cnn_2, loss_func=CrossEntropyLossFlat(), metrics=[accuracy])"
      ],
      "execution_count": 52,
      "outputs": []
    },
    {
      "cell_type": "code",
      "metadata": {
        "colab": {
          "base_uri": "https://localhost:8080/",
          "height": 142
        },
        "id": "cmrY_E7VvUFF",
        "outputId": "66fe8485-8ba7-4ac4-df00-bdb6cbf1690e"
      },
      "source": [
        "learn_basic.fit_one_cycle(3, 1e-3)"
      ],
      "execution_count": 53,
      "outputs": [
        {
          "output_type": "display_data",
          "data": {
            "text/html": [
              "<table border=\"1\" class=\"dataframe\">\n",
              "  <thead>\n",
              "    <tr style=\"text-align: left;\">\n",
              "      <th>epoch</th>\n",
              "      <th>train_loss</th>\n",
              "      <th>valid_loss</th>\n",
              "      <th>accuracy</th>\n",
              "      <th>time</th>\n",
              "    </tr>\n",
              "  </thead>\n",
              "  <tbody>\n",
              "    <tr>\n",
              "      <td>0</td>\n",
              "      <td>0.177679</td>\n",
              "      <td>0.096225</td>\n",
              "      <td>0.965162</td>\n",
              "      <td>00:16</td>\n",
              "    </tr>\n",
              "    <tr>\n",
              "      <td>1</td>\n",
              "      <td>0.054708</td>\n",
              "      <td>0.066250</td>\n",
              "      <td>0.977920</td>\n",
              "      <td>00:16</td>\n",
              "    </tr>\n",
              "    <tr>\n",
              "      <td>2</td>\n",
              "      <td>0.046893</td>\n",
              "      <td>0.064186</td>\n",
              "      <td>0.980864</td>\n",
              "      <td>00:16</td>\n",
              "    </tr>\n",
              "  </tbody>\n",
              "</table>"
            ],
            "text/plain": [
              "<IPython.core.display.HTML object>"
            ]
          },
          "metadata": {}
        }
      ]
    },
    {
      "cell_type": "code",
      "metadata": {
        "colab": {
          "base_uri": "https://localhost:8080/",
          "height": 142
        },
        "id": "Twj8amDlvYlL",
        "outputId": "7b4f1b1a-ccb7-49af-d38f-47e0e4bd7c35"
      },
      "source": [
        "learn_basic_2.fit_one_cycle(3, 1e-3)"
      ],
      "execution_count": 54,
      "outputs": [
        {
          "output_type": "display_data",
          "data": {
            "text/html": [
              "<table border=\"1\" class=\"dataframe\">\n",
              "  <thead>\n",
              "    <tr style=\"text-align: left;\">\n",
              "      <th>epoch</th>\n",
              "      <th>train_loss</th>\n",
              "      <th>valid_loss</th>\n",
              "      <th>accuracy</th>\n",
              "      <th>time</th>\n",
              "    </tr>\n",
              "  </thead>\n",
              "  <tbody>\n",
              "    <tr>\n",
              "      <td>0</td>\n",
              "      <td>0.274704</td>\n",
              "      <td>0.117052</td>\n",
              "      <td>0.955839</td>\n",
              "      <td>00:16</td>\n",
              "    </tr>\n",
              "    <tr>\n",
              "      <td>1</td>\n",
              "      <td>0.082758</td>\n",
              "      <td>0.086360</td>\n",
              "      <td>0.969087</td>\n",
              "      <td>00:16</td>\n",
              "    </tr>\n",
              "    <tr>\n",
              "      <td>2</td>\n",
              "      <td>0.065606</td>\n",
              "      <td>0.075761</td>\n",
              "      <td>0.972031</td>\n",
              "      <td>00:16</td>\n",
              "    </tr>\n",
              "  </tbody>\n",
              "</table>"
            ],
            "text/plain": [
              "<IPython.core.display.HTML object>"
            ]
          },
          "metadata": {}
        }
      ]
    },
    {
      "cell_type": "markdown",
      "metadata": {
        "id": "OcQJoJ-OuZnz"
      },
      "source": [
        "## Findings from simple mnist experimentation\n",
        "- In the CNN, keeping the amount of computation the same is more relevant than keeping the number of activations between layers the same (number of activations can drop off if computation remains the same)"
      ]
    },
    {
      "cell_type": "markdown",
      "metadata": {
        "id": "Afmz2xNBuI5U"
      },
      "source": [
        "## Full MNIST\n",
        "- Load in the full mnist dataset with digits ranging from 0 to 9\n",
        "- "
      ]
    },
    {
      "cell_type": "code",
      "metadata": {
        "id": "qc-ziHY7uHqC"
      },
      "source": [
        ""
      ],
      "execution_count": null,
      "outputs": []
    }
  ]
}