{
  "nbformat": 4,
  "nbformat_minor": 0,
  "metadata": {
    "colab": {
      "name": "04_mnist_full.ipynb",
      "provenance": []
    },
    "kernelspec": {
      "name": "python3",
      "display_name": "Python 3"
    },
    "language_info": {
      "name": "python"
    },
    "accelerator": "GPU"
  },
  "cells": [
    {
      "cell_type": "markdown",
      "metadata": {
        "id": "Sol_3Uxp1ugG"
      },
      "source": [
        "## Predicting hand written digits between 0 and 9 using the full MNIST Dataset"
      ]
    },
    {
      "cell_type": "code",
      "metadata": {
        "id": "5kDM3Y_I1zQw",
        "colab": {
          "base_uri": "https://localhost:8080/"
        },
        "outputId": "0cdc0296-db3f-40e1-dd11-5745ec218b43"
      },
      "source": [
        "!pip install -Uqq fastbook\n",
        "import fastbook\n",
        "fastbook.setup_book()"
      ],
      "execution_count": 1,
      "outputs": [
        {
          "output_type": "stream",
          "text": [
            "\u001b[K     |████████████████████████████████| 720 kB 9.1 MB/s \n",
            "\u001b[K     |████████████████████████████████| 186 kB 45.5 MB/s \n",
            "\u001b[K     |████████████████████████████████| 1.2 MB 53.5 MB/s \n",
            "\u001b[K     |████████████████████████████████| 46 kB 3.5 MB/s \n",
            "\u001b[K     |████████████████████████████████| 56 kB 2.4 MB/s \n",
            "\u001b[K     |████████████████████████████████| 51 kB 289 kB/s \n",
            "\u001b[?25hMounted at /content/gdrive\n"
          ],
          "name": "stdout"
        }
      ]
    },
    {
      "cell_type": "code",
      "metadata": {
        "id": "V4E_CTM_12XB"
      },
      "source": [
        "from fastai.vision.all import *\n",
        "from fastbook import *\n",
        "\n",
        "matplotlib.rc('image', cmap='Greys')"
      ],
      "execution_count": 2,
      "outputs": []
    },
    {
      "cell_type": "code",
      "metadata": {
        "colab": {
          "base_uri": "https://localhost:8080/",
          "height": 71
        },
        "id": "JsgHYYfD15my",
        "outputId": "d9501d4a-9045-4f29-ff3c-2fbee0f106d1"
      },
      "source": [
        "path = untar_data(URLs.MNIST)\n",
        "print(path)\n",
        "Path.BASE_PATH = path\n",
        "\n",
        "path"
      ],
      "execution_count": 3,
      "outputs": [
        {
          "output_type": "display_data",
          "data": {
            "text/html": [
              "\n",
              "    <div>\n",
              "        <style>\n",
              "            /* Turns off some styling */\n",
              "            progress {\n",
              "                /* gets rid of default border in Firefox and Opera. */\n",
              "                border: none;\n",
              "                /* Needs to be in here for Safari polyfill so background images work as expected. */\n",
              "                background-size: auto;\n",
              "            }\n",
              "            .progress-bar-interrupted, .progress-bar-interrupted::-webkit-progress-bar {\n",
              "                background: #F44336;\n",
              "            }\n",
              "        </style>\n",
              "      <progress value='15687680' class='' max='15683414' style='width:300px; height:20px; vertical-align: middle;'></progress>\n",
              "      100.03% [15687680/15683414 00:00<00:00]\n",
              "    </div>\n",
              "    "
            ],
            "text/plain": [
              "<IPython.core.display.HTML object>"
            ]
          },
          "metadata": {}
        },
        {
          "output_type": "stream",
          "text": [
            "/root/.fastai/data/mnist_png\n"
          ],
          "name": "stdout"
        },
        {
          "output_type": "execute_result",
          "data": {
            "text/plain": [
              "Path('.')"
            ]
          },
          "metadata": {},
          "execution_count": 3
        }
      ]
    },
    {
      "cell_type": "code",
      "metadata": {
        "colab": {
          "base_uri": "https://localhost:8080/"
        },
        "id": "4d2RgaCv2Vcm",
        "outputId": "b37d694b-6913-4c53-ea7a-9c2e9c582b4c"
      },
      "source": [
        "# examine all of the paths required\n",
        "all_paths = (path/'training').ls()\n",
        "all_paths"
      ],
      "execution_count": 4,
      "outputs": [
        {
          "output_type": "execute_result",
          "data": {
            "text/plain": [
              "(#10) [Path('training/3'),Path('training/4'),Path('training/0'),Path('training/6'),Path('training/1'),Path('training/7'),Path('training/8'),Path('training/9'),Path('training/5'),Path('training/2')]"
            ]
          },
          "metadata": {},
          "execution_count": 4
        }
      ]
    },
    {
      "cell_type": "code",
      "metadata": {
        "colab": {
          "base_uri": "https://localhost:8080/"
        },
        "id": "EaN_S4qKA_sW",
        "outputId": "b6da8514-43c1-4497-9edb-4cf923c1cb58"
      },
      "source": [
        "validation_paths = (path/'testing').ls()\n",
        "validation_paths"
      ],
      "execution_count": 5,
      "outputs": [
        {
          "output_type": "execute_result",
          "data": {
            "text/plain": [
              "(#10) [Path('testing/3'),Path('testing/4'),Path('testing/0'),Path('testing/6'),Path('testing/1'),Path('testing/7'),Path('testing/8'),Path('testing/9'),Path('testing/5'),Path('testing/2')]"
            ]
          },
          "metadata": {},
          "execution_count": 5
        }
      ]
    },
    {
      "cell_type": "code",
      "metadata": {
        "id": "ppby4rlG2okx"
      },
      "source": [
        "get_tensors_from_path = lambda num, set_type: torch.stack([tensor(Image.open(file_url)) for file_url in (path/set_type/num).ls()]).float()/255"
      ],
      "execution_count": 6,
      "outputs": []
    },
    {
      "cell_type": "code",
      "metadata": {
        "colab": {
          "base_uri": "https://localhost:8080/"
        },
        "id": "csxAoiym41DE",
        "outputId": "661401e4-0fc7-46b0-d173-0cf1aa656741"
      },
      "source": [
        "ones = get_tensors_from_path('1', 'training')\n",
        "ones.shape"
      ],
      "execution_count": 7,
      "outputs": [
        {
          "output_type": "execute_result",
          "data": {
            "text/plain": [
              "torch.Size([6742, 28, 28])"
            ]
          },
          "metadata": {},
          "execution_count": 7
        }
      ]
    },
    {
      "cell_type": "code",
      "metadata": {
        "colab": {
          "base_uri": "https://localhost:8080/",
          "height": 102
        },
        "id": "D51DqEdX6Orf",
        "outputId": "d8344f6b-bb13-4a3f-805e-02f4b151381a"
      },
      "source": [
        "show_image(ones[0])"
      ],
      "execution_count": 8,
      "outputs": [
        {
          "output_type": "execute_result",
          "data": {
            "text/plain": [
              "<matplotlib.axes._subplots.AxesSubplot at 0x7fcf3e1914d0>"
            ]
          },
          "metadata": {},
          "execution_count": 8
        },
        {
          "output_type": "display_data",
          "data": {
            "image/png": "[encoded data removed]",
            "text/plain": [
              "<Figure size 72x72 with 1 Axes>"
            ]
          },
          "metadata": {
            "needs_background": "light"
          }
        }
      ]
    },
    {
      "cell_type": "code",
      "metadata": {
        "id": "IJers5Bb45IL"
      },
      "source": [
        "numbers = [str(i) for i in range(10)]\n",
        "all_train_list = [get_tensors_from_path(number, 'training') for number in numbers]\n",
        "all_valid_list = [get_tensors_from_path(number, 'testing') for number in numbers]"
      ],
      "execution_count": 9,
      "outputs": []
    },
    {
      "cell_type": "code",
      "metadata": {
        "colab": {
          "base_uri": "https://localhost:8080/"
        },
        "id": "-UaBSRx17MyC",
        "outputId": "29b5b5f6-51f1-4473-fe76-ab44653146b8"
      },
      "source": [
        "len(all_train_list), all_train_list[0].shape, all_train_list[1].shape"
      ],
      "execution_count": 10,
      "outputs": [
        {
          "output_type": "execute_result",
          "data": {
            "text/plain": [
              "(10, torch.Size([5923, 28, 28]), torch.Size([6742, 28, 28]))"
            ]
          },
          "metadata": {},
          "execution_count": 10
        }
      ]
    },
    {
      "cell_type": "code",
      "metadata": {
        "colab": {
          "base_uri": "https://localhost:8080/"
        },
        "id": "t_aYUhzoBpcy",
        "outputId": "20d8b6c5-081a-41ec-aef4-4e15cd81e386"
      },
      "source": [
        "len(all_valid_list), all_valid_list[0].shape, all_valid_list[1].shape"
      ],
      "execution_count": 11,
      "outputs": [
        {
          "output_type": "execute_result",
          "data": {
            "text/plain": [
              "(10, torch.Size([980, 28, 28]), torch.Size([1135, 28, 28]))"
            ]
          },
          "metadata": {},
          "execution_count": 11
        }
      ]
    },
    {
      "cell_type": "code",
      "metadata": {
        "id": "Q9wRjhLu62Oh",
        "colab": {
          "base_uri": "https://localhost:8080/"
        },
        "outputId": "5fcccac0-97fd-4b01-8c32-a62d3df8f3e4"
      },
      "source": [
        "num_element_list = []\n",
        "num_valid_elements = []\n",
        "# test getting the number of each type of image in the training list\n",
        "for i in range (len(all_train_list)):\n",
        "  print(\"Num elements for\", i, \"is\", all_train_list[i].shape[0])\n",
        "  num_element_list.append(all_train_list[i].shape[0])\n",
        "  num_valid_elements.append(all_valid_list[i].shape[0])\n",
        "\n",
        "num_element_list, num_valid_elements"
      ],
      "execution_count": 12,
      "outputs": [
        {
          "output_type": "stream",
          "text": [
            "Num elements for 0 is 5923\n",
            "Num elements for 1 is 6742\n",
            "Num elements for 2 is 5958\n",
            "Num elements for 3 is 6131\n",
            "Num elements for 4 is 5842\n",
            "Num elements for 5 is 5421\n",
            "Num elements for 6 is 5918\n",
            "Num elements for 7 is 6265\n",
            "Num elements for 8 is 5851\n",
            "Num elements for 9 is 5949\n"
          ],
          "name": "stdout"
        },
        {
          "output_type": "execute_result",
          "data": {
            "text/plain": [
              "([5923, 6742, 5958, 6131, 5842, 5421, 5918, 6265, 5851, 5949],\n",
              " [980, 1135, 1032, 1010, 982, 892, 958, 1028, 974, 1009])"
            ]
          },
          "metadata": {},
          "execution_count": 12
        }
      ]
    },
    {
      "cell_type": "code",
      "metadata": {
        "colab": {
          "base_uri": "https://localhost:8080/"
        },
        "id": "TjXt9UTF_cSO",
        "outputId": "917c7ed9-b596-41a8-938b-ca56b02687e0"
      },
      "source": [
        "# create the training and validation sets\n",
        "# reduce to 2D matrix 784 columns (one row per image)\n",
        "train_x = torch.cat(all_train_list).view(-1, 28*28)\n",
        "\n",
        "# make a list of tensors of corresponding target values, then concatenate tensors using unsqueeze\n",
        "train_y = torch.cat([tensor([i]*num_element_list[i]) for i in range(len(num_element_list))]).unsqueeze(1)\n",
        "train_x.shape, train_y.shape"
      ],
      "execution_count": 13,
      "outputs": [
        {
          "output_type": "execute_result",
          "data": {
            "text/plain": [
              "(torch.Size([60000, 784]), torch.Size([60000, 1]))"
            ]
          },
          "metadata": {},
          "execution_count": 13
        }
      ]
    },
    {
      "cell_type": "code",
      "metadata": {
        "colab": {
          "base_uri": "https://localhost:8080/"
        },
        "id": "cGSoQW-gDFK1",
        "outputId": "4b4fdd33-b20d-4b4d-a318-68a9a7df0908"
      },
      "source": [
        "# do the same for validaiton set\n",
        "valid_x = torch.cat(all_valid_list).view(-1, 28*28)\n",
        "valid_y = torch.cat([tensor([i]*num_valid_elements[i]) for i in range(len(num_valid_elements))]).unsqueeze(1)\n",
        "valid_x.shape, valid_y.shape\n"
      ],
      "execution_count": 14,
      "outputs": [
        {
          "output_type": "execute_result",
          "data": {
            "text/plain": [
              "(torch.Size([10000, 784]), torch.Size([10000, 1]))"
            ]
          },
          "metadata": {},
          "execution_count": 14
        }
      ]
    },
    {
      "cell_type": "code",
      "metadata": {
        "colab": {
          "base_uri": "https://localhost:8080/",
          "height": 282
        },
        "id": "pmoJoS-JugF8",
        "outputId": "2f8b7fc5-3fe1-4901-d96a-e5e930ce8ed8"
      },
      "source": [
        "plt.imshow(train_x[0].view(28, 28)), train_y[0]"
      ],
      "execution_count": 21,
      "outputs": [
        {
          "output_type": "execute_result",
          "data": {
            "text/plain": [
              "(<matplotlib.image.AxesImage at 0x7fcf3db934d0>, tensor([0]))"
            ]
          },
          "metadata": {},
          "execution_count": 21
        },
        {
          "output_type": "display_data",
          "data": {
            "image/png": "[encoded data removed]",
            "text/plain": [
              "<Figure size 432x288 with 1 Axes>"
            ]
          },
          "metadata": {
            "needs_background": "light"
          }
        }
      ]
    },
    {
      "cell_type": "code",
      "metadata": {
        "colab": {
          "base_uri": "https://localhost:8080/",
          "height": 282
        },
        "id": "uv-2BLFHvwJR",
        "outputId": "d15ffd39-52d8-4ca4-b0ab-94ad7357d054"
      },
      "source": [
        "plt.imshow(train_x[1000].view(28, 28)), train_y[1000]"
      ],
      "execution_count": 22,
      "outputs": [
        {
          "output_type": "execute_result",
          "data": {
            "text/plain": [
              "(<matplotlib.image.AxesImage at 0x7fcf3da71250>, tensor([0]))"
            ]
          },
          "metadata": {},
          "execution_count": 22
        },
        {
          "output_type": "display_data",
          "data": {
            "image/png": "[encoded data removed]",
            "text/plain": [
              "<Figure size 432x288 with 1 Axes>"
            ]
          },
          "metadata": {
            "needs_background": "light"
          }
        }
      ]
    },
    {
      "cell_type": "code",
      "metadata": {
        "colab": {
          "base_uri": "https://localhost:8080/",
          "height": 282
        },
        "id": "66h_YnNhvzuF",
        "outputId": "fa17fb41-c45f-43fd-d4ce-065d8fdc32f9"
      },
      "source": [
        "plt.imshow(train_x[10000].view(28, 28)), train_y[10000]"
      ],
      "execution_count": 23,
      "outputs": [
        {
          "output_type": "execute_result",
          "data": {
            "text/plain": [
              "(<matplotlib.image.AxesImage at 0x7fcf3da58790>, tensor([1]))"
            ]
          },
          "metadata": {},
          "execution_count": 23
        },
        {
          "output_type": "display_data",
          "data": {
            "image/png": "[encoded data removed]",
            "text/plain": [
              "<Figure size 432x288 with 1 Axes>"
            ]
          },
          "metadata": {
            "needs_background": "light"
          }
        }
      ]
    },
    {
      "cell_type": "code",
      "metadata": {
        "colab": {
          "base_uri": "https://localhost:8080/",
          "height": 282
        },
        "id": "83X9wunov3hG",
        "outputId": "56ef5c19-5621-478a-8b3e-fcc095564b5a"
      },
      "source": [
        "plt.imshow(train_x[50000].view(28, 28)), train_y[50000]"
      ],
      "execution_count": 25,
      "outputs": [
        {
          "output_type": "execute_result",
          "data": {
            "text/plain": [
              "(<matplotlib.image.AxesImage at 0x7fcf3d7806d0>, tensor([8]))"
            ]
          },
          "metadata": {},
          "execution_count": 25
        },
        {
          "output_type": "display_data",
          "data": {
            "image/png": "[encoded data removed]",
            "text/plain": [
              "<Figure size 432x288 with 1 Axes>"
            ]
          },
          "metadata": {
            "needs_background": "light"
          }
        }
      ]
    },
    {
      "cell_type": "code",
      "metadata": {
        "colab": {
          "base_uri": "https://localhost:8080/"
        },
        "id": "22lS_ynPv--g",
        "outputId": "cf995167-bf7a-4f7d-e95d-a06bd72be2c9"
      },
      "source": [
        "# the images seem correctly labelled, create two data loaders now - for training and validation sets\n",
        "to_loader = lambda x, y, batch_size: DataLoader(list(zip(x, y)), batch_size=batch_size)\n",
        "\n",
        "train_dl = to_loader(train_x, train_y, 256)\n",
        "valid_dl = to_loader(valid_x, valid_y, 256)\n",
        "first(train_dl)[0].shape, first(train_dl)[1].shape"
      ],
      "execution_count": 35,
      "outputs": [
        {
          "output_type": "execute_result",
          "data": {
            "text/plain": [
              "(torch.Size([256, 784]), torch.Size([256, 1]))"
            ]
          },
          "metadata": {},
          "execution_count": 35
        }
      ]
    },
    {
      "cell_type": "code",
      "metadata": {
        "id": "3OJ5gp8Aw9Nl"
      },
      "source": [
        "# combine both into a single dataloaders\n",
        "dls = DataLoaders(train_dl, valid_dl)"
      ],
      "execution_count": 36,
      "outputs": []
    },
    {
      "cell_type": "code",
      "metadata": {
        "id": "n9mJcpmYHPaT",
        "colab": {
          "base_uri": "https://localhost:8080/"
        },
        "outputId": "dc162149-0c49-4d3e-e645-f3e901904fe2"
      },
      "source": [
        "# make some sample lists to test new lost function\n",
        "sample_acts = torch.randn(size=(4, 10))*3\n",
        "sample_targ = torch.tensor([5, 8, 2, 4])\n",
        "sample_acts, sample_targ"
      ],
      "execution_count": 39,
      "outputs": [
        {
          "output_type": "execute_result",
          "data": {
            "text/plain": [
              "(tensor([[ 3.0394, -0.9925,  1.5531,  1.1633, -1.7390, -0.5073,  5.7935,  3.0356, -1.4256, -1.4761],\n",
              "         [ 0.8111, -1.6885,  2.0380,  1.3216,  3.4245,  0.0557,  0.2198,  2.4560,  4.4414,  1.0348],\n",
              "         [-4.2724, -0.3490, -2.9180,  2.8754,  0.0746, -1.0379,  0.8605, -2.1925,  0.5245, -3.2818],\n",
              "         [ 2.8900, -0.9286,  3.8665,  0.1569, -4.6406,  2.2701,  2.3266,  6.0796,  2.9436, -1.9204]]),\n",
              " tensor([5, 8, 2, 4]))"
            ]
          },
          "metadata": {},
          "execution_count": 39
        }
      ]
    },
    {
      "cell_type": "code",
      "metadata": {
        "id": "DcKkFPfiDYOj"
      },
      "source": [
        "# create some loss function to deal with 10 entries\n",
        "def ce_loss(acts, targets):\n",
        "  smax = torch.softmax(acts, dim=1)\n",
        "  s_log = smax.log()\n",
        "  nll_loss = -s_log[range(acts.shape[0]), targets]\n",
        "  return nll_loss.mean()"
      ],
      "execution_count": 56,
      "outputs": []
    },
    {
      "cell_type": "code",
      "metadata": {
        "colab": {
          "base_uri": "https://localhost:8080/"
        },
        "id": "HZjy339rtg_e",
        "outputId": "6b19157d-9edb-4a5f-9505-2b5d0f6ae941"
      },
      "source": [
        "ce_loss(sample_acts, sample_targ), nn.CrossEntropyLoss()(sample_acts, sample_targ)"
      ],
      "execution_count": 57,
      "outputs": [
        {
          "output_type": "execute_result",
          "data": {
            "text/plain": [
              "(tensor(6.0074), tensor(6.0074))"
            ]
          },
          "metadata": {},
          "execution_count": 57
        }
      ]
    },
    {
      "cell_type": "code",
      "metadata": {
        "id": "K5Ha-G1P0S25"
      },
      "source": [
        "# create optimizer\n",
        "class SGDOpt:\n",
        "  def __init__(self, params, lr):\n",
        "    self.params = params\n",
        "    self.lr = lr\n",
        "\n",
        "  def update_lr(self, new_lr):\n",
        "    self.lr = new_lr\n",
        "  \n",
        "  def step(self):\n",
        "    for param in self.params:\n",
        "      param.data -= param.grad * self.lr\n",
        "\n",
        "  def zero_grad(self):\n",
        "    for param in self.params:\n",
        "      param.grad = None"
      ],
      "execution_count": 59,
      "outputs": []
    },
    {
      "cell_type": "code",
      "metadata": {
        "id": "G1o1UrX1226p"
      },
      "source": [
        "# create a metric function\n",
        "def epoch_acc(valid_dl, model):\n",
        "\n",
        "  def batch_acc(batch_x, batch_y):\n",
        "    preds = model(batch_x).argmax(dim=-1)\n",
        "    return (preds == batch_y).float().mean()\n",
        "\n",
        "  accs = [batch_acc(x, y) for x, y in valid_dl]\n",
        "  return torch.stack(accs).mean()\n"
      ],
      "execution_count": 60,
      "outputs": []
    },
    {
      "cell_type": "code",
      "metadata": {
        "id": "KYH0RrRG42xT"
      },
      "source": [
        ""
      ],
      "execution_count": null,
      "outputs": []
    }
  ]
}