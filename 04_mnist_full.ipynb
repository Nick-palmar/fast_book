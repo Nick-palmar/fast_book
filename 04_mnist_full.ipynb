{
  "nbformat": 4,
  "nbformat_minor": 0,
  "metadata": {
    "colab": {
      "name": "04_mnist_full.ipynb",
      "provenance": []
    },
    "kernelspec": {
      "name": "python3",
      "display_name": "Python 3"
    },
    "language_info": {
      "name": "python"
    },
    "accelerator": "GPU"
  },
  "cells": [
    {
      "cell_type": "markdown",
      "metadata": {
        "id": "Sol_3Uxp1ugG"
      },
      "source": [
        "## Predicting hand written digits between 0 and 9 using the full MNIST Dataset"
      ]
    },
    {
      "cell_type": "code",
      "metadata": {
        "id": "5kDM3Y_I1zQw",
        "colab": {
          "base_uri": "https://localhost:8080/"
        },
        "outputId": "ed4b7f97-591c-4755-cb48-5813d16e093c"
      },
      "source": [
        "!pip install -Uqq fastbook\n",
        "import fastbook\n",
        "fastbook.setup_book()"
      ],
      "execution_count": 1,
      "outputs": [
        {
          "output_type": "stream",
          "text": [
            "\u001b[K     |████████████████████████████████| 720 kB 12.7 MB/s \n",
            "\u001b[K     |████████████████████████████████| 1.2 MB 33.3 MB/s \n",
            "\u001b[K     |████████████████████████████████| 46 kB 2.9 MB/s \n",
            "\u001b[K     |████████████████████████████████| 186 kB 46.6 MB/s \n",
            "\u001b[K     |████████████████████████████████| 56 kB 3.7 MB/s \n",
            "\u001b[K     |████████████████████████████████| 51 kB 348 kB/s \n",
            "\u001b[?25hMounted at /content/gdrive\n"
          ],
          "name": "stdout"
        }
      ]
    },
    {
      "cell_type": "code",
      "metadata": {
        "id": "V4E_CTM_12XB"
      },
      "source": [
        "from fastai.vision.all import *\n",
        "from fastbook import *\n",
        "\n",
        "matplotlib.rc('image', cmap='Greys')"
      ],
      "execution_count": 2,
      "outputs": []
    },
    {
      "cell_type": "code",
      "metadata": {
        "colab": {
          "base_uri": "https://localhost:8080/",
          "height": 71
        },
        "id": "JsgHYYfD15my",
        "outputId": "7b433be7-3f04-4f0c-88cf-dbcf578b3b37"
      },
      "source": [
        "path = untar_data(URLs.MNIST)\n",
        "print(path)\n",
        "Path.BASE_PATH = path\n",
        "\n",
        "path"
      ],
      "execution_count": 3,
      "outputs": [
        {
          "output_type": "display_data",
          "data": {
            "text/html": [
              "\n",
              "    <div>\n",
              "        <style>\n",
              "            /* Turns off some styling */\n",
              "            progress {\n",
              "                /* gets rid of default border in Firefox and Opera. */\n",
              "                border: none;\n",
              "                /* Needs to be in here for Safari polyfill so background images work as expected. */\n",
              "                background-size: auto;\n",
              "            }\n",
              "            .progress-bar-interrupted, .progress-bar-interrupted::-webkit-progress-bar {\n",
              "                background: #F44336;\n",
              "            }\n",
              "        </style>\n",
              "      <progress value='15687680' class='' max='15683414' style='width:300px; height:20px; vertical-align: middle;'></progress>\n",
              "      100.03% [15687680/15683414 00:01<00:00]\n",
              "    </div>\n",
              "    "
            ],
            "text/plain": [
              "<IPython.core.display.HTML object>"
            ]
          },
          "metadata": {}
        },
        {
          "output_type": "stream",
          "text": [
            "/root/.fastai/data/mnist_png\n"
          ],
          "name": "stdout"
        },
        {
          "output_type": "execute_result",
          "data": {
            "text/plain": [
              "Path('.')"
            ]
          },
          "metadata": {},
          "execution_count": 3
        }
      ]
    },
    {
      "cell_type": "code",
      "metadata": {
        "colab": {
          "base_uri": "https://localhost:8080/"
        },
        "id": "4d2RgaCv2Vcm",
        "outputId": "a7d12f3e-4c6a-40bf-8760-892a032df57f"
      },
      "source": [
        "# examine all of the paths required\n",
        "all_paths = (path/'training').ls()\n",
        "all_paths"
      ],
      "execution_count": 4,
      "outputs": [
        {
          "output_type": "execute_result",
          "data": {
            "text/plain": [
              "(#10) [Path('training/9'),Path('training/2'),Path('training/3'),Path('training/4'),Path('training/1'),Path('training/5'),Path('training/8'),Path('training/0'),Path('training/7'),Path('training/6')]"
            ]
          },
          "metadata": {},
          "execution_count": 4
        }
      ]
    },
    {
      "cell_type": "code",
      "metadata": {
        "colab": {
          "base_uri": "https://localhost:8080/"
        },
        "id": "EaN_S4qKA_sW",
        "outputId": "5126f3d0-3c54-4e66-aa77-40365237d540"
      },
      "source": [
        "validation_paths = (path/'testing').ls()\n",
        "validation_paths"
      ],
      "execution_count": 5,
      "outputs": [
        {
          "output_type": "execute_result",
          "data": {
            "text/plain": [
              "(#10) [Path('testing/9'),Path('testing/2'),Path('testing/3'),Path('testing/4'),Path('testing/1'),Path('testing/5'),Path('testing/8'),Path('testing/0'),Path('testing/7'),Path('testing/6')]"
            ]
          },
          "metadata": {},
          "execution_count": 5
        }
      ]
    },
    {
      "cell_type": "code",
      "metadata": {
        "id": "ppby4rlG2okx"
      },
      "source": [
        "get_tensors_from_path = lambda num, set_type: torch.stack([tensor(Image.open(file_url)) for file_url in (path/set_type/num).ls()]).float()/255"
      ],
      "execution_count": 6,
      "outputs": []
    },
    {
      "cell_type": "code",
      "metadata": {
        "colab": {
          "base_uri": "https://localhost:8080/"
        },
        "id": "csxAoiym41DE",
        "outputId": "c41d7ee4-f146-4298-8a77-d3b23505c04f"
      },
      "source": [
        "ones = get_tensors_from_path('1', 'training')\n",
        "ones.shape"
      ],
      "execution_count": 7,
      "outputs": [
        {
          "output_type": "execute_result",
          "data": {
            "text/plain": [
              "torch.Size([6742, 28, 28])"
            ]
          },
          "metadata": {},
          "execution_count": 7
        }
      ]
    },
    {
      "cell_type": "code",
      "metadata": {
        "colab": {
          "base_uri": "https://localhost:8080/",
          "height": 102
        },
        "id": "D51DqEdX6Orf",
        "outputId": "1472284e-b8d2-415e-8781-cb60fb5de893"
      },
      "source": [
        "show_image(ones[0])"
      ],
      "execution_count": 8,
      "outputs": [
        {
          "output_type": "execute_result",
          "data": {
            "text/plain": [
              "<matplotlib.axes._subplots.AxesSubplot at 0x7f021f05a790>"
            ]
          },
          "metadata": {},
          "execution_count": 8
        },
        {
          "output_type": "display_data",
          "data": {
            "image/png": "[encoded data removed]",
            "text/plain": [
              "<Figure size 72x72 with 1 Axes>"
            ]
          },
          "metadata": {
            "needs_background": "light"
          }
        }
      ]
    },
    {
      "cell_type": "code",
      "metadata": {
        "id": "IJers5Bb45IL"
      },
      "source": [
        "numbers = [str(i) for i in range(10)]\n",
        "all_train_list = [get_tensors_from_path(number, 'training') for number in numbers]\n",
        "all_valid_list = [get_tensors_from_path(number, 'testing') for number in numbers]"
      ],
      "execution_count": 9,
      "outputs": []
    },
    {
      "cell_type": "code",
      "metadata": {
        "colab": {
          "base_uri": "https://localhost:8080/"
        },
        "id": "-UaBSRx17MyC",
        "outputId": "e055669e-4e6c-4bc0-dc4e-f0f106d8e795"
      },
      "source": [
        "len(all_train_list), all_train_list[0].shape, all_train_list[1].shape"
      ],
      "execution_count": 10,
      "outputs": [
        {
          "output_type": "execute_result",
          "data": {
            "text/plain": [
              "(10, torch.Size([5923, 28, 28]), torch.Size([6742, 28, 28]))"
            ]
          },
          "metadata": {},
          "execution_count": 10
        }
      ]
    },
    {
      "cell_type": "code",
      "metadata": {
        "colab": {
          "base_uri": "https://localhost:8080/"
        },
        "id": "t_aYUhzoBpcy",
        "outputId": "58ae7dd2-ed68-4b3f-cab1-ad10285714e5"
      },
      "source": [
        "len(all_valid_list), all_valid_list[0].shape, all_valid_list[1].shape"
      ],
      "execution_count": 11,
      "outputs": [
        {
          "output_type": "execute_result",
          "data": {
            "text/plain": [
              "(10, torch.Size([980, 28, 28]), torch.Size([1135, 28, 28]))"
            ]
          },
          "metadata": {},
          "execution_count": 11
        }
      ]
    },
    {
      "cell_type": "code",
      "metadata": {
        "id": "Q9wRjhLu62Oh",
        "colab": {
          "base_uri": "https://localhost:8080/"
        },
        "outputId": "b98679e6-81fe-4fae-cddf-f089f89d6d20"
      },
      "source": [
        "num_element_list = []\n",
        "num_valid_elements = []\n",
        "# test getting the number of each type of image in the training list\n",
        "for i in range (len(all_train_list)):\n",
        "  print(\"Num elements for\", i, \"is\", all_train_list[i].shape[0])\n",
        "  num_element_list.append(all_train_list[i].shape[0])\n",
        "  num_valid_elements.append(all_valid_list[i].shape[0])\n",
        "\n",
        "num_element_list, num_valid_elements"
      ],
      "execution_count": 12,
      "outputs": [
        {
          "output_type": "stream",
          "text": [
            "Num elements for 0 is 5923\n",
            "Num elements for 1 is 6742\n",
            "Num elements for 2 is 5958\n",
            "Num elements for 3 is 6131\n",
            "Num elements for 4 is 5842\n",
            "Num elements for 5 is 5421\n",
            "Num elements for 6 is 5918\n",
            "Num elements for 7 is 6265\n",
            "Num elements for 8 is 5851\n",
            "Num elements for 9 is 5949\n"
          ],
          "name": "stdout"
        },
        {
          "output_type": "execute_result",
          "data": {
            "text/plain": [
              "([5923, 6742, 5958, 6131, 5842, 5421, 5918, 6265, 5851, 5949],\n",
              " [980, 1135, 1032, 1010, 982, 892, 958, 1028, 974, 1009])"
            ]
          },
          "metadata": {},
          "execution_count": 12
        }
      ]
    },
    {
      "cell_type": "code",
      "metadata": {
        "colab": {
          "base_uri": "https://localhost:8080/"
        },
        "id": "TjXt9UTF_cSO",
        "outputId": "bb309f2a-ad1c-47ce-91b0-126ada89ec28"
      },
      "source": [
        "# create the training and validation sets\n",
        "# reduce to 2D matrix 784 columns (one row per image)\n",
        "train_x = torch.cat(all_train_list).view(-1, 28*28)\n",
        "\n",
        "# make a list of tensors of corresponding target values, then concatenate tensors using unsqueeze\n",
        "train_y = torch.cat([tensor([i]*num_element_list[i]) for i in range(len(num_element_list))]).unsqueeze(1)\n",
        "train_x.shape, train_y.shape"
      ],
      "execution_count": 13,
      "outputs": [
        {
          "output_type": "execute_result",
          "data": {
            "text/plain": [
              "(torch.Size([60000, 784]), torch.Size([60000, 1]))"
            ]
          },
          "metadata": {},
          "execution_count": 13
        }
      ]
    },
    {
      "cell_type": "code",
      "metadata": {
        "colab": {
          "base_uri": "https://localhost:8080/"
        },
        "id": "cGSoQW-gDFK1",
        "outputId": "39c2a34c-71f7-4db1-ba3c-0d3077a52da2"
      },
      "source": [
        "# do the same for validaiton set\n",
        "valid_x = torch.cat(all_valid_list).view(-1, 28*28)\n",
        "valid_y = torch.cat([tensor([i]*num_valid_elements[i]) for i in range(len(num_valid_elements))]).unsqueeze(1)\n",
        "valid_x.shape, valid_y.shape\n"
      ],
      "execution_count": 14,
      "outputs": [
        {
          "output_type": "execute_result",
          "data": {
            "text/plain": [
              "(torch.Size([10000, 784]), torch.Size([10000, 1]))"
            ]
          },
          "metadata": {},
          "execution_count": 14
        }
      ]
    },
    {
      "cell_type": "code",
      "metadata": {
        "colab": {
          "base_uri": "https://localhost:8080/",
          "height": 282
        },
        "id": "pmoJoS-JugF8",
        "outputId": "05d3b410-cdc0-4fdd-9558-73716c3fcaf2"
      },
      "source": [
        "plt.imshow(train_x[0].view(28, 28)), train_y[0]"
      ],
      "execution_count": 15,
      "outputs": [
        {
          "output_type": "execute_result",
          "data": {
            "text/plain": [
              "(<matplotlib.image.AxesImage at 0x7f022160aa50>, tensor([0]))"
            ]
          },
          "metadata": {},
          "execution_count": 15
        },
        {
          "output_type": "display_data",
          "data": {
            "image/png": "[encoded data removed]",
            "text/plain": [
              "<Figure size 432x288 with 1 Axes>"
            ]
          },
          "metadata": {
            "needs_background": "light"
          }
        }
      ]
    },
    {
      "cell_type": "code",
      "metadata": {
        "colab": {
          "base_uri": "https://localhost:8080/",
          "height": 282
        },
        "id": "uv-2BLFHvwJR",
        "outputId": "c244b9d4-6cf3-427f-fb83-3b8c4806af8f"
      },
      "source": [
        "plt.imshow(train_x[1000].view(28, 28)), train_y[1000]"
      ],
      "execution_count": 16,
      "outputs": [
        {
          "output_type": "execute_result",
          "data": {
            "text/plain": [
              "(<matplotlib.image.AxesImage at 0x7f022160afd0>, tensor([0]))"
            ]
          },
          "metadata": {},
          "execution_count": 16
        },
        {
          "output_type": "display_data",
          "data": {
            "image/png": "[encoded data removed]",
            "text/plain": [
              "<Figure size 432x288 with 1 Axes>"
            ]
          },
          "metadata": {
            "needs_background": "light"
          }
        }
      ]
    },
    {
      "cell_type": "code",
      "metadata": {
        "colab": {
          "base_uri": "https://localhost:8080/",
          "height": 282
        },
        "id": "66h_YnNhvzuF",
        "outputId": "f86fa8d8-4310-40e2-8861-72cdf05910d2"
      },
      "source": [
        "plt.imshow(train_x[10000].view(28, 28)), train_y[10000]"
      ],
      "execution_count": 17,
      "outputs": [
        {
          "output_type": "execute_result",
          "data": {
            "text/plain": [
              "(<matplotlib.image.AxesImage at 0x7f021e700590>, tensor([1]))"
            ]
          },
          "metadata": {},
          "execution_count": 17
        },
        {
          "output_type": "display_data",
          "data": {
            "image/png": "[encoded data removed]",
            "text/plain": [
              "<Figure size 432x288 with 1 Axes>"
            ]
          },
          "metadata": {
            "needs_background": "light"
          }
        }
      ]
    },
    {
      "cell_type": "code",
      "metadata": {
        "colab": {
          "base_uri": "https://localhost:8080/",
          "height": 282
        },
        "id": "83X9wunov3hG",
        "outputId": "4859c33a-692a-4447-e92f-49d611ff6c9f"
      },
      "source": [
        "plt.imshow(train_x[50000].view(28, 28)), train_y[50000]"
      ],
      "execution_count": 18,
      "outputs": [
        {
          "output_type": "execute_result",
          "data": {
            "text/plain": [
              "(<matplotlib.image.AxesImage at 0x7f02220fdcd0>, tensor([8]))"
            ]
          },
          "metadata": {},
          "execution_count": 18
        },
        {
          "output_type": "display_data",
          "data": {
            "image/png": "[encoded data removed]",
            "text/plain": [
              "<Figure size 432x288 with 1 Axes>"
            ]
          },
          "metadata": {
            "needs_background": "light"
          }
        }
      ]
    },
    {
      "cell_type": "code",
      "metadata": {
        "colab": {
          "base_uri": "https://localhost:8080/"
        },
        "id": "22lS_ynPv--g",
        "outputId": "a4a06365-28ab-45c1-c549-27eec61f02d8"
      },
      "source": [
        "# the images seem correctly labelled, create two data loaders now - for training and validation sets\n",
        "to_loader = lambda x, y, batch_size: DataLoader(list(zip(x, y)), batch_size=batch_size)\n",
        "\n",
        "train_dl = to_loader(train_x, train_y, 256)\n",
        "valid_dl = to_loader(valid_x, valid_y, 256)\n",
        "first(train_dl)[0].shape, first(train_dl)[1].shape"
      ],
      "execution_count": 19,
      "outputs": [
        {
          "output_type": "execute_result",
          "data": {
            "text/plain": [
              "(torch.Size([256, 784]), torch.Size([256, 1]))"
            ]
          },
          "metadata": {},
          "execution_count": 19
        }
      ]
    },
    {
      "cell_type": "code",
      "metadata": {
        "id": "3OJ5gp8Aw9Nl"
      },
      "source": [
        "# combine both into a single dataloaders\n",
        "dls = DataLoaders(train_dl, valid_dl)"
      ],
      "execution_count": 20,
      "outputs": []
    },
    {
      "cell_type": "code",
      "metadata": {
        "id": "n9mJcpmYHPaT",
        "colab": {
          "base_uri": "https://localhost:8080/"
        },
        "outputId": "48820165-9429-4355-bf47-9f0d710e396c"
      },
      "source": [
        "# make some sample lists to test new lost function\n",
        "sample_acts = torch.randn(size=(4, 10))*3\n",
        "sample_targ = torch.tensor([5, 8, 2, 4])\n",
        "sample_acts, sample_targ"
      ],
      "execution_count": 21,
      "outputs": [
        {
          "output_type": "execute_result",
          "data": {
            "text/plain": [
              "(tensor([[ 2.0353, -3.7036, -0.1292, -4.8140,  5.3634, -1.4341, -0.7286, -2.8025, -2.1836, -1.6783],\n",
              "         [-2.3065,  2.2873, -4.7020, -0.7183,  6.9684, -2.8901, -2.2744,  3.2350,  2.4024,  5.0419],\n",
              "         [ 1.0676, -2.0599, -1.4801,  0.7245,  3.9369,  2.0615, -3.2675, -1.0659, -2.7415, -1.9744],\n",
              "         [ 0.2341,  1.5774,  3.5369, -1.3034, -4.1591, -3.8586, -4.2097,  0.1080, -0.1904,  2.0268]]),\n",
              " tensor([5, 8, 2, 4]))"
            ]
          },
          "metadata": {},
          "execution_count": 21
        }
      ]
    },
    {
      "cell_type": "code",
      "metadata": {
        "id": "DcKkFPfiDYOj"
      },
      "source": [
        "# create some loss function to deal with 10 entries\n",
        "def ce_loss(acts, targets, softmax=True):\n",
        "  if not softmax:\n",
        "    smax = torch.softmax(acts, dim=1)\n",
        "  else:\n",
        "    smax = acts\n",
        "  s_log = smax.log()\n",
        "  nll_loss = -s_log[range(acts.shape[0]), targets]\n",
        "  return nll_loss.mean()"
      ],
      "execution_count": 108,
      "outputs": []
    },
    {
      "cell_type": "code",
      "metadata": {
        "colab": {
          "base_uri": "https://localhost:8080/"
        },
        "id": "HZjy339rtg_e",
        "outputId": "fae32976-e67f-4878-eac8-2c59d35b8721"
      },
      "source": [
        "ce_loss(sample_acts, sample_targ, softmax=False), nn.CrossEntropyLoss()(sample_acts, sample_targ)"
      ],
      "execution_count": 109,
      "outputs": [
        {
          "output_type": "execute_result",
          "data": {
            "text/plain": [
              "(tensor(6.3285), tensor(6.3285))"
            ]
          },
          "metadata": {},
          "execution_count": 109
        }
      ]
    },
    {
      "cell_type": "code",
      "metadata": {
        "id": "K5Ha-G1P0S25"
      },
      "source": [
        "# create optimizer\n",
        "class SGDOpt:\n",
        "  def __init__(self, params, lr):\n",
        "    self.params = list(params)\n",
        "    self.lr = lr\n",
        "\n",
        "  def update_lr(self, new_lr):\n",
        "    self.lr = new_lr\n",
        "  \n",
        "  def step(self):\n",
        "    for param in self.params:\n",
        "      param.data -= param.grad * self.lr\n",
        "\n",
        "  def zero_grad(self):\n",
        "    for param in self.params:\n",
        "      param.grad = None"
      ],
      "execution_count": 110,
      "outputs": []
    },
    {
      "cell_type": "code",
      "metadata": {
        "id": "G1o1UrX1226p"
      },
      "source": [
        "# create a metric function\n",
        "def epoch_acc(valid_dl, model):\n",
        "\n",
        "  def batch_acc(batch_x, batch_y):\n",
        "    preds = model(batch_x).argmax(dim=-1)\n",
        "    return (preds == batch_y).float().mean()\n",
        "\n",
        "  accs = [batch_acc(x, y) for x, y in valid_dl]\n",
        "  return torch.stack(accs).mean()\n"
      ],
      "execution_count": 111,
      "outputs": []
    },
    {
      "cell_type": "code",
      "metadata": {
        "colab": {
          "base_uri": "https://localhost:8080/"
        },
        "id": "KYH0RrRG42xT",
        "outputId": "7012f10f-3622-4844-fb22-7f83754115e1"
      },
      "source": [
        "# create the model\n",
        "mnist_net = nn.Sequential(\n",
        "    nn.Linear(28*28, 30),\n",
        "    nn.ReLU(),\n",
        "\n",
        "    nn.Linear(30, 20),\n",
        "    nn.ReLU(),\n",
        "\n",
        "    nn.Linear(20, 10),\n",
        "    nn.Softmax()\n",
        ")\n",
        "\n",
        "mnist_net"
      ],
      "execution_count": 112,
      "outputs": [
        {
          "output_type": "execute_result",
          "data": {
            "text/plain": [
              "Sequential(\n",
              "  (0): Linear(in_features=784, out_features=30, bias=True)\n",
              "  (1): ReLU()\n",
              "  (2): Linear(in_features=30, out_features=20, bias=True)\n",
              "  (3): ReLU()\n",
              "  (4): Linear(in_features=20, out_features=10, bias=True)\n",
              "  (5): Softmax(dim=None)\n",
              ")"
            ]
          },
          "metadata": {},
          "execution_count": 112
        }
      ]
    },
    {
      "cell_type": "code",
      "metadata": {
        "colab": {
          "base_uri": "https://localhost:8080/"
        },
        "id": "VUuTQxU6YweO",
        "outputId": "35080fa1-8eaa-4d16-cd12-d2e51484fd86"
      },
      "source": [
        "simple_net = nn.Sequential(\n",
        "    nn.Linear(28*28,30),\n",
        "    nn.ReLU(),\n",
        "    nn.Linear(30,10),\n",
        "    nn.Softmax()\n",
        ")\n",
        "simple_net"
      ],
      "execution_count": 142,
      "outputs": [
        {
          "output_type": "execute_result",
          "data": {
            "text/plain": [
              "Sequential(\n",
              "  (0): Linear(in_features=784, out_features=30, bias=True)\n",
              "  (1): ReLU()\n",
              "  (2): Linear(in_features=30, out_features=10, bias=True)\n",
              "  (3): Softmax(dim=None)\n",
              ")"
            ]
          },
          "metadata": {},
          "execution_count": 142
        }
      ]
    },
    {
      "cell_type": "code",
      "metadata": {
        "colab": {
          "base_uri": "https://localhost:8080/"
        },
        "id": "sQ7Epsu2Pw-j",
        "outputId": "c40480d1-d3aa-4070-cbf8-726551155a10"
      },
      "source": [
        "mnist_net(first(dls.train)[0])[10]"
      ],
      "execution_count": 113,
      "outputs": [
        {
          "output_type": "stream",
          "text": [
            "/usr/local/lib/python3.7/dist-packages/torch/nn/modules/container.py:139: UserWarning: Implicit dimension choice for softmax has been deprecated. Change the call to include dim=X as an argument.\n",
            "  input = module(input)\n"
          ],
          "name": "stderr"
        },
        {
          "output_type": "execute_result",
          "data": {
            "text/plain": [
              "tensor([0.0943, 0.0806, 0.0926, 0.1214, 0.1238, 0.1050, 0.1185, 0.1003, 0.0734, 0.0900], grad_fn=<SelectBackward>)"
            ]
          },
          "metadata": {},
          "execution_count": 113
        }
      ]
    },
    {
      "cell_type": "code",
      "metadata": {
        "id": "UqqP4wYOKyLl"
      },
      "source": [
        "def train_model(model, epochs, loss_func, opt, metric_func, dls, lr):\n",
        "  optimizer = opt(model.parameters(), lr)\n",
        "  # print(optimizer.params[0].shape)\n",
        "  # train for the required number of epochs\n",
        "  for i in range(epochs):\n",
        "    # train for each minibatch\n",
        "    for tr_x, tr_y in dls.train:\n",
        "      # plt.imshow(tr_x[0].view(28, 28))\n",
        "      preds = model(tr_x)\n",
        "      # print(preds[0], tr_y[0])\n",
        "      # print(tr_y.shape)\n",
        "      loss = loss_func(preds, tr_y)\n",
        "      # print(loss)\n",
        "      loss.backward()\n",
        "      optimizer.step()\n",
        "      optimizer.zero_grad()\n",
        "  \n",
        "    # once an epoch is complete, get metric\n",
        "    acc = epoch_acc(dls.valid, model)\n",
        "    print(f\"Epoch {i+1} has accuracy: {acc}\")"
      ],
      "execution_count": 143,
      "outputs": []
    },
    {
      "cell_type": "code",
      "metadata": {
        "colab": {
          "base_uri": "https://localhost:8080/"
        },
        "id": "JCjlsAopOJ3M",
        "outputId": "f9901af8-5e3f-4730-989b-bce0ea4e3050"
      },
      "source": [
        "train_model(simple_net, 100, ce_loss, SGDOpt, epoch_acc, dls, 0.001)"
      ],
      "execution_count": 144,
      "outputs": [
        {
          "output_type": "stream",
          "text": [
            "/usr/local/lib/python3.7/dist-packages/torch/nn/modules/container.py:139: UserWarning: Implicit dimension choice for softmax has been deprecated. Change the call to include dim=X as an argument.\n",
            "  input = module(input)\n"
          ],
          "name": "stderr"
        },
        {
          "output_type": "stream",
          "text": [
            "Epoch 1 has accuracy: 0.14329680800437927\n",
            "Epoch 2 has accuracy: 0.23804131150245667\n",
            "Epoch 3 has accuracy: 0.3411697447299957\n",
            "Epoch 4 has accuracy: 0.4099845886230469\n",
            "Epoch 5 has accuracy: 0.45345228910446167\n",
            "Epoch 6 has accuracy: 0.4826454222202301\n",
            "Epoch 7 has accuracy: 0.5021457672119141\n",
            "Epoch 8 has accuracy: 0.5213238000869751\n",
            "Epoch 9 has accuracy: 0.54107666015625\n",
            "Epoch 10 has accuracy: 0.5764236450195312\n",
            "Epoch 11 has accuracy: 0.6159431338310242\n",
            "Epoch 12 has accuracy: 0.6465843319892883\n",
            "Epoch 13 has accuracy: 0.6714847683906555\n",
            "Epoch 14 has accuracy: 0.687696099281311\n",
            "Epoch 15 has accuracy: 0.6988372802734375\n",
            "Epoch 16 has accuracy: 0.7052993774414062\n",
            "Epoch 17 has accuracy: 0.7116691470146179\n",
            "Epoch 18 has accuracy: 0.7124443054199219\n",
            "Epoch 19 has accuracy: 0.7131736874580383\n",
            "Epoch 20 has accuracy: 0.7150127291679382\n",
            "Epoch 21 has accuracy: 0.7167320251464844\n",
            "Epoch 22 has accuracy: 0.7203003168106079\n",
            "Epoch 23 has accuracy: 0.7245586514472961\n",
            "Epoch 24 has accuracy: 0.7259639501571655\n",
            "Epoch 25 has accuracy: 0.7282733917236328\n",
            "Epoch 26 has accuracy: 0.7297950983047485\n",
            "Epoch 27 has accuracy: 0.7319057583808899\n",
            "Epoch 28 has accuracy: 0.7345096468925476\n",
            "Epoch 29 has accuracy: 0.7367134094238281\n",
            "Epoch 30 has accuracy: 0.740063488483429\n",
            "Epoch 31 has accuracy: 0.7425529360771179\n",
            "Epoch 32 has accuracy: 0.7446792721748352\n",
            "Epoch 33 has accuracy: 0.7470630407333374\n",
            "Epoch 34 has accuracy: 0.7490379214286804\n",
            "Epoch 35 has accuracy: 0.7515732049942017\n",
            "Epoch 36 has accuracy: 0.7536262273788452\n",
            "Epoch 37 has accuracy: 0.7561492919921875\n",
            "Epoch 38 has accuracy: 0.7579914331436157\n",
            "Epoch 39 has accuracy: 0.7612682580947876\n",
            "Epoch 40 has accuracy: 0.7631885409355164\n",
            "Epoch 41 has accuracy: 0.7650715112686157\n",
            "Epoch 42 has accuracy: 0.7679504156112671\n",
            "Epoch 43 has accuracy: 0.7694748044013977\n",
            "Epoch 44 has accuracy: 0.7721405029296875\n",
            "Epoch 45 has accuracy: 0.7734317779541016\n",
            "Epoch 46 has accuracy: 0.7757190465927124\n",
            "Epoch 47 has accuracy: 0.7770015597343445\n",
            "Epoch 48 has accuracy: 0.7786548733711243\n",
            "Epoch 49 has accuracy: 0.7807556390762329\n",
            "Epoch 50 has accuracy: 0.7831622958183289\n",
            "Epoch 51 has accuracy: 0.7845252752304077\n",
            "Epoch 52 has accuracy: 0.7860137820243835\n",
            "Epoch 53 has accuracy: 0.7875717282295227\n",
            "Epoch 54 has accuracy: 0.7882511019706726\n",
            "Epoch 55 has accuracy: 0.7903594970703125\n",
            "Epoch 56 has accuracy: 0.7911319732666016\n",
            "Epoch 57 has accuracy: 0.7924209833145142\n",
            "Epoch 58 has accuracy: 0.7930679321289062\n",
            "Epoch 59 has accuracy: 0.7938621640205383\n",
            "Epoch 60 has accuracy: 0.7942169308662415\n",
            "Epoch 61 has accuracy: 0.7952014803886414\n",
            "Epoch 62 has accuracy: 0.7965686917304993\n",
            "Epoch 63 has accuracy: 0.7976768612861633\n",
            "Epoch 64 has accuracy: 0.7990951538085938\n",
            "Epoch 65 has accuracy: 0.8000858426094055\n",
            "Epoch 66 has accuracy: 0.8005508184432983\n",
            "Epoch 67 has accuracy: 0.8017536401748657\n",
            "Epoch 68 has accuracy: 0.8027133941650391\n",
            "Epoch 69 has accuracy: 0.8037055730819702\n",
            "Epoch 70 has accuracy: 0.8045161962509155\n",
            "Epoch 71 has accuracy: 0.8052902221679688\n",
            "Epoch 72 has accuracy: 0.8055831789970398\n",
            "Epoch 73 has accuracy: 0.8060852289199829\n",
            "Epoch 74 has accuracy: 0.8076099157333374\n",
            "Epoch 75 has accuracy: 0.8084422945976257\n",
            "Epoch 76 has accuracy: 0.8090301752090454\n",
            "Epoch 77 has accuracy: 0.8101787567138672\n",
            "Epoch 78 has accuracy: 0.8109203577041626\n",
            "Epoch 79 has accuracy: 0.8117759823799133\n",
            "Epoch 80 has accuracy: 0.8125850558280945\n",
            "Epoch 81 has accuracy: 0.8130733370780945\n",
            "Epoch 82 has accuracy: 0.8131710290908813\n",
            "Epoch 83 has accuracy: 0.8134567141532898\n",
            "Epoch 84 has accuracy: 0.814221203327179\n",
            "Epoch 85 has accuracy: 0.8146182894706726\n",
            "Epoch 86 has accuracy: 0.8151500821113586\n",
            "Epoch 87 has accuracy: 0.8155208826065063\n",
            "Epoch 88 has accuracy: 0.8158859014511108\n",
            "Epoch 89 has accuracy: 0.8162765502929688\n",
            "Epoch 90 has accuracy: 0.8168315887451172\n",
            "Epoch 91 has accuracy: 0.8174484372138977\n",
            "Epoch 92 has accuracy: 0.8178821802139282\n",
            "Epoch 93 has accuracy: 0.8182422518730164\n",
            "Epoch 94 has accuracy: 0.8184120059013367\n",
            "Epoch 95 has accuracy: 0.8185787200927734\n",
            "Epoch 96 has accuracy: 0.8190181851387024\n",
            "Epoch 97 has accuracy: 0.8192325830459595\n",
            "Epoch 98 has accuracy: 0.8193958401679993\n",
            "Epoch 99 has accuracy: 0.819958508014679\n",
            "Epoch 100 has accuracy: 0.8205158114433289\n"
          ],
          "name": "stdout"
        }
      ]
    },
    {
      "cell_type": "code",
      "metadata": {
        "colab": {
          "base_uri": "https://localhost:8080/"
        },
        "id": "HH8UEnBBOfTZ",
        "outputId": "91e8195a-d686-43a5-bef0-e7606813362b"
      },
      "source": [
        "model(first(dls.valid)[0])[10], first(dls.valid)[1][0]"
      ],
      "execution_count": 132,
      "outputs": [
        {
          "output_type": "stream",
          "text": [
            "/usr/local/lib/python3.7/dist-packages/torch/nn/modules/container.py:139: UserWarning: Implicit dimension choice for softmax has been deprecated. Change the call to include dim=X as an argument.\n",
            "  input = module(input)\n"
          ],
          "name": "stderr"
        },
        {
          "output_type": "execute_result",
          "data": {
            "text/plain": [
              "(tensor([nan, nan, nan, nan, nan, nan, nan, nan, nan, nan], grad_fn=<SelectBackward>),\n",
              " tensor([0]))"
            ]
          },
          "metadata": {},
          "execution_count": 132
        }
      ]
    },
    {
      "cell_type": "code",
      "metadata": {
        "colab": {
          "base_uri": "https://localhost:8080/"
        },
        "id": "YFbI9OqYsK9w",
        "outputId": "f80eb924-5e85-44db-de33-61d84bd284d0"
      },
      "source": [
        "list(dls.valid)[10][1][0]"
      ],
      "execution_count": 290,
      "outputs": [
        {
          "output_type": "execute_result",
          "data": {
            "text/plain": [
              "tensor([2])"
            ]
          },
          "metadata": {},
          "execution_count": 290
        }
      ]
    },
    {
      "cell_type": "code",
      "metadata": {
        "colab": {
          "base_uri": "https://localhost:8080/",
          "height": 282
        },
        "id": "dj_7SRfdZqE6",
        "outputId": "8e9b4127-b8ea-445b-ad87-12b58ba65036"
      },
      "source": [
        "valid_dl = list(dls.valid)\n",
        "x_0 = valid_dl[0][0][0]\n",
        "y_0 = valid_dl[0][1][0]\n",
        "plt.imshow(x_0.view(28, 28)), y_0"
      ],
      "execution_count": 283,
      "outputs": [
        {
          "output_type": "execute_result",
          "data": {
            "text/plain": [
              "(<matplotlib.image.AxesImage at 0x7f0220f3acd0>, tensor([0]))"
            ]
          },
          "metadata": {},
          "execution_count": 283
        },
        {
          "output_type": "display_data",
          "data": {
            "image/png": "[encoded data removed]",
            "text/plain": [
              "<Figure size 432x288 with 1 Axes>"
            ]
          },
          "metadata": {
            "needs_background": "light"
          }
        }
      ]
    },
    {
      "cell_type": "code",
      "metadata": {
        "colab": {
          "base_uri": "https://localhost:8080/"
        },
        "id": "K20xUcqdbWmw",
        "outputId": "aa40effb-1811-45db-f429-80307c44c11f"
      },
      "source": [
        "# see if the model predicts 0\n",
        "simple_net(x_0).argmax()"
      ],
      "execution_count": 157,
      "outputs": [
        {
          "output_type": "stream",
          "text": [
            "/usr/local/lib/python3.7/dist-packages/torch/nn/modules/container.py:139: UserWarning: Implicit dimension choice for softmax has been deprecated. Change the call to include dim=X as an argument.\n",
            "  input = module(input)\n"
          ],
          "name": "stderr"
        },
        {
          "output_type": "execute_result",
          "data": {
            "text/plain": [
              "tensor(0)"
            ]
          },
          "metadata": {},
          "execution_count": 157
        }
      ]
    },
    {
      "cell_type": "code",
      "metadata": {
        "id": "I5WfHzPriyHG"
      },
      "source": [
        "# os.chdir('C:/Users')\n",
        "path = Path('/content')\n",
        "im_paths = (path/'sample_data'/'mnist_test').ls()"
      ],
      "execution_count": 193,
      "outputs": []
    },
    {
      "cell_type": "code",
      "metadata": {
        "colab": {
          "base_uri": "https://localhost:8080/"
        },
        "id": "UAFdkJEhibtz",
        "outputId": "87ff1813-22e9-4bcc-f486-0d051c4c9b68"
      },
      "source": [
        "im_1 = im_paths[0]\n",
        "im_1"
      ],
      "execution_count": 194,
      "outputs": [
        {
          "output_type": "execute_result",
          "data": {
            "text/plain": [
              "Path('/content/sample_data/mnist_test/20210823_151934.jpg')"
            ]
          },
          "metadata": {},
          "execution_count": 194
        }
      ]
    },
    {
      "cell_type": "code",
      "metadata": {
        "colab": {
          "base_uri": "https://localhost:8080/",
          "height": 282
        },
        "id": "dNS9v9tseU-Q",
        "outputId": "90d561ac-2a5a-4fbb-ea7d-daeab48b90e1"
      },
      "source": [
        "\n",
        "img =  255-tensor(Image.open(im_paths[0]).convert('L').resize((28, 28)))\n",
        "plt.imshow(img)"
      ],
      "execution_count": 239,
      "outputs": [
        {
          "output_type": "execute_result",
          "data": {
            "text/plain": [
              "<matplotlib.image.AxesImage at 0x7f021899fed0>"
            ]
          },
          "metadata": {},
          "execution_count": 239
        },
        {
          "output_type": "display_data",
          "data": {
            "image/png": "[encoded data removed]",
            "text/plain": [
              "<Figure size 432x288 with 1 Axes>"
            ]
          },
          "metadata": {
            "needs_background": "light"
          }
        }
      ]
    },
    {
      "cell_type": "code",
      "metadata": {
        "colab": {
          "base_uri": "https://localhost:8080/"
        },
        "id": "iYtX9NLFfYQf",
        "outputId": "a43c385c-6e11-409d-abfe-ca18d245f17e"
      },
      "source": [
        "get_tensors_from_path_list = lambda path_list: torch.stack([255-tensor(Image.open(file_url).resize((28, 28)).convert('L')) for file_url in path_list]).float()/255\n",
        "\n",
        "im_tens = get_tensors_from_path_list(im_paths)\n",
        "im_tens.shape"
      ],
      "execution_count": 240,
      "outputs": [
        {
          "output_type": "execute_result",
          "data": {
            "text/plain": [
              "torch.Size([7, 28, 28])"
            ]
          },
          "metadata": {},
          "execution_count": 240
        }
      ]
    },
    {
      "cell_type": "code",
      "metadata": {
        "colab": {
          "base_uri": "https://localhost:8080/"
        },
        "id": "DRgmnXHWqDXM",
        "outputId": "6b16d929-545e-462f-d19b-b65e54cd9b53"
      },
      "source": [
        "torch.all(im_tens[0] == img.float()/255)"
      ],
      "execution_count": 255,
      "outputs": [
        {
          "output_type": "execute_result",
          "data": {
            "text/plain": [
              "tensor(False)"
            ]
          },
          "metadata": {},
          "execution_count": 255
        }
      ]
    },
    {
      "cell_type": "code",
      "metadata": {
        "colab": {
          "base_uri": "https://localhost:8080/",
          "height": 282
        },
        "id": "QXD--3HnlxR1",
        "outputId": "cb460243-cffe-48cd-911d-1f0d4c0d64cd"
      },
      "source": [
        "plt.imshow(im_tens[0])"
      ],
      "execution_count": 258,
      "outputs": [
        {
          "output_type": "execute_result",
          "data": {
            "text/plain": [
              "<matplotlib.image.AxesImage at 0x7f02187c8850>"
            ]
          },
          "metadata": {},
          "execution_count": 258
        },
        {
          "output_type": "display_data",
          "data": {
            "image/png": "[encoded data removed]",
            "text/plain": [
              "<Figure size 432x288 with 1 Axes>"
            ]
          },
          "metadata": {
            "needs_background": "light"
          }
        }
      ]
    },
    {
      "cell_type": "code",
      "metadata": {
        "colab": {
          "base_uri": "https://localhost:8080/"
        },
        "id": "RfcN7DVKpDqc",
        "outputId": "6d95c62b-0bc0-4098-e9f5-b5cb123a0f4d"
      },
      "source": [
        "simple_net(im_tens[0].view(-1, 28*28)).argmax()"
      ],
      "execution_count": 259,
      "outputs": [
        {
          "output_type": "stream",
          "text": [
            "/usr/local/lib/python3.7/dist-packages/torch/nn/modules/container.py:139: UserWarning: Implicit dimension choice for softmax has been deprecated. Change the call to include dim=X as an argument.\n",
            "  input = module(input)\n"
          ],
          "name": "stderr"
        },
        {
          "output_type": "execute_result",
          "data": {
            "text/plain": [
              "tensor(8)"
            ]
          },
          "metadata": {},
          "execution_count": 259
        }
      ]
    },
    {
      "cell_type": "code",
      "metadata": {
        "colab": {
          "base_uri": "https://localhost:8080/",
          "height": 282
        },
        "id": "Z28a3qLbpHG2",
        "outputId": "450ed799-c89c-4ab0-9d9f-adc460d7205a"
      },
      "source": [
        "plt.imshow(im_tens[1])"
      ],
      "execution_count": 260,
      "outputs": [
        {
          "output_type": "execute_result",
          "data": {
            "text/plain": [
              "<matplotlib.image.AxesImage at 0x7f021872f250>"
            ]
          },
          "metadata": {},
          "execution_count": 260
        },
        {
          "output_type": "display_data",
          "data": {
            "image/png": "[encoded data removed]",
            "text/plain": [
              "<Figure size 432x288 with 1 Axes>"
            ]
          },
          "metadata": {
            "needs_background": "light"
          }
        }
      ]
    },
    {
      "cell_type": "code",
      "metadata": {
        "colab": {
          "base_uri": "https://localhost:8080/"
        },
        "id": "PSBmcW82pbTQ",
        "outputId": "dd3db6a6-1b4c-4497-a207-8c84ede6be5f"
      },
      "source": [
        "simple_net(im_tens[1].view(-1, 28*28)).argmax()"
      ],
      "execution_count": 261,
      "outputs": [
        {
          "output_type": "stream",
          "text": [
            "/usr/local/lib/python3.7/dist-packages/torch/nn/modules/container.py:139: UserWarning: Implicit dimension choice for softmax has been deprecated. Change the call to include dim=X as an argument.\n",
            "  input = module(input)\n"
          ],
          "name": "stderr"
        },
        {
          "output_type": "execute_result",
          "data": {
            "text/plain": [
              "tensor(8)"
            ]
          },
          "metadata": {},
          "execution_count": 261
        }
      ]
    },
    {
      "cell_type": "code",
      "metadata": {
        "colab": {
          "base_uri": "https://localhost:8080/",
          "height": 282
        },
        "id": "hXCE-G3Wpdey",
        "outputId": "ea7fd42d-0de4-4b76-af11-916d6424d5fa"
      },
      "source": [
        "plt.imshow(im_tens[2])"
      ],
      "execution_count": 262,
      "outputs": [
        {
          "output_type": "execute_result",
          "data": {
            "text/plain": [
              "<matplotlib.image.AxesImage at 0x7f021870cc90>"
            ]
          },
          "metadata": {},
          "execution_count": 262
        },
        {
          "output_type": "display_data",
          "data": {
            "image/png": "[encoded data removed]",
            "text/plain": [
              "<Figure size 432x288 with 1 Axes>"
            ]
          },
          "metadata": {
            "needs_background": "light"
          }
        }
      ]
    },
    {
      "cell_type": "code",
      "metadata": {
        "colab": {
          "base_uri": "https://localhost:8080/"
        },
        "id": "GacUJj2ErMKN",
        "outputId": "2d167f0c-4257-476a-bd8a-40b55f4fa7ec"
      },
      "source": [
        "simple_net(im_tens[2].view(-1, 28*28)).argmax()"
      ],
      "execution_count": 263,
      "outputs": [
        {
          "output_type": "stream",
          "text": [
            "/usr/local/lib/python3.7/dist-packages/torch/nn/modules/container.py:139: UserWarning: Implicit dimension choice for softmax has been deprecated. Change the call to include dim=X as an argument.\n",
            "  input = module(input)\n"
          ],
          "name": "stderr"
        },
        {
          "output_type": "execute_result",
          "data": {
            "text/plain": [
              "tensor(8)"
            ]
          },
          "metadata": {},
          "execution_count": 263
        }
      ]
    },
    {
      "cell_type": "code",
      "metadata": {
        "colab": {
          "base_uri": "https://localhost:8080/"
        },
        "id": "7jDMJFAIrOX1",
        "outputId": "5079dfad-6fa4-402f-94db-6b7afd4ad484"
      },
      "source": [
        "for i in range(7):\n",
        "  print(simple_net(im_tens[i].view(-1, 28*28)).argmax())"
      ],
      "execution_count": 264,
      "outputs": [
        {
          "output_type": "stream",
          "text": [
            "tensor(8)\n",
            "tensor(8)\n",
            "tensor(8)\n",
            "tensor(8)\n",
            "tensor(8)\n",
            "tensor(8)\n",
            "tensor(8)\n"
          ],
          "name": "stdout"
        },
        {
          "output_type": "stream",
          "text": [
            "/usr/local/lib/python3.7/dist-packages/torch/nn/modules/container.py:139: UserWarning: Implicit dimension choice for softmax has been deprecated. Change the call to include dim=X as an argument.\n",
            "  input = module(input)\n"
          ],
          "name": "stderr"
        }
      ]
    },
    {
      "cell_type": "code",
      "metadata": {
        "colab": {
          "base_uri": "https://localhost:8080/"
        },
        "id": "45wysL_trWsG",
        "outputId": "32792d65-5aa5-4c15-e680-3ecbb236dc76"
      },
      "source": [
        "x_1 = valid_dl[10][0][0]\n",
        "y_1 = valid_dl[10][1][0]\n",
        "x_1.shape, y_1.shape"
      ],
      "execution_count": 291,
      "outputs": [
        {
          "output_type": "execute_result",
          "data": {
            "text/plain": [
              "(torch.Size([784]), torch.Size([1]))"
            ]
          },
          "metadata": {},
          "execution_count": 291
        }
      ]
    },
    {
      "cell_type": "code",
      "metadata": {
        "colab": {
          "base_uri": "https://localhost:8080/",
          "height": 282
        },
        "id": "XQqDgYpZrmBX",
        "outputId": "2d3b4ab0-b893-41b1-b47f-3b7d12127426"
      },
      "source": [
        "plt.imshow(x_1.view(28, 28)), y_1"
      ],
      "execution_count": 292,
      "outputs": [
        {
          "output_type": "execute_result",
          "data": {
            "text/plain": [
              "(<matplotlib.image.AxesImage at 0x7f0220f51c90>, tensor([2]))"
            ]
          },
          "metadata": {},
          "execution_count": 292
        },
        {
          "output_type": "display_data",
          "data": {
            "image/png": "[encoded data removed]",
            "text/plain": [
              "<Figure size 432x288 with 1 Axes>"
            ]
          },
          "metadata": {
            "needs_background": "light"
          }
        }
      ]
    },
    {
      "cell_type": "code",
      "metadata": {
        "colab": {
          "base_uri": "https://localhost:8080/"
        },
        "id": "rMSJNZZ8rugZ",
        "outputId": "07d4d513-6fb7-4068-8321-f91f08129f4c"
      },
      "source": [
        "# see if the model predicts 2\n",
        "simple_net(x_1).argmax()"
      ],
      "execution_count": 293,
      "outputs": [
        {
          "output_type": "stream",
          "text": [
            "/usr/local/lib/python3.7/dist-packages/torch/nn/modules/container.py:139: UserWarning: Implicit dimension choice for softmax has been deprecated. Change the call to include dim=X as an argument.\n",
            "  input = module(input)\n"
          ],
          "name": "stderr"
        },
        {
          "output_type": "execute_result",
          "data": {
            "text/plain": [
              "tensor(2)"
            ]
          },
          "metadata": {},
          "execution_count": 293
        }
      ]
    },
    {
      "cell_type": "code",
      "metadata": {
        "colab": {
          "base_uri": "https://localhost:8080/",
          "height": 282
        },
        "id": "CuqN2k59tC6V",
        "outputId": "2c631b2c-724b-4f1f-8c92-84992da78341"
      },
      "source": [
        "x_2 = valid_dl[15][0][0]\n",
        "y_2 = valid_dl[15][1][0]\n",
        "plt.imshow(x_2.view(28, 28)), y_2"
      ],
      "execution_count": 294,
      "outputs": [
        {
          "output_type": "execute_result",
          "data": {
            "text/plain": [
              "(<matplotlib.image.AxesImage at 0x7f0220f27310>, tensor([3]))"
            ]
          },
          "metadata": {},
          "execution_count": 294
        },
        {
          "output_type": "display_data",
          "data": {
            "image/png": "[encoded data removed]",
            "text/plain": [
              "<Figure size 432x288 with 1 Axes>"
            ]
          },
          "metadata": {
            "needs_background": "light"
          }
        }
      ]
    },
    {
      "cell_type": "code",
      "metadata": {
        "colab": {
          "base_uri": "https://localhost:8080/"
        },
        "id": "Wwab2Gn6tMLh",
        "outputId": "5390bbc4-693f-442c-8465-ab2be68ef7d2"
      },
      "source": [
        "# see if the model predicts 2\n",
        "simple_net(x_2).argmax()"
      ],
      "execution_count": 295,
      "outputs": [
        {
          "output_type": "stream",
          "text": [
            "/usr/local/lib/python3.7/dist-packages/torch/nn/modules/container.py:139: UserWarning: Implicit dimension choice for softmax has been deprecated. Change the call to include dim=X as an argument.\n",
            "  input = module(input)\n"
          ],
          "name": "stderr"
        },
        {
          "output_type": "execute_result",
          "data": {
            "text/plain": [
              "tensor(3)"
            ]
          },
          "metadata": {},
          "execution_count": 295
        }
      ]
    },
    {
      "cell_type": "code",
      "metadata": {
        "id": "s3mIhXMXtPJs"
      },
      "source": [
        ""
      ],
      "execution_count": null,
      "outputs": []
    }
  ]
}