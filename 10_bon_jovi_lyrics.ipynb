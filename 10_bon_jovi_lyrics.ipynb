{
  "nbformat": 4,
  "nbformat_minor": 0,
  "metadata": {
    "colab": {
      "name": "lyrics_extended.ipynb",
      "provenance": []
    },
    "kernelspec": {
      "name": "python3",
      "display_name": "Python 3"
    },
    "language_info": {
      "name": "python"
    },
    "accelerator": "GPU"
  },
  "cells": [
    {
      "cell_type": "code",
      "metadata": {
        "id": "pBsJsHAcDzxs"
      },
      "source": [
        "!pip install -Uqq fastbook\n",
        "import fastbook\n",
        "fastbook.setup_book()"
      ],
      "execution_count": 1,
      "outputs": []
    },
    {
      "cell_type": "code",
      "metadata": {
        "id": "UUlT9WyOD1gl"
      },
      "source": [
        "from fastbook import *\n",
        "from fastai.text.all import *"
      ],
      "execution_count": 10,
      "outputs": []
    },
    {
      "cell_type": "code",
      "metadata": {
        "id": "RGrbEYvvD7Kt"
      },
      "source": [
        "import pandas as pd"
      ],
      "execution_count": 11,
      "outputs": []
    },
    {
      "cell_type": "code",
      "metadata": {
        "colab": {
          "base_uri": "https://localhost:8080/",
          "height": 37
        },
        "id": "zaNMUeiVQz0T",
        "outputId": "7fe28429-1d19-428d-c8c5-5027adc1c77d"
      },
      "source": [
        "import os\n",
        "os.getcwd()"
      ],
      "execution_count": 12,
      "outputs": [
        {
          "output_type": "execute_result",
          "data": {
            "application/vnd.google.colaboratory.intrinsic+json": {
              "type": "string"
            },
            "text/plain": [
              "'/content'"
            ]
          },
          "metadata": {},
          "execution_count": 12
        }
      ]
    },
    {
      "cell_type": "markdown",
      "metadata": {
        "id": "7yP5gfuRE5hx"
      },
      "source": [
        "## Practice Creating the Language Model DataLoader"
      ]
    },
    {
      "cell_type": "code",
      "metadata": {
        "colab": {
          "base_uri": "https://localhost:8080/",
          "height": 1000
        },
        "id": "dSg3KRV4EVj2",
        "outputId": "24dcba5e-b61c-4337-b1a2-a6affae8650a"
      },
      "source": [
        "# read and combine the data\n",
        "lyrics_data = pd.read_csv('sample_data/lyrics-data.csv')\n",
        "lyrics_data.rename(columns={\"ALink\": \"Link\"}, inplace=True)\n",
        "artist_data = pd.read_csv('sample_data/artists-data.csv')\n",
        "print(artist_data.columns, lyrics_data.columns)\n",
        "merged_dfs = lyrics_data.merge(artist_data, how='inner', on='Link')\n",
        "eng_artists = merged_dfs.loc[merged_dfs['Idiom'] == 'ENGLISH', ['Artist', 'SName', 'Lyric', 'Genre']].drop_duplicates(subset=['SName'])\n",
        "eng_artists.reset_index(inplace=True, drop=True)\n",
        "\n",
        "eng_artists.head()"
      ],
      "execution_count": 16,
      "outputs": [
        {
          "output_type": "stream",
          "name": "stdout",
          "text": [
            "Index(['Artist', 'Songs', 'Popularity', 'Link', 'Genre', 'Genres'], dtype='object') Index(['Link', 'SName', 'SLink', 'Lyric', 'Idiom'], dtype='object')\n"
          ]
        },
        {
          "output_type": "execute_result",
          "data": {
            "text/html": [
              "<div>\n",
              "<style scoped>\n",
              "    .dataframe tbody tr th:only-of-type {\n",
              "        vertical-align: middle;\n",
              "    }\n",
              "\n",
              "    .dataframe tbody tr th {\n",
              "        vertical-align: top;\n",
              "    }\n",
              "\n",
              "    .dataframe thead th {\n",
              "        text-align: right;\n",
              "    }\n",
              "</style>\n",
              "<table border=\"1\" class=\"dataframe\">\n",
              "  <thead>\n",
              "    <tr style=\"text-align: right;\">\n",
              "      <th></th>\n",
              "      <th>Artist</th>\n",
              "      <th>SName</th>\n",
              "      <th>Lyric</th>\n",
              "      <th>Genre</th>\n",
              "    </tr>\n",
              "  </thead>\n",
              "  <tbody>\n",
              "    <tr>\n",
              "      <th>0</th>\n",
              "      <td>10000 Maniacs</td>\n",
              "      <td>More Than This</td>\n",
              "      <td>I could feel at the time. There was no way of knowing. Fallen leaves in the night. Who can say where they're blowing. As free as the wind. Hopefully learning. Why the sea on the tide. Has no way of turning. More than this. You know there's nothing. More than this. Tell me one thing. More than this. You know there's nothing. It was fun for a while. There was no way of knowing. Like a dream in the night. Who can say where we're going. No care in the world. Maybe I'm learning. Why the sea on the tide. Has no way of turning. More than this. You know there's nothing. More than this. Tell me one...</td>\n",
              "      <td>Rock</td>\n",
              "    </tr>\n",
              "    <tr>\n",
              "      <th>1</th>\n",
              "      <td>10000 Maniacs</td>\n",
              "      <td>Because The Night</td>\n",
              "      <td>Take me now, baby, here as I am. Hold me close, and try and understand. Desire is hunger is the fire I breathe. Love is a banquet on which we feed. Come on now, try and understand. The way I feel under your command. Take my hand, as the sun descends. They can't hurt you now can't hurt you now, can't hurt you now. Because the night belongs to lovers. Because the night belongs to us. Because the night belongs to lovers. Cause the night belongs to us. Have I a doubt, baby, when I'm alone. Love is a ring a telephone. Love is an angel, disguised as lust. Here in our bed 'til the morning comes. ...</td>\n",
              "      <td>Rock</td>\n",
              "    </tr>\n",
              "    <tr>\n",
              "      <th>2</th>\n",
              "      <td>10000 Maniacs</td>\n",
              "      <td>These Are Days</td>\n",
              "      <td>These are. These are days you'll remember. Never before and never since, I promise. Will the whole world be warm as this. And as you feel it,. You'll know it's true. That you - you are blessed and lucky. It's true - that you. Are touched by something. That will grow and bloom in you. These are days you'll remember. When May is rushing over you. With desire to be part of the miracles. You see in every hour. You'll know it's true. That you are blessed and lucky. It's true that you are touched. By something that will grow and bloom in you. These are days. These are the days you might fill. Wi...</td>\n",
              "      <td>Rock</td>\n",
              "    </tr>\n",
              "    <tr>\n",
              "      <th>3</th>\n",
              "      <td>10000 Maniacs</td>\n",
              "      <td>A Campfire Song</td>\n",
              "      <td>A lie to say, \"O my mountain has coal veins and beds to dig.. 500 men with axes and they all dig for me.\" A lie to ssay, \"O my. river where mant fish do swim, half of the catch is mine when you haul. your nets in.\" Never will he believe that his greed is a blinding. ray. No devil or redeemer will cheat him. He'll take his gold to. where he's lying cold.. A lie to say, \"O my mine gave a diamond as big as a fist.\". But with every gem in his pocket, the jewels he has missed. A lie to. say, \"O my garden is growing taller by the day.\" He only eats the. best and tosses the rest away. Never will ...</td>\n",
              "      <td>Rock</td>\n",
              "    </tr>\n",
              "    <tr>\n",
              "      <th>4</th>\n",
              "      <td>10000 Maniacs</td>\n",
              "      <td>Everyday Is Like Sunday</td>\n",
              "      <td>Trudging slowly over wet sand. Back to the bench where your clothes were stolen. This is a coastal town. That they forgot to close down. Armagedon - come armagedon come armagedon come. Everyday is like sunday. Everyday is silent and grey. Hide on a promanade. Etch on a post card:. How I dearly wish I was not here. In the seaside town. That they forgot to bomb. Come, come nuclear bomb!. Everyday is like sunday. Everyday is silent and grey. Trudging back over pebbles and sand. And a strange dust lands on your hands. (and on your face). Everyday is like sunday. Win yourself a cheap tray. Shar...</td>\n",
              "      <td>Rock</td>\n",
              "    </tr>\n",
              "  </tbody>\n",
              "</table>\n",
              "</div>"
            ],
            "text/plain": [
              "          Artist                    SName  \\\n",
              "0  10000 Maniacs           More Than This   \n",
              "1  10000 Maniacs        Because The Night   \n",
              "2  10000 Maniacs           These Are Days   \n",
              "3  10000 Maniacs          A Campfire Song   \n",
              "4  10000 Maniacs  Everyday Is Like Sunday   \n",
              "\n",
              "                                                                                                                                                                                                                                                                                                                                                                                                                                                                                                                                                                                                                     Lyric  \\\n",
              "0  I could feel at the time. There was no way of knowing. Fallen leaves in the night. Who can say where they're blowing. As free as the wind. Hopefully learning. Why the sea on the tide. Has no way of turning. More than this. You know there's nothing. More than this. Tell me one thing. More than this. You know there's nothing. It was fun for a while. There was no way of knowing. Like a dream in the night. Who can say where we're going. No care in the world. Maybe I'm learning. Why the sea on the tide. Has no way of turning. More than this. You know there's nothing. More than this. Tell me one...   \n",
              "1  Take me now, baby, here as I am. Hold me close, and try and understand. Desire is hunger is the fire I breathe. Love is a banquet on which we feed. Come on now, try and understand. The way I feel under your command. Take my hand, as the sun descends. They can't hurt you now can't hurt you now, can't hurt you now. Because the night belongs to lovers. Because the night belongs to us. Because the night belongs to lovers. Cause the night belongs to us. Have I a doubt, baby, when I'm alone. Love is a ring a telephone. Love is an angel, disguised as lust. Here in our bed 'til the morning comes. ...   \n",
              "2  These are. These are days you'll remember. Never before and never since, I promise. Will the whole world be warm as this. And as you feel it,. You'll know it's true. That you - you are blessed and lucky. It's true - that you. Are touched by something. That will grow and bloom in you. These are days you'll remember. When May is rushing over you. With desire to be part of the miracles. You see in every hour. You'll know it's true. That you are blessed and lucky. It's true that you are touched. By something that will grow and bloom in you. These are days. These are the days you might fill. Wi...   \n",
              "3  A lie to say, \"O my mountain has coal veins and beds to dig.. 500 men with axes and they all dig for me.\" A lie to ssay, \"O my. river where mant fish do swim, half of the catch is mine when you haul. your nets in.\" Never will he believe that his greed is a blinding. ray. No devil or redeemer will cheat him. He'll take his gold to. where he's lying cold.. A lie to say, \"O my mine gave a diamond as big as a fist.\". But with every gem in his pocket, the jewels he has missed. A lie to. say, \"O my garden is growing taller by the day.\" He only eats the. best and tosses the rest away. Never will ...   \n",
              "4  Trudging slowly over wet sand. Back to the bench where your clothes were stolen. This is a coastal town. That they forgot to close down. Armagedon - come armagedon come armagedon come. Everyday is like sunday. Everyday is silent and grey. Hide on a promanade. Etch on a post card:. How I dearly wish I was not here. In the seaside town. That they forgot to bomb. Come, come nuclear bomb!. Everyday is like sunday. Everyday is silent and grey. Trudging back over pebbles and sand. And a strange dust lands on your hands. (and on your face). Everyday is like sunday. Win yourself a cheap tray. Shar...   \n",
              "\n",
              "  Genre  \n",
              "0  Rock  \n",
              "1  Rock  \n",
              "2  Rock  \n",
              "3  Rock  \n",
              "4  Rock  "
            ]
          },
          "metadata": {},
          "execution_count": 16
        }
      ]
    },
    {
      "cell_type": "code",
      "metadata": {
        "colab": {
          "base_uri": "https://localhost:8080/",
          "height": 1000
        },
        "id": "tsdGDfB8UCaB",
        "outputId": "49e2f806-70d3-4782-bb1d-5ed7080bd06a"
      },
      "source": [
        "eng_artists.loc[eng_artists['Artist'] == 'Bon Jovi'].head()"
      ],
      "execution_count": 29,
      "outputs": [
        {
          "output_type": "execute_result",
          "data": {
            "text/html": [
              "<div>\n",
              "<style scoped>\n",
              "    .dataframe tbody tr th:only-of-type {\n",
              "        vertical-align: middle;\n",
              "    }\n",
              "\n",
              "    .dataframe tbody tr th {\n",
              "        vertical-align: top;\n",
              "    }\n",
              "\n",
              "    .dataframe thead th {\n",
              "        text-align: right;\n",
              "    }\n",
              "</style>\n",
              "<table border=\"1\" class=\"dataframe\">\n",
              "  <thead>\n",
              "    <tr style=\"text-align: right;\">\n",
              "      <th></th>\n",
              "      <th>Artist</th>\n",
              "      <th>SName</th>\n",
              "      <th>Lyric</th>\n",
              "      <th>Genre</th>\n",
              "    </tr>\n",
              "  </thead>\n",
              "  <tbody>\n",
              "    <tr>\n",
              "      <th>5766</th>\n",
              "      <td>Bon Jovi</td>\n",
              "      <td>It's My Life</td>\n",
              "      <td>This ain't a song for the broken-hearted. No silent prayer for the faith-departed. I ain't gonna be just a face in the crowd. You're gonna hear my voice when I shout it out loud. It's my life. It's now or never. I ain't gonna live forever. I just want to live while I'm alive. (It's my life). My heart is like an open highway. Like Frankie said. I did it my way. I just wanna live while I'm alive. It's my life. This is for the ones who stood their ground. For Tommy and Gina who never backed down. Tomorrow's getting harder make no mistake. Luck ain't even lucky. Got to make your own breaks. It...</td>\n",
              "      <td>Rock</td>\n",
              "    </tr>\n",
              "    <tr>\n",
              "      <th>5767</th>\n",
              "      <td>Bon Jovi</td>\n",
              "      <td>Livin' On A Prayer</td>\n",
              "      <td>Once upon a time. Not so long ago. Tommy used to work on the docks. Union's been on strike. He's down on his luck. It's tough, so tough. Gina works the diner all day. Working for her man, she brings home her pay. For love, for love. She says, we've got to hold on to what we've got. It doesn't make a difference if we make it or not. We've got each other and that's a lot for love. We'll give it a shot. We're half way there. Livin' on a prayer. Take my hand, we'll make it, I swear. Livin' on a prayer. Tommy got his six string in hock. Now he's holding in. When he used to make it talk, so toug...</td>\n",
              "      <td>Rock</td>\n",
              "    </tr>\n",
              "    <tr>\n",
              "      <th>5768</th>\n",
              "      <td>Bon Jovi</td>\n",
              "      <td>I'll Be There For You</td>\n",
              "      <td>I guess this time you're really leaving. I heard your suitcase say goodbye. And as my broken heart lies bleeding. You say true love is suicide. You say you've cried a thousand rivers. And now you're swimming for the shore. You left me drowning in my tears. And you won't save me anymore. I'll pray to God to give me one more chance, girl. I'll be there for you. These five words I swear to you. When you breathe I wanna be the air for you. I'll be there for you. I'd live and I'd die for you. I'll steal the sun from the sky for you. Words can't say what love can do. I'll be there for you. I kno...</td>\n",
              "      <td>Rock</td>\n",
              "    </tr>\n",
              "    <tr>\n",
              "      <th>5769</th>\n",
              "      <td>Bon Jovi</td>\n",
              "      <td>Bed Of Roses</td>\n",
              "      <td>Sitting here, wasted and wounded. At this old piano. Trying hard to capture the moment. This morning I don't know. 'Cause a bottle of vodka. Is still lodged in my head. And some blond gave me nightmares. I think that she's still in my bed. As I dream about movies. They won't make of me when I'm dead. With an ironclad fist I wake up. And french kiss the morning. While some marching band keeps. It's own beat in my head. While we're talking. About all of the things that I long to believe. About love, the truth. And what you mean to me. And the truth is baby, you're all that I need. I wanna la...</td>\n",
              "      <td>Rock</td>\n",
              "    </tr>\n",
              "    <tr>\n",
              "      <th>5770</th>\n",
              "      <td>Bon Jovi</td>\n",
              "      <td>Misunderstood</td>\n",
              "      <td>Should I? Could I?. Have said the wrong things right a thousand times. If I could just rewind, I see it in my mind. If I could turn back time, you'd still be mine. You cried, I died. I should have shut my mouth, things headed south. As the words slipped off my tongue,. They sounded dumb. If this old heart could talk,. It'd say you're the one. I'm wasting time when I think about it. [Chorus:]. I should have drove all night,. I would have run all the lights. I was misunderstood. I stumbled like my words, Did the best I could. Damn, misunderstood. Could I? Should I?. Apologize for sleeping on...</td>\n",
              "      <td>Rock</td>\n",
              "    </tr>\n",
              "  </tbody>\n",
              "</table>\n",
              "</div>"
            ],
            "text/plain": [
              "        Artist                  SName  \\\n",
              "5766  Bon Jovi           It's My Life   \n",
              "5767  Bon Jovi     Livin' On A Prayer   \n",
              "5768  Bon Jovi  I'll Be There For You   \n",
              "5769  Bon Jovi           Bed Of Roses   \n",
              "5770  Bon Jovi          Misunderstood   \n",
              "\n",
              "                                                                                                                                                                                                                                                                                                                                                                                                                                                                                                                                                                                                                        Lyric  \\\n",
              "5766  This ain't a song for the broken-hearted. No silent prayer for the faith-departed. I ain't gonna be just a face in the crowd. You're gonna hear my voice when I shout it out loud. It's my life. It's now or never. I ain't gonna live forever. I just want to live while I'm alive. (It's my life). My heart is like an open highway. Like Frankie said. I did it my way. I just wanna live while I'm alive. It's my life. This is for the ones who stood their ground. For Tommy and Gina who never backed down. Tomorrow's getting harder make no mistake. Luck ain't even lucky. Got to make your own breaks. It...   \n",
              "5767  Once upon a time. Not so long ago. Tommy used to work on the docks. Union's been on strike. He's down on his luck. It's tough, so tough. Gina works the diner all day. Working for her man, she brings home her pay. For love, for love. She says, we've got to hold on to what we've got. It doesn't make a difference if we make it or not. We've got each other and that's a lot for love. We'll give it a shot. We're half way there. Livin' on a prayer. Take my hand, we'll make it, I swear. Livin' on a prayer. Tommy got his six string in hock. Now he's holding in. When he used to make it talk, so toug...   \n",
              "5768  I guess this time you're really leaving. I heard your suitcase say goodbye. And as my broken heart lies bleeding. You say true love is suicide. You say you've cried a thousand rivers. And now you're swimming for the shore. You left me drowning in my tears. And you won't save me anymore. I'll pray to God to give me one more chance, girl. I'll be there for you. These five words I swear to you. When you breathe I wanna be the air for you. I'll be there for you. I'd live and I'd die for you. I'll steal the sun from the sky for you. Words can't say what love can do. I'll be there for you. I kno...   \n",
              "5769  Sitting here, wasted and wounded. At this old piano. Trying hard to capture the moment. This morning I don't know. 'Cause a bottle of vodka. Is still lodged in my head. And some blond gave me nightmares. I think that she's still in my bed. As I dream about movies. They won't make of me when I'm dead. With an ironclad fist I wake up. And french kiss the morning. While some marching band keeps. It's own beat in my head. While we're talking. About all of the things that I long to believe. About love, the truth. And what you mean to me. And the truth is baby, you're all that I need. I wanna la...   \n",
              "5770  Should I? Could I?. Have said the wrong things right a thousand times. If I could just rewind, I see it in my mind. If I could turn back time, you'd still be mine. You cried, I died. I should have shut my mouth, things headed south. As the words slipped off my tongue,. They sounded dumb. If this old heart could talk,. It'd say you're the one. I'm wasting time when I think about it. [Chorus:]. I should have drove all night,. I would have run all the lights. I was misunderstood. I stumbled like my words, Did the best I could. Damn, misunderstood. Could I? Should I?. Apologize for sleeping on...   \n",
              "\n",
              "     Genre  \n",
              "5766  Rock  \n",
              "5767  Rock  \n",
              "5768  Rock  \n",
              "5769  Rock  \n",
              "5770  Rock  "
            ]
          },
          "metadata": {},
          "execution_count": 29
        }
      ]
    },
    {
      "cell_type": "code",
      "metadata": {
        "colab": {
          "base_uri": "https://localhost:8080/",
          "height": 1000
        },
        "id": "owG1bzLfEX7m",
        "outputId": "bbe6228d-eb07-40e3-bba1-a2664f5fe9b8"
      },
      "source": [
        "artist_name = \"Bon Jovi\"\n",
        "\n",
        "artist_df = eng_artists.loc[eng_artists['Artist'] == artist_name].reset_index(drop=True)\n",
        "artist_df.head()"
      ],
      "execution_count": 30,
      "outputs": [
        {
          "output_type": "execute_result",
          "data": {
            "text/html": [
              "<div>\n",
              "<style scoped>\n",
              "    .dataframe tbody tr th:only-of-type {\n",
              "        vertical-align: middle;\n",
              "    }\n",
              "\n",
              "    .dataframe tbody tr th {\n",
              "        vertical-align: top;\n",
              "    }\n",
              "\n",
              "    .dataframe thead th {\n",
              "        text-align: right;\n",
              "    }\n",
              "</style>\n",
              "<table border=\"1\" class=\"dataframe\">\n",
              "  <thead>\n",
              "    <tr style=\"text-align: right;\">\n",
              "      <th></th>\n",
              "      <th>Artist</th>\n",
              "      <th>SName</th>\n",
              "      <th>Lyric</th>\n",
              "      <th>Genre</th>\n",
              "    </tr>\n",
              "  </thead>\n",
              "  <tbody>\n",
              "    <tr>\n",
              "      <th>0</th>\n",
              "      <td>Bon Jovi</td>\n",
              "      <td>It's My Life</td>\n",
              "      <td>This ain't a song for the broken-hearted. No silent prayer for the faith-departed. I ain't gonna be just a face in the crowd. You're gonna hear my voice when I shout it out loud. It's my life. It's now or never. I ain't gonna live forever. I just want to live while I'm alive. (It's my life). My heart is like an open highway. Like Frankie said. I did it my way. I just wanna live while I'm alive. It's my life. This is for the ones who stood their ground. For Tommy and Gina who never backed down. Tomorrow's getting harder make no mistake. Luck ain't even lucky. Got to make your own breaks. It...</td>\n",
              "      <td>Rock</td>\n",
              "    </tr>\n",
              "    <tr>\n",
              "      <th>1</th>\n",
              "      <td>Bon Jovi</td>\n",
              "      <td>Livin' On A Prayer</td>\n",
              "      <td>Once upon a time. Not so long ago. Tommy used to work on the docks. Union's been on strike. He's down on his luck. It's tough, so tough. Gina works the diner all day. Working for her man, she brings home her pay. For love, for love. She says, we've got to hold on to what we've got. It doesn't make a difference if we make it or not. We've got each other and that's a lot for love. We'll give it a shot. We're half way there. Livin' on a prayer. Take my hand, we'll make it, I swear. Livin' on a prayer. Tommy got his six string in hock. Now he's holding in. When he used to make it talk, so toug...</td>\n",
              "      <td>Rock</td>\n",
              "    </tr>\n",
              "    <tr>\n",
              "      <th>2</th>\n",
              "      <td>Bon Jovi</td>\n",
              "      <td>I'll Be There For You</td>\n",
              "      <td>I guess this time you're really leaving. I heard your suitcase say goodbye. And as my broken heart lies bleeding. You say true love is suicide. You say you've cried a thousand rivers. And now you're swimming for the shore. You left me drowning in my tears. And you won't save me anymore. I'll pray to God to give me one more chance, girl. I'll be there for you. These five words I swear to you. When you breathe I wanna be the air for you. I'll be there for you. I'd live and I'd die for you. I'll steal the sun from the sky for you. Words can't say what love can do. I'll be there for you. I kno...</td>\n",
              "      <td>Rock</td>\n",
              "    </tr>\n",
              "    <tr>\n",
              "      <th>3</th>\n",
              "      <td>Bon Jovi</td>\n",
              "      <td>Bed Of Roses</td>\n",
              "      <td>Sitting here, wasted and wounded. At this old piano. Trying hard to capture the moment. This morning I don't know. 'Cause a bottle of vodka. Is still lodged in my head. And some blond gave me nightmares. I think that she's still in my bed. As I dream about movies. They won't make of me when I'm dead. With an ironclad fist I wake up. And french kiss the morning. While some marching band keeps. It's own beat in my head. While we're talking. About all of the things that I long to believe. About love, the truth. And what you mean to me. And the truth is baby, you're all that I need. I wanna la...</td>\n",
              "      <td>Rock</td>\n",
              "    </tr>\n",
              "    <tr>\n",
              "      <th>4</th>\n",
              "      <td>Bon Jovi</td>\n",
              "      <td>Misunderstood</td>\n",
              "      <td>Should I? Could I?. Have said the wrong things right a thousand times. If I could just rewind, I see it in my mind. If I could turn back time, you'd still be mine. You cried, I died. I should have shut my mouth, things headed south. As the words slipped off my tongue,. They sounded dumb. If this old heart could talk,. It'd say you're the one. I'm wasting time when I think about it. [Chorus:]. I should have drove all night,. I would have run all the lights. I was misunderstood. I stumbled like my words, Did the best I could. Damn, misunderstood. Could I? Should I?. Apologize for sleeping on...</td>\n",
              "      <td>Rock</td>\n",
              "    </tr>\n",
              "  </tbody>\n",
              "</table>\n",
              "</div>"
            ],
            "text/plain": [
              "     Artist                  SName  \\\n",
              "0  Bon Jovi           It's My Life   \n",
              "1  Bon Jovi     Livin' On A Prayer   \n",
              "2  Bon Jovi  I'll Be There For You   \n",
              "3  Bon Jovi           Bed Of Roses   \n",
              "4  Bon Jovi          Misunderstood   \n",
              "\n",
              "                                                                                                                                                                                                                                                                                                                                                                                                                                                                                                                                                                                                                     Lyric  \\\n",
              "0  This ain't a song for the broken-hearted. No silent prayer for the faith-departed. I ain't gonna be just a face in the crowd. You're gonna hear my voice when I shout it out loud. It's my life. It's now or never. I ain't gonna live forever. I just want to live while I'm alive. (It's my life). My heart is like an open highway. Like Frankie said. I did it my way. I just wanna live while I'm alive. It's my life. This is for the ones who stood their ground. For Tommy and Gina who never backed down. Tomorrow's getting harder make no mistake. Luck ain't even lucky. Got to make your own breaks. It...   \n",
              "1  Once upon a time. Not so long ago. Tommy used to work on the docks. Union's been on strike. He's down on his luck. It's tough, so tough. Gina works the diner all day. Working for her man, she brings home her pay. For love, for love. She says, we've got to hold on to what we've got. It doesn't make a difference if we make it or not. We've got each other and that's a lot for love. We'll give it a shot. We're half way there. Livin' on a prayer. Take my hand, we'll make it, I swear. Livin' on a prayer. Tommy got his six string in hock. Now he's holding in. When he used to make it talk, so toug...   \n",
              "2  I guess this time you're really leaving. I heard your suitcase say goodbye. And as my broken heart lies bleeding. You say true love is suicide. You say you've cried a thousand rivers. And now you're swimming for the shore. You left me drowning in my tears. And you won't save me anymore. I'll pray to God to give me one more chance, girl. I'll be there for you. These five words I swear to you. When you breathe I wanna be the air for you. I'll be there for you. I'd live and I'd die for you. I'll steal the sun from the sky for you. Words can't say what love can do. I'll be there for you. I kno...   \n",
              "3  Sitting here, wasted and wounded. At this old piano. Trying hard to capture the moment. This morning I don't know. 'Cause a bottle of vodka. Is still lodged in my head. And some blond gave me nightmares. I think that she's still in my bed. As I dream about movies. They won't make of me when I'm dead. With an ironclad fist I wake up. And french kiss the morning. While some marching band keeps. It's own beat in my head. While we're talking. About all of the things that I long to believe. About love, the truth. And what you mean to me. And the truth is baby, you're all that I need. I wanna la...   \n",
              "4  Should I? Could I?. Have said the wrong things right a thousand times. If I could just rewind, I see it in my mind. If I could turn back time, you'd still be mine. You cried, I died. I should have shut my mouth, things headed south. As the words slipped off my tongue,. They sounded dumb. If this old heart could talk,. It'd say you're the one. I'm wasting time when I think about it. [Chorus:]. I should have drove all night,. I would have run all the lights. I was misunderstood. I stumbled like my words, Did the best I could. Damn, misunderstood. Could I? Should I?. Apologize for sleeping on...   \n",
              "\n",
              "  Genre  \n",
              "0  Rock  \n",
              "1  Rock  \n",
              "2  Rock  \n",
              "3  Rock  \n",
              "4  Rock  "
            ]
          },
          "metadata": {},
          "execution_count": 30
        }
      ]
    },
    {
      "cell_type": "code",
      "metadata": {
        "colab": {
          "base_uri": "https://localhost:8080/",
          "height": 259
        },
        "id": "Ulp5NZiqGQH_",
        "outputId": "ea211a89-98a5-4eee-b197-8ba8e5f3c555"
      },
      "source": [
        "spacy = WordTokenizer()\n",
        "tokenizer = Tokenizer(spacy)\n",
        "\n",
        "test_txt = artist_df.loc[0, 'Lyric']\n",
        "test_txt"
      ],
      "execution_count": 31,
      "outputs": [
        {
          "output_type": "execute_result",
          "data": {
            "application/vnd.google.colaboratory.intrinsic+json": {
              "type": "string"
            },
            "text/plain": [
              "\"This ain't a song for the broken-hearted. No silent prayer for the faith-departed. I ain't gonna be just a face in the crowd. You're gonna hear my voice when I shout it out loud. It's my life. It's now or never. I ain't gonna live forever. I just want to live while I'm alive. (It's my life). My heart is like an open highway. Like Frankie said. I did it my way. I just wanna live while I'm alive. It's my life. This is for the ones who stood their ground. For Tommy and Gina who never backed down. Tomorrow's getting harder make no mistake. Luck ain't even lucky. Got to make your own breaks. It's my life. It's now or never. I ain't gonna live forever. I just want to live while I'm alive. (It's my life). My heart is like an open highway. Like Frankie said. I did it my way. I just wanna live while I'm alive. 'Cause it's my life. Better stand tall when they're calling you out. Don't bend, don't break, baby, don't back down. It's my life. It's now or never. 'Cause I ain't gonna live forever. I just want to live while I'm alive. (It's my life). My heart is like an open highway. Like Frankie said. I did it my way. I just wanna live while I'm alive. (It's my life). It's now or never. I ain't gonna live forever. I just want to live while I'm alive. (It's my life). My heart is like an open highway. Like Frankie said. I did it my way. I just wanna live while I'm alive. 'Cause It's my life\""
            ]
          },
          "metadata": {},
          "execution_count": 31
        }
      ]
    },
    {
      "cell_type": "code",
      "metadata": {
        "colab": {
          "base_uri": "https://localhost:8080/"
        },
        "id": "Tx3uBOV3HMBZ",
        "outputId": "34523aa7-160d-4f2c-cf0a-3b0241ea5cc1"
      },
      "source": [
        "tokenized_txt = tokenizer(test_txt)\n",
        "tokenized_txt"
      ],
      "execution_count": 32,
      "outputs": [
        {
          "output_type": "execute_result",
          "data": {
            "text/plain": [
              "(#425) ['xxbos','xxmaj','this','ai',\"n't\",'a','song','for','the','broken'...]"
            ]
          },
          "metadata": {},
          "execution_count": 32
        }
      ]
    },
    {
      "cell_type": "markdown",
      "metadata": {
        "id": "6AlLBSYyHk3O"
      },
      "source": [
        "## Numericalization"
      ]
    },
    {
      "cell_type": "code",
      "metadata": {
        "colab": {
          "base_uri": "https://localhost:8080/"
        },
        "id": "RWMeIkbdHfnR",
        "outputId": "d89c7134-949d-4bac-df52-9ff9ae12a02e"
      },
      "source": [
        "numericalizer = Numericalize()\n",
        "\n",
        "# get all songs tokenized\n",
        "all_tokens = artist_df['Lyric'].map(tokenizer)\n",
        "all_tokens[0]"
      ],
      "execution_count": 33,
      "outputs": [
        {
          "output_type": "execute_result",
          "data": {
            "text/plain": [
              "(#425) ['xxbos','xxmaj','this','ai',\"n't\",'a','song','for','the','broken'...]"
            ]
          },
          "metadata": {},
          "execution_count": 33
        }
      ]
    },
    {
      "cell_type": "code",
      "metadata": {
        "colab": {
          "base_uri": "https://localhost:8080/"
        },
        "id": "JZXkrOQ1IBSF",
        "outputId": "6f14bc02-9cb9-429d-957a-8dbe70db2c44"
      },
      "source": [
        "# apply the numericalizer to all songs\n",
        "numericalizer.setup(all_tokens)\n",
        "len(numericalizer.vocab)"
      ],
      "execution_count": 34,
      "outputs": [
        {
          "output_type": "execute_result",
          "data": {
            "text/plain": [
              "1872"
            ]
          },
          "metadata": {},
          "execution_count": 34
        }
      ]
    },
    {
      "cell_type": "code",
      "metadata": {
        "colab": {
          "base_uri": "https://localhost:8080/",
          "height": 259
        },
        "id": "Pa3kHozlILwc",
        "outputId": "cb864da8-28b6-4cd2-f30f-46d1f14b9bb6"
      },
      "source": [
        "# check the numericalizer on the test_txt\n",
        "test_numer = numericalizer(tokenized_txt)\n",
        "\n",
        "\" \".join(numericalizer.vocab[num] for num in test_numer)"
      ],
      "execution_count": 35,
      "outputs": [
        {
          "output_type": "execute_result",
          "data": {
            "application/vnd.google.colaboratory.intrinsic+json": {
              "type": "string"
            },
            "text/plain": [
              "\"xxbos xxmaj this ai n't a song for the broken - hearted . xxmaj no silent prayer for the faith - xxunk . i ai n't gon na be just a face in the crowd . xxmaj you 're gon na hear my voice when i shout it out loud . xxmaj it 's my life . xxmaj it 's now or never . i ai n't gon na live forever . i just want to live while xxmaj i 'm alive . ( it 's my life ) . xxmaj my heart is like an open highway . xxmaj like xxmaj frankie said . i did it my way . i just wanna live while xxmaj i 'm alive . xxmaj it 's my life . xxmaj this is for the ones who stood their ground . xxmaj for xxmaj tommy and xxmaj gina who never xxunk down . xxmaj tomorrow 's getting harder make no mistake . xxmaj luck ai n't even lucky . xxmaj got to make your own breaks . xxmaj it 's my life . xxmaj it 's now or never . i ai n't gon na live forever . i just want to live while xxmaj i 'm alive . ( it 's my life ) . xxmaj my heart is like an open highway . xxmaj like xxmaj frankie said . i did it my way . i just wanna live while xxmaj i 'm alive . 'cause it 's my life . xxmaj better stand tall when they 're calling you out . xxmaj do n't bend , do n't break , baby , do n't back down . xxmaj it 's my life . xxmaj it 's now or never . 'cause i ai n't gon na live forever . i just want to live while xxmaj i 'm alive . ( it 's my life ) . xxmaj my heart is like an open highway . xxmaj like xxmaj frankie said . i did it my way . i just wanna live while xxmaj i 'm alive . ( it 's my life ) . xxmaj it 's now or never . i ai n't gon na live forever . i just want to live while xxmaj i 'm alive . ( it 's my life ) . xxmaj my heart is like an open highway . xxmaj like xxmaj frankie said . i did it my way . i just wanna live while xxmaj i 'm alive . 'cause xxmaj it 's my life\""
            ]
          },
          "metadata": {},
          "execution_count": 35
        }
      ]
    },
    {
      "cell_type": "code",
      "metadata": {
        "colab": {
          "base_uri": "https://localhost:8080/"
        },
        "id": "wOat1Dn_IgXg",
        "outputId": "94c6a784-c996-46cc-c9ff-9ff96758b113"
      },
      "source": [
        "bon_jovi_dl = LMDataLoader(all_tokens.map(numericalizer))\n",
        "\n",
        "for x, y in bon_jovi_dl:\n",
        "  print(x.shape, y.shape)"
      ],
      "execution_count": 36,
      "outputs": [
        {
          "output_type": "stream",
          "name": "stdout",
          "text": [
            "torch.Size([64, 72]) torch.Size([64, 72])\n",
            "torch.Size([64, 72]) torch.Size([64, 72])\n",
            "torch.Size([64, 72]) torch.Size([64, 72])\n",
            "torch.Size([64, 72]) torch.Size([64, 72])\n",
            "torch.Size([64, 72]) torch.Size([64, 72])\n",
            "torch.Size([64, 72]) torch.Size([64, 72])\n",
            "torch.Size([64, 72]) torch.Size([64, 72])\n",
            "torch.Size([64, 72]) torch.Size([64, 72])\n",
            "torch.Size([64, 72]) torch.Size([64, 72])\n",
            "torch.Size([64, 72]) torch.Size([64, 72])\n",
            "torch.Size([64, 72]) torch.Size([64, 72])\n",
            "torch.Size([64, 72]) torch.Size([64, 72])\n",
            "torch.Size([64, 72]) torch.Size([64, 72])\n",
            "torch.Size([64, 72]) torch.Size([64, 72])\n",
            "torch.Size([64, 72]) torch.Size([64, 72])\n",
            "torch.Size([64, 72]) torch.Size([64, 72])\n",
            "torch.Size([64, 72]) torch.Size([64, 72])\n",
            "torch.Size([64, 72]) torch.Size([64, 72])\n",
            "torch.Size([64, 72]) torch.Size([64, 72])\n",
            "torch.Size([64, 72]) torch.Size([64, 72])\n",
            "torch.Size([64, 72]) torch.Size([64, 72])\n",
            "torch.Size([64, 72]) torch.Size([64, 72])\n",
            "torch.Size([64, 72]) torch.Size([64, 72])\n",
            "torch.Size([64, 72]) torch.Size([64, 72])\n",
            "torch.Size([64, 72]) torch.Size([64, 72])\n",
            "torch.Size([64, 50]) torch.Size([64, 50])\n"
          ]
        }
      ]
    },
    {
      "cell_type": "markdown",
      "metadata": {
        "id": "uF3rfL9ILLOA"
      },
      "source": [
        "## Create dataloader using fastai"
      ]
    },
    {
      "cell_type": "code",
      "metadata": {
        "colab": {
          "base_uri": "https://localhost:8080/"
        },
        "id": "cILz9WCzK27K",
        "outputId": "6086527c-08a4-4802-e2a0-7eebd834abd7"
      },
      "source": [
        "bon_jovi_block = DataBlock(\n",
        "    blocks=TextBlock.from_df('artist_df', seq_len=72, is_lm=True),\n",
        "    get_items=ColReader('Lyric')\n",
        ")\n",
        "bon_jovi_block"
      ],
      "execution_count": 37,
      "outputs": [
        {
          "output_type": "execute_result",
          "data": {
            "text/plain": [
              "<fastai.data.block.DataBlock at 0x7f428a4a1850>"
            ]
          },
          "metadata": {},
          "execution_count": 37
        }
      ]
    },
    {
      "cell_type": "code",
      "metadata": {
        "colab": {
          "base_uri": "https://localhost:8080/",
          "height": 349
        },
        "id": "WCIO_OFzL4B7",
        "outputId": "6b7a7d13-e4e3-46e9-b54c-08383a213fd3"
      },
      "source": [
        "dls_lm = bon_jovi_block.dataloaders(artist_df, bs=128, seq_len=80)\n",
        "dls_lm.show_batch(max_n=2)"
      ],
      "execution_count": 38,
      "outputs": [
        {
          "output_type": "display_data",
          "data": {
            "text/html": [
              "<table border=\"1\" class=\"dataframe\">\n",
              "  <thead>\n",
              "    <tr style=\"text-align: right;\">\n",
              "      <th></th>\n",
              "      <th>text</th>\n",
              "      <th>text_</th>\n",
              "    </tr>\n",
              "  </thead>\n",
              "  <tbody>\n",
              "    <tr>\n",
              "      <th>0</th>\n",
              "      <td>xxbos xxmaj you can lock up all the doors . xxmaj pull up the covers . xxmaj turn out the lights . xxmaj i 'll know where you are . xxmaj it 's alright . xxmaj you can go ahead and hide . xxmaj you know you ca n't keep me out . xxmaj i 'll find my way . xxmaj i 'm here to stay . xxmaj even the cops ca n't save you now . xxmaj hey baby</td>\n",
              "      <td>xxmaj you can lock up all the doors . xxmaj pull up the covers . xxmaj turn out the lights . xxmaj i 'll know where you are . xxmaj it 's alright . xxmaj you can go ahead and hide . xxmaj you know you ca n't keep me out . xxmaj i 'll find my way . xxmaj i 'm here to stay . xxmaj even the cops ca n't save you now . xxmaj hey baby xxmaj</td>\n",
              "    </tr>\n",
              "    <tr>\n",
              "      <th>1</th>\n",
              "      <td>daddy does n't understand it , . xxmaj he always said she was good as gold , . xxmaj and he can see ( no reasons ) . 'cause there are ( no reasons ) . xxmaj what reason do you need to be xxunk . ( tell me why ) i do n't like xxmaj mondays ( xxunk ) . i want to shoot the whole day down . xxmaj the xxunk xxunk is xxunk so xxunk . xxmaj</td>\n",
              "      <td>does n't understand it , . xxmaj he always said she was good as gold , . xxmaj and he can see ( no reasons ) . 'cause there are ( no reasons ) . xxmaj what reason do you need to be xxunk . ( tell me why ) i do n't like xxmaj mondays ( xxunk ) . i want to shoot the whole day down . xxmaj the xxunk xxunk is xxunk so xxunk . xxmaj and</td>\n",
              "    </tr>\n",
              "  </tbody>\n",
              "</table>"
            ],
            "text/plain": [
              "<IPython.core.display.HTML object>"
            ]
          },
          "metadata": {}
        }
      ]
    },
    {
      "cell_type": "markdown",
      "metadata": {
        "id": "yB0qZ-OfO-RH"
      },
      "source": [
        "# Train a model using transfer learning"
      ]
    },
    {
      "cell_type": "code",
      "metadata": {
        "colab": {
          "base_uri": "https://localhost:8080/",
          "height": 320
        },
        "id": "aVdFZNAuPCB6",
        "outputId": "ebf148e4-fba5-4591-dfe6-d108f8c359d1"
      },
      "source": [
        "learn = language_model_learner(dls_lm, AWD_LSTM, drop_mult=0.3, metrics=accuracy)\n",
        "\n",
        "learn.lr_find()"
      ],
      "execution_count": 40,
      "outputs": [
        {
          "output_type": "display_data",
          "data": {
            "text/html": [
              "\n",
              "    <div>\n",
              "        <style>\n",
              "            /* Turns off some styling */\n",
              "            progress {\n",
              "                /* gets rid of default border in Firefox and Opera. */\n",
              "                border: none;\n",
              "                /* Needs to be in here for Safari polyfill so background images work as expected. */\n",
              "                background-size: auto;\n",
              "            }\n",
              "            .progress-bar-interrupted, .progress-bar-interrupted::-webkit-progress-bar {\n",
              "                background: #F44336;\n",
              "            }\n",
              "        </style>\n",
              "      <progress value='105070592' class='' max='105067061' style='width:300px; height:20px; vertical-align: middle;'></progress>\n",
              "      100.00% [105070592/105067061 00:01<00:00]\n",
              "    </div>\n",
              "    "
            ],
            "text/plain": [
              "<IPython.core.display.HTML object>"
            ]
          },
          "metadata": {}
        },
        {
          "output_type": "display_data",
          "data": {
            "text/html": [
              ""
            ],
            "text/plain": [
              "<IPython.core.display.HTML object>"
            ]
          },
          "metadata": {}
        },
        {
          "output_type": "execute_result",
          "data": {
            "text/plain": [
              "SuggestedLRs(valley=0.004365158267319202)"
            ]
          },
          "metadata": {},
          "execution_count": 40
        },
        {
          "output_type": "display_data",
          "data": {
            "image/png": "[encoded data removed]",
            "text/plain": [
              "<Figure size 432x288 with 1 Axes>"
            ]
          },
          "metadata": {
            "needs_background": "light"
          }
        }
      ]
    },
    {
      "cell_type": "code",
      "metadata": {
        "colab": {
          "base_uri": "https://localhost:8080/",
          "height": 204
        },
        "id": "0H1wfwswPLQj",
        "outputId": "00193a3f-be03-4ede-9a4c-ac0560360c1b"
      },
      "source": [
        "learn.fit_one_cycle(5, 0.004)"
      ],
      "execution_count": 41,
      "outputs": [
        {
          "output_type": "display_data",
          "data": {
            "text/html": [
              "<table border=\"1\" class=\"dataframe\">\n",
              "  <thead>\n",
              "    <tr style=\"text-align: left;\">\n",
              "      <th>epoch</th>\n",
              "      <th>train_loss</th>\n",
              "      <th>valid_loss</th>\n",
              "      <th>accuracy</th>\n",
              "      <th>time</th>\n",
              "    </tr>\n",
              "  </thead>\n",
              "  <tbody>\n",
              "    <tr>\n",
              "      <td>0</td>\n",
              "      <td>4.215540</td>\n",
              "      <td>3.848898</td>\n",
              "      <td>0.299100</td>\n",
              "      <td>00:11</td>\n",
              "    </tr>\n",
              "    <tr>\n",
              "      <td>1</td>\n",
              "      <td>4.058708</td>\n",
              "      <td>3.656788</td>\n",
              "      <td>0.309193</td>\n",
              "      <td>00:11</td>\n",
              "    </tr>\n",
              "    <tr>\n",
              "      <td>2</td>\n",
              "      <td>3.891695</td>\n",
              "      <td>3.558534</td>\n",
              "      <td>0.318348</td>\n",
              "      <td>00:11</td>\n",
              "    </tr>\n",
              "    <tr>\n",
              "      <td>3</td>\n",
              "      <td>3.762478</td>\n",
              "      <td>3.521350</td>\n",
              "      <td>0.321963</td>\n",
              "      <td>00:11</td>\n",
              "    </tr>\n",
              "    <tr>\n",
              "      <td>4</td>\n",
              "      <td>3.672122</td>\n",
              "      <td>3.514428</td>\n",
              "      <td>0.322543</td>\n",
              "      <td>00:11</td>\n",
              "    </tr>\n",
              "  </tbody>\n",
              "</table>"
            ],
            "text/plain": [
              "<IPython.core.display.HTML object>"
            ]
          },
          "metadata": {}
        }
      ]
    },
    {
      "cell_type": "code",
      "metadata": {
        "colab": {
          "base_uri": "https://localhost:8080/",
          "height": 300
        },
        "id": "nTDK14awVKqz",
        "outputId": "6016a2c2-83cf-4987-9b53-985554180c6b"
      },
      "source": [
        "learn.unfreeze()\n",
        "learn.lr_find()"
      ],
      "execution_count": 42,
      "outputs": [
        {
          "output_type": "display_data",
          "data": {
            "text/html": [
              ""
            ],
            "text/plain": [
              "<IPython.core.display.HTML object>"
            ]
          },
          "metadata": {}
        },
        {
          "output_type": "execute_result",
          "data": {
            "text/plain": [
              "SuggestedLRs(valley=0.0002754228771664202)"
            ]
          },
          "metadata": {},
          "execution_count": 42
        },
        {
          "output_type": "display_data",
          "data": {
            "image/png": "[encoded data removed]",
            "text/plain": [
              "<Figure size 432x288 with 1 Axes>"
            ]
          },
          "metadata": {
            "needs_background": "light"
          }
        }
      ]
    },
    {
      "cell_type": "code",
      "metadata": {
        "colab": {
          "base_uri": "https://localhost:8080/",
          "height": 669
        },
        "id": "c_jFvBWoVP6h",
        "outputId": "fb87f4b3-cc53-43a3-d9f1-c4f915d0fac9"
      },
      "source": [
        "# train for 20 more epochs on the new lr\n",
        "learn.fit_one_cycle(20, lr_max=slice(3e-6, 3e-4))"
      ],
      "execution_count": 43,
      "outputs": [
        {
          "output_type": "display_data",
          "data": {
            "text/html": [
              "<table border=\"1\" class=\"dataframe\">\n",
              "  <thead>\n",
              "    <tr style=\"text-align: left;\">\n",
              "      <th>epoch</th>\n",
              "      <th>train_loss</th>\n",
              "      <th>valid_loss</th>\n",
              "      <th>accuracy</th>\n",
              "      <th>time</th>\n",
              "    </tr>\n",
              "  </thead>\n",
              "  <tbody>\n",
              "    <tr>\n",
              "      <td>0</td>\n",
              "      <td>3.465873</td>\n",
              "      <td>3.512089</td>\n",
              "      <td>0.322673</td>\n",
              "      <td>00:13</td>\n",
              "    </tr>\n",
              "    <tr>\n",
              "      <td>1</td>\n",
              "      <td>3.454876</td>\n",
              "      <td>3.504663</td>\n",
              "      <td>0.323204</td>\n",
              "      <td>00:13</td>\n",
              "    </tr>\n",
              "    <tr>\n",
              "      <td>2</td>\n",
              "      <td>3.444274</td>\n",
              "      <td>3.490720</td>\n",
              "      <td>0.324891</td>\n",
              "      <td>00:13</td>\n",
              "    </tr>\n",
              "    <tr>\n",
              "      <td>3</td>\n",
              "      <td>3.435600</td>\n",
              "      <td>3.471388</td>\n",
              "      <td>0.327572</td>\n",
              "      <td>00:13</td>\n",
              "    </tr>\n",
              "    <tr>\n",
              "      <td>4</td>\n",
              "      <td>3.417280</td>\n",
              "      <td>3.451654</td>\n",
              "      <td>0.327541</td>\n",
              "      <td>00:13</td>\n",
              "    </tr>\n",
              "    <tr>\n",
              "      <td>5</td>\n",
              "      <td>3.395932</td>\n",
              "      <td>3.431502</td>\n",
              "      <td>0.328837</td>\n",
              "      <td>00:13</td>\n",
              "    </tr>\n",
              "    <tr>\n",
              "      <td>6</td>\n",
              "      <td>3.380058</td>\n",
              "      <td>3.417701</td>\n",
              "      <td>0.328824</td>\n",
              "      <td>00:13</td>\n",
              "    </tr>\n",
              "    <tr>\n",
              "      <td>7</td>\n",
              "      <td>3.361228</td>\n",
              "      <td>3.403436</td>\n",
              "      <td>0.329377</td>\n",
              "      <td>00:13</td>\n",
              "    </tr>\n",
              "    <tr>\n",
              "      <td>8</td>\n",
              "      <td>3.333772</td>\n",
              "      <td>3.388666</td>\n",
              "      <td>0.330775</td>\n",
              "      <td>00:13</td>\n",
              "    </tr>\n",
              "    <tr>\n",
              "      <td>9</td>\n",
              "      <td>3.307049</td>\n",
              "      <td>3.376151</td>\n",
              "      <td>0.332198</td>\n",
              "      <td>00:13</td>\n",
              "    </tr>\n",
              "    <tr>\n",
              "      <td>10</td>\n",
              "      <td>3.287377</td>\n",
              "      <td>3.367988</td>\n",
              "      <td>0.332579</td>\n",
              "      <td>00:13</td>\n",
              "    </tr>\n",
              "    <tr>\n",
              "      <td>11</td>\n",
              "      <td>3.263412</td>\n",
              "      <td>3.356426</td>\n",
              "      <td>0.334925</td>\n",
              "      <td>00:13</td>\n",
              "    </tr>\n",
              "    <tr>\n",
              "      <td>12</td>\n",
              "      <td>3.239452</td>\n",
              "      <td>3.349009</td>\n",
              "      <td>0.335849</td>\n",
              "      <td>00:13</td>\n",
              "    </tr>\n",
              "    <tr>\n",
              "      <td>13</td>\n",
              "      <td>3.219119</td>\n",
              "      <td>3.343701</td>\n",
              "      <td>0.336663</td>\n",
              "      <td>00:13</td>\n",
              "    </tr>\n",
              "    <tr>\n",
              "      <td>14</td>\n",
              "      <td>3.199347</td>\n",
              "      <td>3.338786</td>\n",
              "      <td>0.338373</td>\n",
              "      <td>00:13</td>\n",
              "    </tr>\n",
              "    <tr>\n",
              "      <td>15</td>\n",
              "      <td>3.187453</td>\n",
              "      <td>3.335432</td>\n",
              "      <td>0.338884</td>\n",
              "      <td>00:13</td>\n",
              "    </tr>\n",
              "    <tr>\n",
              "      <td>16</td>\n",
              "      <td>3.175823</td>\n",
              "      <td>3.333672</td>\n",
              "      <td>0.339581</td>\n",
              "      <td>00:13</td>\n",
              "    </tr>\n",
              "    <tr>\n",
              "      <td>17</td>\n",
              "      <td>3.162176</td>\n",
              "      <td>3.332709</td>\n",
              "      <td>0.339646</td>\n",
              "      <td>00:13</td>\n",
              "    </tr>\n",
              "    <tr>\n",
              "      <td>18</td>\n",
              "      <td>3.150210</td>\n",
              "      <td>3.332271</td>\n",
              "      <td>0.339744</td>\n",
              "      <td>00:13</td>\n",
              "    </tr>\n",
              "    <tr>\n",
              "      <td>19</td>\n",
              "      <td>3.140052</td>\n",
              "      <td>3.332193</td>\n",
              "      <td>0.339809</td>\n",
              "      <td>00:13</td>\n",
              "    </tr>\n",
              "  </tbody>\n",
              "</table>"
            ],
            "text/plain": [
              "<IPython.core.display.HTML object>"
            ]
          },
          "metadata": {}
        }
      ]
    },
    {
      "cell_type": "markdown",
      "metadata": {
        "id": "3v8sTDVXVlOU"
      },
      "source": [
        "# Predictions with Bon Jovi Model"
      ]
    },
    {
      "cell_type": "code",
      "metadata": {
        "id": "NrvVHSD1V_-V"
      },
      "source": [
        "def get_most_complex(start_text, preds):\n",
        "  max_len = 0\n",
        "  max_i = -1\n",
        "  for i, pred in enumerate(preds):\n",
        "    pred_cardinality = len(set(pred.split()))\n",
        "    if pred_cardinality > max_len:\n",
        "      max_len = pred_cardinality\n",
        "      max_i = i\n",
        "  \n",
        "  return_str = preds[max_i]\n",
        "\n",
        "  val = -1\n",
        "  occurrence = len(start_text.split())\n",
        "  for i in range(0, occurrence):\n",
        "    val = return_str.find(' ', val + 1)\n",
        "\n",
        "  return start_text + return_str[val:return_str.rfind('.')+1]\n"
      ],
      "execution_count": 60,
      "outputs": []
    },
    {
      "cell_type": "code",
      "metadata": {
        "colab": {
          "base_uri": "https://localhost:8080/",
          "height": 37
        },
        "id": "26si1FMgXf7n",
        "outputId": "e86b1008-9f60-4873-af4e-6a5056cd419c"
      },
      "source": [
        "preds = ['hello', 'hello. goodbye', 'unk unkkk the most most most most complex. nahhhhh nahh']\n",
        "\n",
        "get_most_complex('this is', preds)"
      ],
      "execution_count": 62,
      "outputs": [
        {
          "output_type": "execute_result",
          "data": {
            "application/vnd.google.colaboratory.intrinsic+json": {
              "type": "string"
            },
            "text/plain": [
              "'this is the most most most most complex.'"
            ]
          },
          "metadata": {},
          "execution_count": 62
        }
      ]
    },
    {
      "cell_type": "code",
      "metadata": {
        "colab": {
          "base_uri": "https://localhost:8080/",
          "height": 88
        },
        "id": "D0AIPXebX9QO",
        "outputId": "e358e6c3-575e-45fb-b95a-13496ce50805"
      },
      "source": [
        "start_text = \"I'm an english man in new york\"\n",
        "words = 60\n",
        "sentences = 5\n",
        "preds = [learn.predict(start_text, words, temperature=0.75)\n",
        "         for sentence in range(sentences)]\n",
        "\n",
        "get_most_complex(start_text, preds)"
      ],
      "execution_count": 64,
      "outputs": [
        {
          "output_type": "display_data",
          "data": {
            "text/html": [
              ""
            ],
            "text/plain": [
              "<IPython.core.display.HTML object>"
            ]
          },
          "metadata": {}
        },
        {
          "output_type": "display_data",
          "data": {
            "text/html": [
              ""
            ],
            "text/plain": [
              "<IPython.core.display.HTML object>"
            ]
          },
          "metadata": {}
        },
        {
          "output_type": "display_data",
          "data": {
            "text/html": [
              ""
            ],
            "text/plain": [
              "<IPython.core.display.HTML object>"
            ]
          },
          "metadata": {}
        },
        {
          "output_type": "display_data",
          "data": {
            "text/html": [
              ""
            ],
            "text/plain": [
              "<IPython.core.display.HTML object>"
            ]
          },
          "metadata": {}
        },
        {
          "output_type": "display_data",
          "data": {
            "text/html": [
              ""
            ],
            "text/plain": [
              "<IPython.core.display.HTML object>"
            ]
          },
          "metadata": {}
        },
        {
          "output_type": "execute_result",
          "data": {
            "application/vnd.google.colaboratory.intrinsic+json": {
              "type": "string"
            },
            "text/plain": [
              "\"I'm an english man in new york york with a blue sign on my back . I do 'm shine , i n't gon na shake my hands on my own . You ca n't try to get up and lose . You 're running around , in the street where i was . But your heart is standing .\""
            ]
          },
          "metadata": {},
          "execution_count": 64
        }
      ]
    },
    {
      "cell_type": "code",
      "metadata": {
        "colab": {
          "base_uri": "https://localhost:8080/",
          "height": 71
        },
        "id": "5zy0TqNKa4pS",
        "outputId": "2a171fcd-6e90-475b-8383-ff22a33d5538"
      },
      "source": [
        "start_text = \"Living on a prayer\"\n",
        "words = 60\n",
        "sentences = 5\n",
        "preds = [learn.predict(start_text, words, temperature=0.75)\n",
        "         for sentence in range(sentences)]\n",
        "\n",
        "get_most_complex(start_text, preds)"
      ],
      "execution_count": 65,
      "outputs": [
        {
          "output_type": "display_data",
          "data": {
            "text/html": [
              ""
            ],
            "text/plain": [
              "<IPython.core.display.HTML object>"
            ]
          },
          "metadata": {}
        },
        {
          "output_type": "display_data",
          "data": {
            "text/html": [
              ""
            ],
            "text/plain": [
              "<IPython.core.display.HTML object>"
            ]
          },
          "metadata": {}
        },
        {
          "output_type": "display_data",
          "data": {
            "text/html": [
              ""
            ],
            "text/plain": [
              "<IPython.core.display.HTML object>"
            ]
          },
          "metadata": {}
        },
        {
          "output_type": "display_data",
          "data": {
            "text/html": [
              ""
            ],
            "text/plain": [
              "<IPython.core.display.HTML object>"
            ]
          },
          "metadata": {}
        },
        {
          "output_type": "display_data",
          "data": {
            "text/html": [
              ""
            ],
            "text/plain": [
              "<IPython.core.display.HTML object>"
            ]
          },
          "metadata": {}
        },
        {
          "output_type": "execute_result",
          "data": {
            "application/vnd.google.colaboratory.intrinsic+json": {
              "type": "string"
            },
            "text/plain": [
              "'Living on a prayer porch in West End , New York , DJ Robinson died in a car crash on August 3 , July 7 , of that same year . He had a broken heart and was still alive .'"
            ]
          },
          "metadata": {},
          "execution_count": 65
        }
      ]
    },
    {
      "cell_type": "code",
      "metadata": {
        "colab": {
          "base_uri": "https://localhost:8080/",
          "height": 71
        },
        "id": "L0I6b1MNbKeP",
        "outputId": "60f69c7b-d73c-45a2-8082-d1aac0f8d873"
      },
      "source": [
        "start_text = \"Where has it gone\"\n",
        "words = 60\n",
        "sentences = 5\n",
        "preds = [learn.predict(start_text, words, temperature=0.75)\n",
        "         for sentence in range(sentences)]\n",
        "\n",
        "get_most_complex(start_text, preds)"
      ],
      "execution_count": 66,
      "outputs": [
        {
          "output_type": "display_data",
          "data": {
            "text/html": [
              ""
            ],
            "text/plain": [
              "<IPython.core.display.HTML object>"
            ]
          },
          "metadata": {}
        },
        {
          "output_type": "display_data",
          "data": {
            "text/html": [
              ""
            ],
            "text/plain": [
              "<IPython.core.display.HTML object>"
            ]
          },
          "metadata": {}
        },
        {
          "output_type": "display_data",
          "data": {
            "text/html": [
              ""
            ],
            "text/plain": [
              "<IPython.core.display.HTML object>"
            ]
          },
          "metadata": {}
        },
        {
          "output_type": "display_data",
          "data": {
            "text/html": [
              ""
            ],
            "text/plain": [
              "<IPython.core.display.HTML object>"
            ]
          },
          "metadata": {}
        },
        {
          "output_type": "display_data",
          "data": {
            "text/html": [
              ""
            ],
            "text/plain": [
              "<IPython.core.display.HTML object>"
            ]
          },
          "metadata": {}
        },
        {
          "output_type": "execute_result",
          "data": {
            "application/vnd.google.colaboratory.intrinsic+json": {
              "type": "string"
            },
            "text/plain": [
              "\"Where has it gone ? i will be there . You want it . We 're not going to be there . There 's nothing that we can do . You need a lot of protection . i want to keep your plans .\""
            ]
          },
          "metadata": {},
          "execution_count": 66
        }
      ]
    },
    {
      "cell_type": "code",
      "metadata": {
        "id": "zrcLBrAHbp_c"
      },
      "source": [
        ""
      ],
      "execution_count": null,
      "outputs": []
    }
  ]
}